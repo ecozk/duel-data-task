{
 "cells": [
  {
   "cell_type": "code",
   "execution_count": null,
   "id": "672c9dad",
   "metadata": {},
   "outputs": [],
   "source": [
    "import os\n",
    "import glob\n",
    "import textgrid\n",
    "import sys\n",
    "import pandas as pd\n",
    "from re import match, sub, findall, finditer\n",
    "\n",
    "path           = './'\n",
    "word_level     = path + 'word_level'\n",
    "video          = path + 'video' \n",
    "audio          = path +'audio' \n",
    "documents      = path + 'documents', \n",
    "metadata       = path+ 'metadata', \n",
    "transcriptions = path +'transcriptions_annotations'\n",
    "root_dir = '../'\n",
    "word_level_timing = root_dir+'word_level_timings'\n",
    "motion_label = root_dir+'motion_labels'"
   ]
  },
  {
   "cell_type": "code",
   "execution_count": null,
   "id": "e9a3619a",
   "metadata": {},
   "outputs": [],
   "source": [
    "def get_all_textgrid_files(path):\n",
    "    filenames = []\n",
    "    for root, dirs, files in os.walk(path):\n",
    "        for file in files:\n",
    "            if file.endswith(\".TextGrid\"):\n",
    "                filenames.append(os.path.join(root, file))\n",
    "    return filenames\n",
    "word_level_timing_annotation = get_all_textgrid_files(word_level_timing)\n",
    "print(word_level_timing_annotation[0])      "
   ]
  },
  {
   "cell_type": "code",
   "execution_count": null,
   "id": "84ca7a82",
   "metadata": {},
   "outputs": [],
   "source": [
    "def clean_utt(utt, literal=False):\n",
    "    if not literal:\n",
    "        #replace variants, partial and misspoken words with standard spelling\n",
    "        utt = sub(\"\"\"<[vpm]=\"(.+?)\">.+?</[vpm]>\"\"\", lambda m:m.group(1), utt)\n",
    "        #remove fillers like \"{F aehm}\" entirely\n",
    "        utt = sub(\"\"\"{.*?}\"\"\", \"\", utt)\n",
    "        \n",
    "        #TO DO: resolve complex replacements like \"(der + der) + die) Katze\"\n",
    "        \n",
    "    else:\n",
    "        #remove brackets from fillers, i.e. \"{F aehm}\" becomes \"aehm\"\n",
    "        utt = sub(\"\"\"{(.*?)}\"\"\",lambda m:m.group(1),utt)\n",
    "    #remove all remaining xml-style tags    \n",
    "    utt = sub(\"\"\"<.*?>\"\"\",\"\",utt)\n",
    "    #remove open tags at the end of an utterance (can be removed once problems with the TextGrids are fixed)\n",
    "    utt = sub(\"\"\"<.*$\"\"\",\"\",utt)\n",
    "    #remove all remaining punctuation and brackets\n",
    "    utt = sub(\"\"\"[\\.:;,\\(\\)\\+\\$]\"\"\",\"\",utt)\n",
    "    #remove whitespace at the beginning and end of an utterance\n",
    "    utt = utt.strip()\n",
    "    #replace any amount of whitespace with a single space\n",
    "    utt = sub(\"\"\"\\s+\"\"\",\" \",utt)\n",
    "    return utt\n"
   ]
  },
  {
   "cell_type": "code",
   "execution_count": null,
   "id": "5e35ca3a",
   "metadata": {},
   "outputs": [],
   "source": [
    "for files in word_level_timing_annotation:\n",
    "    for index , tg in enumerate(textgrid.TextGrid.fromFile(files)):\n",
    "        for interval in tg:\n",
    "            print(clean_utt(interval.mark))"
   ]
  },
  {
   "cell_type": "code",
   "execution_count": null,
   "id": "6dc9af18",
   "metadata": {},
   "outputs": [],
   "source": []
  }
 ],
 "metadata": {
  "kernelspec": {
   "display_name": "Python 3 (ipykernel)",
   "language": "python",
   "name": "python3"
  },
  "language_info": {
   "codemirror_mode": {
    "name": "ipython",
    "version": 3
   },
   "file_extension": ".py",
   "mimetype": "text/x-python",
   "name": "python",
   "nbconvert_exporter": "python",
   "pygments_lexer": "ipython3",
   "version": "3.11.4"
  }
 },
 "nbformat": 4,
 "nbformat_minor": 5
}
