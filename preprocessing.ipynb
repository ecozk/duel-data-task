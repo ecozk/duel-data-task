{
 "cells": [
  {
   "cell_type": "code",
   "execution_count": 7,
   "id": "672c9dad",
   "metadata": {},
   "outputs": [],
   "source": [
    "import os\n",
    "import glob\n",
    "import textgrid\n",
    "import sys\n",
    "import pandas as pd\n",
    "path           = './'\n",
    "word_level     = path + 'word_level'\n",
    "video          = path + 'video' \n",
    "audio          = path +'audio' \n",
    "documents      = path + 'documents', \n",
    "metadata       = path+ 'metadata', \n",
    "transcriptions = path +'transcriptions_annotations'"
   ]
  },
  {
   "cell_type": "code",
   "execution_count": 8,
   "id": "e9a3619a",
   "metadata": {},
   "outputs": [],
   "source": [
    "def get_all_textgrid_files(path):\n",
    "    filenames = []\n",
    "    for root, dirs, files in os.walk(path):\n",
    "        for file in files:\n",
    "            if file.endswith(\".TextGrid\"):\n",
    "                filenames.append(os.path.join(root, file))\n",
    "    return filenames\n",
    "annotation = get_all_textgrid_files(transcriptions)\n",
    "word_level_annotation = get_all_textgrid_files(word_level)"
   ]
  },
  {
   "cell_type": "code",
   "execution_count": 9,
   "id": "84ca7a82",
   "metadata": {},
   "outputs": [
    {
     "name": "stdout",
     "output_type": "stream",
     "text": [
      "./transcriptions_annotations/r2/r2.TextGrid\n"
     ]
    }
   ],
   "source": [
    "anno = annotation[-1]\n",
    "print(anno)"
   ]
  },
  {
   "cell_type": "code",
   "execution_count": 10,
   "id": "5e35ca3a",
   "metadata": {},
   "outputs": [
    {
     "name": "stdout",
     "output_type": "stream",
     "text": [
      "./word_level/r2B_wordlevel.TextGrid\n"
     ]
    }
   ],
   "source": [
    "word_level = word_level_annotation[-1]\n",
    "print(word_level)"
   ]
  },
  {
   "cell_type": "code",
   "execution_count": 48,
   "id": "6dc9af18",
   "metadata": {},
   "outputs": [],
   "source": [
    "def search_word_level(path, minTime, maxTime, text):\n",
    "    tg = textgrid.TextGrid.fromFile(path)\n",
    "    annotation = []\n",
    "    for index, tier in enumerate(tg):\n",
    "        for interval in tier:\n",
    "            if interval.minTime >= minTime and interval.maxTime <= maxTime and tier.name == \"ORT-MAU\" and interval.mark==text:\n",
    "                annotation.append((tier.name, interval.minTime, interval.maxTime, interval.mark))\n",
    "    return annotation"
   ]
  },
  {
   "cell_type": "code",
   "execution_count": 53,
   "id": "f99ce49a",
   "metadata": {},
   "outputs": [
    {
     "name": "stdout",
     "output_type": "stream",
     "text": [
      "[('.', 553.78297, 559.48042), (')', 573.71455, 577.8176), (\"<v='eine'>'ne</v>\", 596.57193, 599.58429), (')', 612.05256, 615.54967), ('(', 668.1045, 671.3852), ('zu', 668.1045, 671.3852), (')', 680.33738, 683.39303), ('', 698.01669, 700.90953), ('{F', 710.11274, 718.46764), ('/genau', 710.11274, 718.46764), (\"(<p='wenn'>w-</p>\", 768.19888, 773.00474), ('wenn', 768.19888, 773.00474), ('auf', 794.034, 799.8947), (\"(<p='Wohnzimmer'>w-</p>+\", 794.034, 799.8947), ('im', 794.034, 799.8947), ('...', 824.34604, 830.68405), ('dann', 848.0171, 852.75371), ('so', 882.68322, 887.26401), ('(', 898.79741, 903.23805), ('was', 898.79741, 903.23805), ('Wohnzimmer)', 910.51958, 914.30234), ('fünfzig', 915.63706, 916.93549), (\"(<p='immer'>\", 955.30688, 957.07275), ('', 955.30688, 957.07275), (\"<v='eine'>'ne</v>\", 1023.27309, 1026.64901), ('', 1107.02122, 1108.63128), (')', 1121.09963, 1124.18599), ('wenn', 1151.5674, 1159.35099), ('den', 1165.0571, 1168.00886), ('<laughter/>', 1171.14821, 1176.61219), ('siebzehn', 1196.91777, 1199.09047), ('', 1277.72279, 1281.30646), ('..', 1283.04802, 1289.19393), ('für', 1293.90457, 1297.9124), ('{F', 1323.21249, 1326.1556), ('der', 1347.25577, 1349.84398), ('und', 1359.48866, 1365.85264), (')', 1374.68363, 1378.89221), ('.', 1394.34687, 1399.80028), (')', 1413.31595, 1415.92147), ('die', 1418.76237, 1423.58388)]\n",
      "[(')', 638.45033, 641.94744), ('(das', 644.41612, 650.55337), ('das', 644.41612, 650.55337), (')', 756.21703, 760.55379), ('.', 778.54472, 781.94827), ('aber', 812.71043, 816.32873), (')', 874.07728, 875.26318), ('bei', 878.91777, 880.89138), (')', 908.0439, 911.32461), ('ja', 931.58513, 932.09584), ('{F', 999.86129, 1004.62387), (\"<v='kennst\", 1008.14695, 1017.6791), ('so', 1008.14695, 1017.6791), ('wie', 1034.8044, 1035.87777), (')', 1071.48908, 1075.07275), ('{also}', 1127.51504, 1129.91281), (')', 1183.31595, 1185.03854), ('(', 1203.01215, 1205.79246), ('sagen', 1203.01215, 1205.79246), ('', 1206.65808, 1211.4521), ('<laughter>jetziges</laughter>', 1206.65808, 1211.4521), (')', 1226.87532, 1229.41159), ('allen', 1243.57647, 1252.22568), ('...', 1243.57647, 1252.22568), ('Räume', 1282.06863, 1284.26897), ('Lern-Neben-Zimmer', 1351.61026, 1359.69682), ('die', 1367.27267, 1369.79163)]\n"
     ]
    }
   ],
   "source": [
    "r2_annotation = textgrid.TextGrid.fromFile(anno)\n",
    "A_utters = []\n",
    "B_utters = []\n",
    "for index, tier in enumerate(r2_annotation):\n",
    "    for interval in tier:\n",
    "        if '+' in interval.mark:\n",
    "            marks = interval.mark.split('+')\n",
    "            substring = \"\"\n",
    "            list_of_dis = []\n",
    "            for pos, char in enumerate(interval.mark):\n",
    "                plus_index = -1\n",
    "                if char == \"+\":\n",
    "                    substring = interval.mark[pos:]\n",
    "#                     print(f\"subtring {substring}\")\n",
    "#                     print(substring.split(\" \"))\n",
    "#                     print(interval.mark)\n",
    "#                     print(tier.name, substring.split(\" \")[1])\n",
    "                    if tier.name == \"A-utts\":\n",
    "                        A_utters.append(  (substring.split(\" \")[1], interval.minTime, interval.maxTime)  )\n",
    "                    if tier.name == \"B-utts\":\n",
    "                        B_utters.append( (substring.split(\" \")[1], interval.minTime, interval.maxTime)   )\n",
    "print(A_utters)\n",
    "print(B_utters)"
   ]
  },
  {
   "cell_type": "code",
   "execution_count": 64,
   "id": "b06bb23b",
   "metadata": {},
   "outputs": [
    {
     "name": "stdout",
     "output_type": "stream",
     "text": [
      "41\n"
     ]
    }
   ],
   "source": [
    "print(len(A_utters))\n",
    "word_level = word_level_annotation[-1]\n",
    "print()\n",
    "\n",
    "# A_word_level = []\n",
    "# for utters in A_utters:\n",
    "# #     print(utters)\n",
    "#     text, minTime, maxTime = utters\n",
    "#     if len(search_word_level('./word_level/r2A_wordlevel.TextGrid', minTime, maxTime, text)) > 0:\n",
    "# #         print(\"--->\", search_word_level('./word_level/r2A_wordlevel.TextGrid', minTime, maxTime, text))\n",
    "#         A_word_level.extend(search_word_level('./word_level/r2A_wordlevel.TextGrid', minTime, maxTime, text))\n",
    "# print(len(A_word_level))"
   ]
  },
  {
   "cell_type": "code",
   "execution_count": 65,
   "id": "d17792bd",
   "metadata": {},
   "outputs": [
    {
     "name": "stdout",
     "output_type": "stream",
     "text": [
      "27\n"
     ]
    }
   ],
   "source": [
    "print(len(B_utters))"
   ]
  },
  {
   "cell_type": "code",
   "execution_count": 63,
   "id": "d5e99f57",
   "metadata": {},
   "outputs": [
    {
     "name": "stdout",
     "output_type": "stream",
     "text": [
      "2\n"
     ]
    }
   ],
   "source": [
    "# B_word_level = []\n",
    "# for utters in B_utters:\n",
    "# #     print(utters)\n",
    "#     text, minTime, maxTime = utters\n",
    "#     if len(search_word_level('./word_level/r2B_wordlevel.TextGrid', minTime, maxTime, text)) > 0:\n",
    "# #         print(\"--->\", search_word_level('./word_level/r2A_wordlevel.TextGrid', minTime, maxTime, text))\n",
    "#         B_word_level.extend(search_word_level('./word_level/r2A_wordlevel.TextGrid', minTime, maxTime, text))\n",
    "# print(len(B_word_level))"
   ]
  },
  {
   "cell_type": "code",
   "execution_count": null,
   "id": "265aee24",
   "metadata": {},
   "outputs": [],
   "source": []
  },
  {
   "cell_type": "code",
   "execution_count": null,
   "id": "2455a139",
   "metadata": {},
   "outputs": [],
   "source": []
  }
 ],
 "metadata": {
  "kernelspec": {
   "display_name": "Python 3 (ipykernel)",
   "language": "python",
   "name": "python3"
  },
  "language_info": {
   "codemirror_mode": {
    "name": "ipython",
    "version": 3
   },
   "file_extension": ".py",
   "mimetype": "text/x-python",
   "name": "python",
   "nbconvert_exporter": "python",
   "pygments_lexer": "ipython3",
   "version": "3.9.10"
  }
 },
 "nbformat": 4,
 "nbformat_minor": 5
}
