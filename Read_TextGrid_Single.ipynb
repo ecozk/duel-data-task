{
 "cells": [
  {
   "cell_type": "code",
   "execution_count": 1,
   "id": "080cbf1c-6317-43a5-96e8-c227198b2623",
   "metadata": {
    "tags": []
   },
   "outputs": [],
   "source": [
    "import pandas as pd\n",
    "import numpy as np\n",
    "import tgt"
   ]
  },
  {
   "cell_type": "code",
   "execution_count": 2,
   "id": "97b17fd9-dae5-418c-a561-f8e348c02c2a",
   "metadata": {
    "tags": []
   },
   "outputs": [],
   "source": [
    "import re"
   ]
  },
  {
   "cell_type": "code",
   "execution_count": 4,
   "id": "6c94281f-7341-4ca1-8bd5-64adacbeef2c",
   "metadata": {
    "tags": []
   },
   "outputs": [],
   "source": [
    "# Read the TextGrid\n",
    "\n",
    "tg_path = 'r1.TextGrid'\n",
    "tg = tgt.read_textgrid(tg_path) # my text grid files\n",
    "# tg_part = tgt.TextGrid()"
   ]
  },
  {
   "cell_type": "code",
   "execution_count": 5,
   "id": "9e44e322-d00c-4ea4-890a-6666f0ef1907",
   "metadata": {
    "tags": []
   },
   "outputs": [],
   "source": [
    "tg2 = tgt.read_textgrid(tg_path)"
   ]
  },
  {
   "cell_type": "code",
   "execution_count": 6,
   "id": "daad5d84-1399-42ac-8220-5ca557161a86",
   "metadata": {
    "tags": []
   },
   "outputs": [
    {
     "data": {
      "text/plain": [
       "['B-utts',\n",
       " 'B-turns',\n",
       " 'A-turns',\n",
       " 'Comments',\n",
       " 'A-laughter',\n",
       " 'Part',\n",
       " 'B-laughter',\n",
       " 'A-utts']"
      ]
     },
     "execution_count": 6,
     "metadata": {},
     "output_type": "execute_result"
    }
   ],
   "source": [
    "tg.get_tier_names()"
   ]
  },
  {
   "cell_type": "code",
   "execution_count": 6,
   "id": "ae3a7ed8-4605-4cb7-990d-807f66eb8b87",
   "metadata": {
    "collapsed": true,
    "jupyter": {
     "outputs_hidden": true
    },
    "tags": []
   },
   "outputs": [
    {
     "data": {
      "text/plain": [
       "[IntervalTier(start_time=0.0, end_time=1321.59253469, name=\"B-utts\", objects=[Interval(547.168715722, 547.610182668, \"ja\"), Interval(547.809275604, 548.23343012, \"{F äh:m:}\"), Interval(549.931710778, 564.493126363, \"okay also ( wenn wir + wenn wir ) <v='eine'>'ne</v> Küche haben ein {F ähm} Wohnzimmer zusammen haben und {F äh} ein Badezimmer das ist ja so wie in <v='einer'>'ner</v> WG <nv type='breathing'/> brauchen wir auf jeden Fall <nv type='breathing'/> jeder so große Zimmer dass jeweils unsere <laughter> Partner die dann ja auch noch zu Besuch kommen </laughter> <nv type='breathing'/> {F ähm } auch noch Platz finden\"), Interval(567.437901927, 575.437906829, \"also ich <v='würde'>würd'</v> sagen der zentrale Treffpunkt ist entweder die Küche . die sich so in der Mitte der Wohnung befindet Küche und Wohnzimmer <nv type='breathing'/> und von da aus gehen dann so ab die Zimmer\"), Interval(575.437906829, 579.774670354, \"dann hat jeder genug Privatsphäre .. mit seinem <laughter> Partner </laughter> <laughterOffset/>\"), Interval(579.800638998, 586.147306907, \"(und die Küche + (und die +  {F ähm} (und die + ... und das Wohnzimmer)))  ist quasi so ... mittig\"), Interval(586.450274419, 587.497676388, \"das <v='fände'>fänd'</v> ich ganz gut\"), Interval(588.969232874, 594.107821925, \"also wäre jetzt die Frage ob wir <v='einen'>'n</v> Flur haben <laughter/><laughterOffset/> der dahin führt oder ob man direkt durch\"), Interval(594.107821925, 596.571051903, \"also es gibt ja auch so Wohnungen wo man dann <nv type='breathing'/> direkt {F ähm}\"), Interval(599.22151617, 600.796947231, \"ja oder im Wohnzimmer steht\"), Interval(600.796947231, 601.480788186, \"<v='fände'>fänd'</v> ich glaub ich -\"), Interval(603.367842973, 605.1596794, \"also so <v='ein'>'n</v> kleiner Flur <v='wäre'>wär'</v> schon ganz gut\"), Interval(608.459359763, 608.944107782, \"ja\"), Interval(609.688542239, 611.636190529, \"<laughter> das ist richtig </laughter> <laughterOffset/>\"), Interval(611.644846743, 612.96924758, \"okay also {F ähm} <v='würde'>würd'</v> ich sagen\"), Interval(613.247909041, 614.000999713, \"man kommt rein\"), Interval(614.200092649, 618.718636681, \"soll ich dir einfach erstmal meinen Plan erzählen und dann sagst du mir wie du das findest und dann {F ähm} sagst du mir deinen\"), Interval(618.718636681, 619.012947978, \"okay\"), Interval(619.385165207, 624.303557704, \"also man kommt rein . dann hat man erstmal (so <v='ein'>'n</v> + {F ähm} so <v='ein'>'n</v>) kleines Stück Flur also quasi ( so + so ) quer\"), Interval(624.528619284, 625.047992161, \"<v='würde'>würd'</v> ich sagen\"), Interval(625.047992161, 633.437526721, \"( man steht so auf <v='dem'>'m</v> Flur <nv type='breathing'/> und {F ähm} ... dann ist die Küche + ... { also } man steht auf <v='dem'>'m</v> Flur aber kann direkt die Küche sehen ) <nv type='breathing'/>\"), Interval(633.437526721, 635.411143655, \"quasi ist da ( so <v='eine'>'ne</v> + so <v='eine'>'ne</v> ) halboffene Wand\"), Interval(635.411143655, 641.160532756, \"kennst du die die so ungefähr bis zur Brusthöhe gehen und dann kann man da quasi wie durch so . Fenster in die Küche gucken\"), Interval(641.316344619, 641.887654784, \"sowas\"), Interval(641.939592072, 642.337777944, \"genau\"), Interval(643.419804772, 644.432581882, \"ja genau sowas\"), Interval(644.735549394, 646.000395849, \"und das ist dann quasi der Flur\"), Interval(646.087581467, 650.017502905, \"( und dann gehst du + {F ähm} wenn du dann beim Flur links gehst ) ist dann direkt so <v='ein'>'n</v> Wohnzimmer\"), Interval(651.160123235, 653.125083954, \"und vom Wohnzimmer kannst du halt in die Küche gehen\"), Interval(653.73268157, 654.53770953, \"<v='verstehst du'>verstehste</v> das ?\"), Interval(654.780083539, 655.386018563, \"okay nee\"), Interval(655.801516865, 656.442076747, \"gu:t\"), Interval(656.537295107, 657.169198775, \"{F äh:m}\"), Interval(657.550072218, 657.96557052, \"anders\"), Interval(657.96557052, 659.940862252, \"dann ( <p='mal'>ma-</p> + lassen wir mal ) die Einzelheiten einfach weg\"), Interval(663.013806236, 663.455273182, \"okay\"), Interval(666.207949431, 668.778845174, \"der Flur ist aber ( <p>n-</p> + ) logischerweise an der Eingangstür\"), Interval(668.891375964, 669.306874266, \"okay\"), Interval(672.545961126, 673.402926374, \"<v='ist'>is'</v> <v='ein'>'n</v> Wohnzimmer\"), Interval(676.441257706, 676.718256574, \"ja\"), Interval(677.402097529, 677.808939616, \"ja\"), Interval(681.723211217, 683.82667137, \"also r:echts und links vom Flur quasi\"), Interval(684.198888598, 686.909946367, \"ja genau ( das ist <p='ganz'>gan-</p> + ja das ist ganz ) gut dann ist das quasi\"), Interval(687.013820943, 687.238882523, \"aber\"), Interval(687.524537605, 690.000422811, \"dann passt das ja <v='nicht'>nich'</v> <nv type='breathing'/> dass {F äh} das die Mitte ist\"), Interval(694.363609748, 700.916364216, \"ja aber das Problem ist dann könnten ( wir + man ) ja nur von der Küche in mein Zimmer zum Beispiel ( und vom + {F ähm} und vom ) Wohnzimmer in dein Zimmer <v='das ist'>das'</v> ja voll unlogisch\"), Interval(701.800960699, 702.727175664, \"<v='das ist'>das':</v> ja voll blöd\"), Interval(703.056111819, 706.735003033, \"dann halt' ich mich im Wohnzimmer auf und <laughter/> du musst da ständig durch <v='das ist'>das':</v> ja\"), Interval(707.167813764, 707.392875345, \"oder ?\"), Interval(708.30177788, 709.584560236, \"oder doch das geht ja gar nicht anders\"), Interval(709.818278031, 712.873921792, \"oder wir machen's vom Flur so dass der Flur quasi die Mitte <v='ist'>is'</v>\"), Interval(712.873921792, 722.518607472, \"<nv type='breathing'/> und dass vom Flur jeweils rechts und links {F ähm} zwei Zimmer abgeben einmal Wohnzimmer einmal dein Zimmer <v='auf der'>aufer</v> linken Seite zum Beispiel <nv type='breathing'/> ( und + und ) die Küche und mein Zimmer <v='ist'>is'</v> auf der rechten Seite\"), Interval(723.453478651, 726.129911561, \"genau und ganz am Ende des Flurs <v='ist'>is'</v> einfach das Badezimmer\"), Interval(726.779127658, 729.566428766, \"dass man quasi so was hat so zack zack zack\"), Interval(730.752330169, 731.167828471, \"<v='weisst du'>weisste</v> ?\"), Interval(731.289015476, 734.89166335, \"wenn das der Flur <v='ist'>is'</v> hier <v='ein'>'n</v> Zimmer da <v='ein'>'n</v> Zimmer da <v='ein'>'n</v> Zimmer da und oben\"), Interval(735.281193008, 736.1641269, \"das <v='ist'>is'</v> perfekt\"), Interval(737.453902878, 737.713589317, \"ja\"), Interval(737.826120107, 739.392894953, \"wollen <v='wir'>wa</v> uns da jetzt einfach drauf einigen\"), Interval(740.241203986, 742.303045658, \"<v='okay'>'kay</v> wir haben zweihundert Quadratmeter zur Verfügung\"), Interval(742.303045658, 744.899910045, \"jetzt müssen wir erstmal uns über die Quadratmeterzahl einigen\"), Interval(747.548711719, 748.440301825, \"fünfundzwanzig\"), Interval(748.803862839, 749.660828086, \"können <v='wir'>wa</v> uns ja mal gönnen\"), Interval(750.181863556, 751.930418909, \"okay dann <v='nehme'>nehm'</v> ich auch fünfundzwanzig\"), Interval(752.770071727, 754.276253071, \"genau dann haben wir fünfzig weg\"), Interval(754.769657305, 757.885894568, \"dann <v='würde'>würd'</v> ich sagen das Wohnzimmer sollte auch auf jeden Fall groß sein\"), Interval(759.246582856, 760.52770262, \"oder wollen <v='wir'>wa</v> dreißig nehmen\"), Interval(762.319539047, 763.61797124, \"dann haben <v='wir'>wa</v> schon mal achtzig weg\"), Interval(766.415591155, 766.978245105, \"ja ne ?\"), Interval(767.575523914, 768.086240577, \"achtzig\"), Interval(768.138177864, 768.562332381, \"genau\"), Interval(771.747819361, 776.804711292, \"nee das muss größer sein weil ( <v='wir'>w-</v> + wir ) haben viel Geld zur Verfügung und ich hätte da gerne so <v='eine'>'ne</v> kleine Wellness-Oase\"), Interval(776.804711292, 778.362829924, \"<laughter/><laughterOffset/>\"), Interval(778.397454783, 782.562756608, \"also so vielleicht <v='eine'>'ne</v> Sauna könnte man da ja noch reinstellen und vielleicht so <v='einen'>'nen</v> kleinen Whirlpool\"), Interval(782.952286266, 785.557806867, \"das <v='wäre'>wär'</v> super wenn wir das Geld schon haben können wir es ja auch verballern\"), Interval(785.557806867, 791.030197099, \"ich mein' ich muss <laughter> mit dir zusammen wohnen ich bitte dich </laughter><laughterOffset/>\"), Interval(791.030197099, 792.328629292, \"könnte man sich das ja mal gönnen\"), Interval(792.770096238, 793.116344823, \"<unsure>n</unsure> ja\"), Interval(793.228875613, 793.808841993, \"{F ähm:}\"), Interval(795.617990848, 796.319144233, \"achtzig\"), Interval(798.900358782, 800.41009833, \"die Küche kann man gut zu <v='einer'>'ner</v> Wohnküche -\"), Interval(800.41009833, 804.933740373, \"da kann man dann trotzdem auch irgendwie noch <v='einen'>'nen</v> Tisch groß reinstellen dass alle kommen können und immer alle mit uns essen können\"), Interval(804.933740373, 806.796489109, \"<nv type='breathing'/>unsere Familien oder so auch\"), Interval(809.479915641, 818.544634942, \"ja aber das kann man ja ( <p>m-</p> + ) quasi so Esszimmer-mäßig machen oder wir machen das Wohnzimmer einfach noch größer mit fünfunddreißig Quadratmetern <nv type='breathing'/> ( und dann passt da auch noch <v='ein'>'n</v> großer <p='Esszimmer'>E-</p> + ) oder gleich vierzig Quadratmeter\"), Interval(818.761040307, 820.102753574, \"kann ja groß sein <v='ist'>is'</v> ja egal\"), Interval(820.97703125, 821.418498196, \"okay\"), Interval(823.731370092, 825.116364432, \"dann sind wir bei neunzig\"), Interval(826.501358771, 827.938290398, \"ja aber jetzt sind wir bei neunzig\"), Interval(828.726005929, 831.246626976, \"( wenn wir die: + ) wir hatten ja vorhin das Wohnzimmer besprochen\"), Interval(836.154700666, 836.371106031, \"oh\"), Interval(840.692219719, 841.220248811, \"Okay\"), Interval(844.042174778, 845.401200473, \"Läuft da auch nix Kleines\"), Interval(849.237566143, 851.418932227, \"ja gut weiter egal das irritiert uns jetzt nicht\"), Interval(851.808461885, 852.301866119, \"{F m:}\"), Interval(853.904928416, 854.952330385, \"wir hatten jetzt neunzig ne ?\"), Interval(854.952330385, 858.241691941, \"( ( vier + zwei ) +) fünfundzwanzig fünfundzwanzig sind fünfzig\"), Interval(858.293629229, 861.859989653, \"dann nochmal . vierzig dazu <v='für das'>für's</v> Wohnzimmer sind wir bei neunzig\"), Interval(863.376489804, 865.324138093, \"<v='haben'>ham</v> wir noch hundertzehn Quadratmeter über\"), Interval(865.956041761, 869.489439918, \"<laughter/><laughterOffset/>\"), Interval(870.571466746, 872.908644694, \"oh wir machen noch <v='ein'>'n</v> Ankleidezimmer wie lo:gisch\"), Interval(874.492731969, 875.97109384, \"<laughter>ist das so klar</laughter>\"), Interval(875.97109384, 877.080940141, \"<laughter> ja na klar </laughter>\"), Interval(878.320441424, 879.056219667, \"<v='doch'>dohoch</v>\"), Interval(879.272625032, 880.943274454, \"das <v='ist'>is'</v> zwischen unsern beiden Zimmern\"), Interval(881.211617108, 882.52736173, \"( dann hat man da noch <p>in-</p> + ) <v='doch'>dohoch</v>\"), Interval(882.700486022, 885.721504925, \"dann kannst du deine: {F ähm} zwei Paar Schuhe dahin packen und ich den Rest\"), Interval(885.721504925, 886.086728532, \"<nv type='breathing'/>\"), Interval(886.086728532, 887.523660159, \"( und dann + ) ja das ist voll praktisch\"), Interval(887.705440666, 891.540143743, \"und dann ist das quasi noch mal so {F ähm} .. zwischen unsern Zimmern\"), Interval(892.094141478, 892.795294863, \"verstehst du ?\"), Interval(893.046325087, 894.311795014, \"weil dann ist das auch nochmal so -\"), Interval(897.211626912, 897.505938209, \"ja\"), Interval(899.315087065, 903.540982392, \"da kann man doch einfach jetzt eins <p='zwischenprokeln'>zwischen-</p> {F mh} <p='zwischenprokeln'>-prokeln</p> ist doch egal wir machen doch den Bauplan\"), Interval(904.337354137, 906.639907226, \"dass es so <v='eine'>'ne</v> Wohnung vielleicht nicht gibt ist doch scheißegal\"), Interval(910.346429677, 913.921446315, \"aber ich möchte nicht direkt die Wand von dir neben mir haben: das stört mich\"), Interval(915.202566079, 915.652689239, \"achso\"), Interval(918.233903789, 919.385180333, \"achso gegenüber ne ?\"), Interval(919.69680406, 924.033567585, \"dann machen wir das zwischen {F ähm} Wohnzimmer und deinem Zimmer . machen wir noch <v='ein'>'n</v> Ankleidezimmer\"), Interval(924.154754589, 925.773466724, \"ich <v='laufe'>lauf'</v> auch <v='über den'>über'n</v> Flur rüber ist mir egal\"), Interval(926.484938915, 926.684031851, \"ja ?\"), Interval(927.540997099, 933.600347333, \"( dann könnten wir da + { A wieviel haben wir jetzt } dann machen wir doch ) das {F ähm} Ankleidezimmer einfach irgendwie nur {F ähm} <nv type='breathing'/> zehn Quadratmeter reicht ja\"), Interval(934.346444383, 934.926410763, \"das reicht\"), Interval(935.038941553, 936.320061317, \"<v='okay'>'kay</v> dann haben wir hundert\"), Interval(936.614372614, 937.687743227, \"genau und dann machen wir <p='fünfzig'>fü-</p>\"), Interval(939.020800278, 940.813391798, \"genau Küche machen wir sechzig\"), Interval(940.813391798, 941.94660082, \"{F äh} nee das passt ja <v='nicht'>nich'</v>\"), Interval(943.869943059, 945.990715641, \"ja Bad auf jeden Fall groß da <v='würde'>würd'</v> ich sagen\"), Interval(947.245866761, 948.690072826, \"boah Alter ey das ist zu viel ne\"), Interval(948.690072826, 951.800698244, \"sechzig Quadratmeter hat ( meine + noch nicht mal meine ) ganze Wohnung\"), Interval(952.354695979, 954.228506659, \"aber das ist egal wir bauen da ja <v='eine'>'ne</v> Sauna rein\"), Interval(954.228506659, 959.982483653, \"das darf nicht nur <v='eine'>'ne</v> . <p='Zweisitzersauna'>Zwei-</p> <nv/> <p='Zweisitzersauna'>-sitzersauna</p> sein weil wenn man da mal dann zu viert oder fünft reingeht <nv type='breathing'/> dann ist das zu wenig Platz\"), Interval(960.605731106, 960.848105115, \"ja\"), Interval(961.635820646, 961.973413016, \"ja:\"), Interval(963.981654808, 967.74877076, \"die passende Dusche und {F äh} <v='einen'>'n</v> Whirlpool also brauchen wir schon etwas Platz\"), Interval(968.354705784, 968.674985725, \"ja\"), Interval(968.969297022, 970.449509722, \"sechzig Quadratmeter ist super\"), Interval(973.513809698, 975.272683858, \"okay also sechzig Quadratmeter\"), Interval(977.159738646, 977.592549377, \"okay\"), Interval(977.895516888, 978.735169707, \"und {F ähm:}\"), Interval(980.70878664, 981.999601739, \"die Küche sind dann vierzig\"), Interval(983.125533112, 984.07771672, \"okay <v='haben'>ham</v> wir das schon mal\"), Interval(985.57524185, 989.158914703, \"<v='ist'>is'</v> ja egal / ( da üba + ) okay jetzt müssen wir uns über die Einrichtung noch schnell Gedanken machen\"), Interval(989.158914703, 990.753320785, \"ich weiß gar nicht mehr wieviel Zeit wir haben\"), Interval(990.753320785, 991.315974736, \"komm schnell\"), Interval(991.766097896, 992.207564842, \"{F ähm:}\"), Interval(994.181181775, 995.470957754, \"einrichten wie er möchte\"), Interval(995.505582612, 995.921080914, \"genau\"), Interval(997.029076386, 998.398420888, \"sollen wir das detailliert machen ?\"), Interval(998.770638117, 999.636259579, \"ich glaube schon\"), Interval(1000.00847681, 1001.5406268, \"ich <v='glaube'>glaub'</v> wir sollen das so einrichten jetzt\"), Interval(1006.17336421, 1010.31249298, \"okay ( möchten wir + ) wenn wir das jetzt detailliert <v='machen'>man</v> <nv type='breathing'/> müssen wir Bodenbeläge haben\"), Interval(1010.31249298, 1013.85142658, \"wollen wir einfach alles in Laminat machen oder echtes Parkett das ist teurer ist besser\"), Interval(1015.33330187, 1016.39801627, \"Echtparkett dunkel\"), Interval(1016.830827, 1017.6618236, \"dunkel <v='finde'>find'</v> ich schick\"), Interval(1017.8955414, 1020.01631398, \"( <p='doch'>do-</p> + ) hell ist <mp type='creaky'>so </mp> . omerig\"), Interval(1020.85762939, 1022.19934266, \"boah komm <name>Nie:ls</name>\"), Interval(1022.77930904, 1025.10783077, \"nein Schwarz doch nicht dieses schöne dunkle Braun\"), Interval(1025.41079828, 1026.72654291, \"sieht so edel aus\"), Interval(1026.8996672, 1027.36710279, \"Mhm\"), Interval(1028.46644204, 1028.8559717, \"schön\"), Interval(1029.94748604, 1030.23314112, \"ja ?\"), Interval(1033.74057064, 1034.80528503, \"also so ganz Teppich\"), Interval(1034.80528503, 1036.58846525, \"<v='ein'>'n</v> ganzes Zimmer voller Teppich ausgelegt\"), Interval(1036.58846525, 1036.93471383, \"ach so\"), Interval(1037.14246298, 1037.93883473, \"so zum Hinlegen\"), Interval(1037.93883473, 1039.55754686, \"ja dafür bin ich auch das ist gut\"), Interval(1039.70470251, 1039.94707652, \"Mhm\"), Interval(1041.51551396, 1044.46728314, \"Wandfarbe kann sich jeder im Zimmer individuell gestalten ?\"), Interval(1046.49283737, 1049.08849031, \"so ich <v='würde'>würd'</v> <v='eine'>'ne</v> Ornamenttapete nehmen <v='sage'>sag'</v> ich gleich an einer Wand\"), Interval(1049.08849031, 1049.84279242, \"Das weiß ich schon\"), Interval(1050.83126348, 1051.60166658, \"und Wohnzimmer ?\"), Interval(1052.27685132, 1055.7566496, \"also Badezimmer wissen wir schon Whirlpool Sauna soll da rein <v='eine'>'ne</v> große Dusche\"), Interval(1055.9903674, 1058.57158195, \"so <v='eine'>'ne</v> einszwanzig mal neunzig Dusche vielleicht\"), Interval(1060.89144747, 1062.70925254, \"ja helle Fliesen finde ich auch gut\"), Interval(1063.97305987, 1064.19812145, \"ja\"), Interval(1067.35930238, 1067.79211311, \"Küche\"), Interval(1068.12970548, 1070.0340727, \"( <p='irgendwie'>irgend-</p> + ( irgendwie was + irgendwie was ) )\"), Interval(1075.29005756, 1076.59714597, \"mit diesen riesen Kühlschränken ?\"), Interval(1077.35023664, 1078.56210669, \"ja sowas <v='finde'>find'</v> ich auch gut\"), Interval(1080.5790047, 1081.47925102, \"so <v='eine'>'ne</v> Kochinsel\"), Interval(1081.81850598, 1086.13822725, \"ja ( das + das ) würde ja auch gut passen das ist gut und sonst aber alles relativ hell <nv type='breathing'/> <v='würde'>würd'</v> ich sagen\"), Interval(1086.13822725, 1087.98173079, \"ich <v='würde'>würd'</v> die jetzt nicht . pink machen oder so\"), Interval(1088.48379124, 1088.77810254, \"nee\"), Interval(1090.67547613, 1092.70968657, \"oder hast du da <v='eine'>'ne</v> <p>Farbvor-</p> {F äh} <p>-liebe</p>\"), Interval(1095.78264276, 1096.31067185, \"okay\"), Interval(1096.40589021, 1099.03904205, \"können <v='wir'>wa</v> machen ist mir egal also da bin ich dann ganz offen\"), Interval(1099.58438357, 1099.89600729, \"gut\"), Interval(1099.89600729, 1100.56253582, \"Wohnzimmer\"), Interval(1102.30243496, 1104.37992647, \"voll die Riesencouch auf jeden Fall mit <v='so einem'>so'm</v> -\"), Interval(1106.71876701, 1108.44135372, \"ja mega Fernseher der an der Wand hängt ne ?\"), Interval(1109.09056981, 1110.06872207, \"das ist ganz gut\"), Interval(1110.43228308, 1117.32429251, \"und vielleicht auch noch irgendwie <v='einen'>'n</v> Beamer oder so das <v='wäre'>wär'</v> auch gut dann kann man auch mal so {F mh} <v='eine'>'ne</v> große Leinwand die man noch so vorziehen kann denn dann kann man auch mal Kino spielen\"), Interval(1117.32429251, 1119.42775266, \"<laughter> das ist ja cool </laughter>\"), Interval(1120.46649842, 1120.93393401, \"genau\"), Interval(1122.63221467, 1124.8382053, \"und <v='einen'>'n</v> Computer brauchen wir da auch noch für uns <p='beider'>bei-</p>\"), Interval(1124.8382053, 1125.83034454, \"wir haben gar keine Arbeitszimmer\"), Interval(1125.83034454, 1127.48835107, \"ach das passt ins {F äh} normale ne ?\"), Interval(1128.38859739, 1129.38406207, \"ja genau okay\"), Interval(1129.56750517, 1129.99165969, \"ja ja\"), Interval(1131.58440318, 1134.43229779, \"<v='eine'>'ne</v> Soundanlage ja das ist noch gut und so <v='eine'>'ne</v> kleine Bar\"), Interval(1135.78266727, 1137.86772163, \"wenn wir Freunde haben dann können wir die bewirten\"), Interval(1137.86772163, 1140.14706203, \"mit allen . möglichen Cocktail-Sorten\"), Interval(1140.32884254, 1141.12521428, \"weil wir haben ja Geld\"), Interval(1142.51020862, 1142.7352702, \"ja\"), Interval(1149.49743641, 1152.07698837, \"ja so <v='eines'>eins</v> wo so richtig dicke ( <p='Sitzflächen'>S-</p> + {F äh} Sitzflächen ) sind ne\"), Interval(1153.4636453, 1154.62357806, \"das ist gut und Bilder\"), Interval(1154.8832645, 1156.0691659, \"und vielleicht <v='eine'>'ne</v> Pflanze\"), Interval(1156.52794528, 1157.67922182, \"wegen der Photosynthese\"), Interval(1158.80452972, 1159.83140115, \"<laughter/>\"), Interval(1159.83140115, 1161.16541398, \"<laughter> keine Ahnung man nein </laughter>\"), Interval(1161.16541398, 1162.65797751, \"<laughter/>\"), Interval(1169.33214929, 1169.86017839, \"ja\"), Interval(1170.19077713, 1176.9772494, \"aber ich <v='finde'>find'</v> so manchmal wenn man so zum Beispiel so <v='einen'>'n</v> antiken Schrank oder so dazu hat ( dann ist das nicht ganz so + dann ist das so ) <v='ein'>'n</v> bisschen individuell das mag ich\"), Interval(1177.21262978, 1178.39853119, \"können wir uns darauf einigen ?\"), Interval(1179.43727694, 1181.52342466, \"so irgendwie . <v='eine'>'ne</v> Kommode oder so\"), Interval(1181.73117382, 1182.14667212, \"sowas\"), Interval(1183.04691844, 1183.70479075, \"ja cool\"), Interval(1184.12894527, 1184.50981871, \"ja\"), Interval(1188.5972146, 1188.91749454, \"ja\"), Interval(1189.13389991, 1191.65285836, \"<laughter/>\"), Interval(1191.71345187, 1193.02919649, \"ja ach das kriegen wir schon hin\"), Interval(1195.34206838, 1196.87421837, \"ja dann . sind wir so fertig ne\"), Interval(1196.87421837, 1197.56671554, \"<v='haben'>ham</v> wir <v='einen'>'n</v> Balkon ?\"), Interval(1199.0209596, 1199.86061242, \"<v='haben'>ham</v> wir gar <v='nicht'>nich'</v>\"), Interval(1199.86061242, 1200.52714094, \"guck mal\"), Interval(1201.78395465, 1210.9352361, \"vielleicht könnten wir ( <p='zwanzig'>zwan-</p> + . zwanzig ) Quadratmeter von der Küche dann hätten wir <v='eine'>'ne</v> Vierzig-Quadratmeter-Küche <nv type='breathing'/> könnten wir dann ... zwanzig Quadratmeter <v='einen'>'n</v> Balkon machen\"), Interval(1212.51932338, 1213.4801632, \"weiß ich jetzt nicht mehr\"), Interval(1214.67472082, 1215.05559426, \"ja\"), Interval(1216.81280583, 1217.16771063, \"ja:\"), Interval(1221.93029126, 1223.99047034, \"( das <p='Ankleidezimmer'>An-</p> + ( das + ) ) zeh:n Ankleidezimmer\"), Interval(1224.89071666, 1225.22830903, \"so\"), Interval(1226.0436558, 1226.42452924, \"genau\"), Interval(1226.42452924, 1227.13433884, \"Wohnzimmer\"), Interval(1229.47151679, 1229.72254701, \"ja\"), Interval(1230.22460746, 1230.57085605, \"ach ja\"), Interval(1232.32806761, 1232.6743162, \"ja\"), Interval(1236.14712086, 1236.98677367, \"ja siebzig\"), Interval(1242.20813368, 1242.71885034, \"hm\"), Interval(1246.81323986, 1247.21142573, \"ja:\"), Interval(1249.26461119, 1250.78810496, \"dann <v='haben'>ham</v> wir jetzt noch siebzig über\"), Interval(1253.99090437, 1255.43649222, \"und <v='ein'>'n</v> Wohnzimmer haben wir jetzt noch <v='nicht'>nich'</v> ne ?\"), Interval(1257.5069901, 1261.15991267, \"dann machen wir die Küche mit zwanzig Quadratmetern fünfundzwanzig Quadratmeter\"), Interval(1262.97949125, 1263.33614187, \"<nv type='breathing'/>\"), Interval(1264.52018654, 1268.61457605, \"hundertdreißig hundertfünfundfünfzig dann haben wir noch fünfundvierzig über\"), Interval(1271.09890965, 1271.90803006, \"das Wohnzimmer\"), Interval(1271.90803006, 1272.96865201, \"das Wohnzimmer machen wir mit -\"), Interval(1273.27328211, 1274.81408831, \"nee die Küche <v='haben'>ham</v> <v='wir'>wa</v> doch gerade du\"), Interval(1275.93074, 1279.46247557, \"das Bad <laughter> hatten wir doch <v='gerade'> grad </v> </laughter>\"), Interval(1279.5403815, 1283.64508982, \"ach komm wir machen's spontan gleich ( wenn die + wenn die ) dritte Versuchsperson reinkommt\"), Interval(1284.41549292, 1284.70980422, \"und dann -\"), Interval(1285.24648952, 1288.90806831, \"aber der Balkon vielleicht so fünfzehn bis zwanzig Quadratmeter können wir ja einplanen\"), Interval(1293.48021222, 1293.74855488, \"bitte ?\"), Interval(1296.49257491, 1299.97403578, \"ja das ist mir scheißegal darüber mach' ich mir jetzt keine Gedanken aber der kommt dann ans Wohnzimmer\"), Interval(1300.52803352, 1302.45836938, \"weil dann ist er für uns beide {F ähm} frei\"), Interval(1304.36273659, 1304.96867162, \"ja genau\"), Interval(1306.16530747, 1307.67148882, \"ja genau das ist gut okay\")]),\n",
       " IntervalTier(start_time=0.0, end_time=1321.59253469, name=\"B-turns\", objects=[Interval(547.168715722, 548.23343012, \"B\"), Interval(549.931710778, 564.493126363, \"B\"), Interval(567.437901927, 596.571051903, \"B\"), Interval(599.22151617, 601.480788186, \"B\"), Interval(603.367842973, 605.1596794, \"B\"), Interval(608.459359763, 659.940862252, \"B\"), Interval(663.013806236, 663.455273182, \"B\"), Interval(666.207949431, 669.306874266, \"B\"), Interval(672.545961126, 673.402926374, \"B\"), Interval(676.441257706, 677.808939616, \"B\"), Interval(681.723211217, 690.000422811, \"B\"), Interval(694.363609748, 744.899910045, \"B\"), Interval(747.548711719, 760.52770262, \"B\"), Interval(762.319539047, 763.61797124, \"B\"), Interval(766.415591155, 768.562332381, \"B\"), Interval(771.747819361, 793.808841993, \"B\"), Interval(795.617990848, 796.319144233, \"B\"), Interval(798.900358782, 806.796489109, \"B\"), Interval(809.479915641, 821.418498196, \"B\"), Interval(823.731370092, 831.246626976, \"B\"), Interval(836.154700666, 836.371106031, \"B\"), Interval(840.692219719, 841.220248811, \"B\"), Interval(844.042174778, 845.401200473, \"B\"), Interval(849.237566143, 852.301866119, \"B\"), Interval(853.904928416, 861.859989653, \"B\"), Interval(863.376489804, 872.908644694, \"B\"), Interval(874.492731969, 894.311795014, \"B\"), Interval(897.211626912, 897.505938209, \"B\"), Interval(899.315087065, 906.639907226, \"B\"), Interval(910.346429677, 915.652689239, \"B\"), Interval(918.233903789, 941.94660082, \"B\"), Interval(943.869943059, 961.973413016, \"B\"), Interval(963.981654808, 970.449509722, \"B\"), Interval(973.513809698, 975.272683858, \"B\"), Interval(977.159738646, 978.735169707, \"B\"), Interval(980.70878664, 992.207564842, \"B\"), Interval(994.181181775, 1001.5406268, \"B\"), Interval(1006.17336421, 1030.23314112, \"B\"), Interval(1033.74057064, 1039.94707652, \"B\"), Interval(1041.51551396, 1044.46728314, \"B\"), Interval(1046.49283737, 1058.57158195, \"B\"), Interval(1060.89144747, 1064.19812145, \"B\"), Interval(1067.35930238, 1070.0340727, \"B\"), Interval(1075.29005756, 1078.56210669, \"B\"), Interval(1080.5790047, 1088.77810254, \"B\"), Interval(1090.67547613, 1092.70968657, \"B\"), Interval(1095.78264276, 1100.56253582, \"B\"), Interval(1102.30243496, 1104.37992647, \"B\"), Interval(1106.71876701, 1120.93393401, \"B\"), Interval(1122.63221467, 1129.99165969, \"B\"), Interval(1131.58440318, 1142.7352702, \"B\"), Interval(1149.49743641, 1162.65797751, \"B\"), Interval(1169.33214929, 1184.50981871, \"B\"), Interval(1188.5972146, 1193.02919649, \"B\"), Interval(1195.34206838, 1210.9352361, \"B\"), Interval(1212.51932338, 1215.05559426, \"B\"), Interval(1216.81280583, 1217.16771063, \"B\"), Interval(1221.93029126, 1227.13433884, \"B\"), Interval(1229.47151679, 1230.57085605, \"B\"), Interval(1232.32806761, 1232.6743162, \"B\"), Interval(1236.14712086, 1236.98677367, \"B\"), Interval(1242.20813368, 1242.71885034, \"B\"), Interval(1246.81323986, 1247.21142573, \"B\"), Interval(1249.26461119, 1250.78810496, \"B\"), Interval(1253.99090437, 1255.43649222, \"B\"), Interval(1257.5069901, 1261.15991267, \"B\"), Interval(1262.97949125, 1268.61457605, \"B\"), Interval(1271.09890965, 1288.90806831, \"B\"), Interval(1293.48021222, 1293.74855488, \"B\"), Interval(1296.49257491, 1302.45836938, \"B\"), Interval(1304.36273659, 1307.67148882, \"B\")]),\n",
       " IntervalTier(start_time=0.0, end_time=1321.59253469, name=\"A-turns\", objects=[Interval(555.791968077, 557.263524562, \"A\"), Interval(562.649352649, 566.139469734, \"A\"), Interval(567.680275936, 568.329492033, \"A\"), Interval(578.008802571, 579.601546062, \"A\"), Interval(585.160498441, 587.835268759, \"A\"), Interval(598.217395274, 599.282109672, \"A\"), Interval(601.342288752, 601.783755698, \"A\"), Interval(604.657618952, 607.403301579, \"A\"), Interval(609.195138006, 612.337343913, \"A\"), Interval(617.25573641, 618.883104759, \"A\"), Interval(625.42020939, 625.64527097, \"A\"), Interval(640.866221459, 644.380644595, \"A\"), Interval(654.754114895, 656.641169683, \"A\"), Interval(659.644876156, 665.160547462, \"A\"), Interval(668.449909018, 681.827085792, \"A\"), Interval(683.60160979, 683.809358941, \"A\"), Interval(691.41017797, 696.363195325, \"A\"), Interval(702.060647138, 706.69172196, \"A\"), Interval(722.804262555, 723.877633168, \"A\"), Interval(726.908970877, 727.592811832, \"A\"), Interval(730.873517174, 735.558191876, \"A\"), Interval(737.06437322, 739.70451868, \"A\"), Interval(745.246158629, 752.493072859, \"A\"), Interval(755.167843177, 759.263895285, \"A\"), Interval(765.626213032, 771.860350151, \"A\"), Interval(776.29399463, 780.327790643, \"A\"), Interval(786.155085675, 790.129487414, \"A\"), Interval(794.111809504, 799.333169513, \"A\"), Interval(805.383863533, 809.878101514, \"A\"), Interval(818.449416581, 826.74373278, \"A\"), Interval(834.362864239, 840.579688929, \"A\"), Interval(845.749111651, 847.774665872, \"A\"), Interval(849.860813595, 850.804340989, \"A\"), Interval(853.870303557, 859.090000974, \"A\"), Interval(862.632055346, 870.831153185, \"A\"), Interval(875.237166427, 875.912351167, \"A\"), Interval(877.808062169, 879.809310339, \"A\"), Interval(885.939572883, 888.752842635, \"A\"), Interval(894.528200379, 899.470898928, \"A\"), Interval(904.276760635, 904.891351873, \"A\"), Interval(907.93833942, 918.000185994, \"A\"), Interval(919.532335982, 919.904553211, \"A\"), Interval(925.775129316, 927.688152747, \"A\"), Interval(930.215767417, 932.094165989, \"A\"), Interval(933.827071506, 940.726074559, \"A\"), Interval(942.658073012, 943.826661985, \"A\"), Interval(948.137456867, 949.008418087, \"A\"), Interval(951.374820304, 953.16470239, \"A\"), Interval(958.874488181, 963.972998593, \"A\"), Interval(967.87861398, 976.164273964, \"A\"), Interval(979.903758681, 987.16798534, \"A\"), Interval(992.726937719, 995.765269051, \"A\"), Interval(1002.61399741, 1006.32051986, \"A\"), Interval(1014.64946092, 1017.80032304, \"A\"), Interval(1020.21706951, 1023.20346355, \"A\"), Interval(1028.03363131, 1032.84731794, \"A\"), Interval(1036.10371723, 1040.9425412, \"A\"), Interval(1045.25499867, 1047.06414753, \"A\"), Interval(1050.7793262, 1052.12103946, \"A\"), Interval(1055.82589932, 1056.81270779, \"A\"), Interval(1060.48460538, 1062.44090988, \"A\"), Interval(1064.64824461, 1074.83127819, \"A\"), Interval(1077.00398806, 1083.89599749, \"A\"), Interval(1085.70514635, 1086.05139493, \"A\"), Interval(1087.99904322, 1088.98585169, \"A\"), Interval(1090.70144477, 1091.65362838, \"A\"), Interval(1094.10333712, 1097.74760348, \"A\"), Interval(1099.79213272, 1106.8312978, \"A\"), Interval(1108.53657208, 1108.7876023, \"A\"), Interval(1117.27235522, 1123.13427511, \"A\"), Interval(1127.91250559, 1130.44178285, \"A\"), Interval(1132.42405599, 1133.16849045, \"A\"), Interval(1137.30782363, 1138.69281797, \"A\"), Interval(1140.23362418, 1140.57987276, \"A\"), Interval(1144.13677398, 1149.15118783, \"A\"), Interval(1152.06833215, 1152.37129967, \"A\"), Interval(1159.18540317, 1163.30742392, \"A\"), Interval(1164.91747984, 1170.35524521, \"A\"), Interval(1178.77940463, 1179.37668344, \"A\"), Interval(1181.20314472, 1182.54485799, \"A\"), Interval(1184.10297662, 1194.2254167, \"A\"), Interval(1200.86639591, 1203.6450408, \"A\"), Interval(1209.92245899, 1218.26871248, \"A\"), Interval(1221.76582318, 1222.30250849, \"A\"), Interval(1223.80868984, 1236.13846464, \"A\"), Interval(1241.28191872, 1246.64011557, \"A\"), Interval(1251.57582049, 1254.47565239, \"A\"), Interval(1256.97896101, 1257.78398897, \"A\"), Interval(1261.8870347, 1262.94309288, \"A\"), Interval(1265.6801193, 1266.96123906, \"A\"), Interval(1269.44557266, 1270.10344497, \"A\"), Interval(1272.17228026, 1275.36808605, \"A\"), Interval(1277.4715462, 1281.18506228, \"A\"), Interval(1283.13437316, 1283.8095579, \"A\"), Interval(1289.8532583, 1295.21145515, \"A\"), Interval(1296.81285485, 1297.76503846, \"A\"), Interval(1300.92621939, 1308.18220548, \"A\"), Interval(1310.40685264, 1310.67519529, \"A\")]),\n",
       " IntervalTier(start_time=0.0, end_time=1321.59253469, name=\"Comments\", objects=[Interval(567.437901927, 575.437906829, \"Possible semantics driven disfluency, as \"Küche und Wohnzimmer\" is like an insertion/afterthought not commenserate with the rest of the syntactic structrure\"), Interval(659.644876156, 662.754119798, \"could also be \"(also <p>m-</p> + also den)\" which could be partial for \"mit\" like A wanting to say \"mit dem Flur is alles OK\" but could be anything\"), Interval(713.15092066, 722.518607472, \"Erroneous abgeben=abgehen\"), Interval(740.241203986, 742.303045658, \"'kay as xml style version of okay? (see later annotation)\"), Interval(771.747819361, 776.804711292, \"What's the convention again on ss/ß ?\"), Interval(797.757738452, 799.328255286, \"is this not rather a restart (not exactly structurally similar)?\"), Interval(799.328255286, 804.933740373, \"Not sure this is an abandoned utterance after Wohnkuche as 'machen' seems to missing.\"), Interval(1026.8996672, 1027.36710279, \"Note this is different to mhm earlier..\"), Interval(1039.70470251, 1039.94707652, \"monosyllabic version\"), Interval(1110.43228308, 1111.98802083, \"'n Beamer not 'nen?\"), Interval(1111.98802083, 1114.45735136, \"vorziehen=davor ziehen (v-tag?)\"), Interval(1122.63221467, 1123.52335417, \"'n Computer?\"), Interval(1144.13757697, 1144.67426228, \"filler marking was missing\")]),\n",
       " IntervalTier(start_time=0.0, end_time=1321.59253469, name=\"A-laughter\", objects=[Interval(562.649352649, 563.411099536, \"<laughter>sehr richtig</laughter>\"), Interval(610.00882218, 611.01849952, \"<laughter/>\"), Interval(611.747843471, 612.337343913, \"<laughterOffset/>\"), Interval(655.377362348, 656.28124408, \"<laughter/>\"), Interval(656.28124408, 656.641169683, \"<laughterOffset/>\"), Interval(694.597901915, 695.247309071, \"<laughter> <unsure> also </unsure> </laughter>\"), Interval(695.83639457, 696.363195325, \"<laughterOffset/>\"), Interval(704.190075935, 706.019158197, \"<laughter/>\"), Interval(706.019158197, 706.69172196, \"<laughterOffset/>\"), Interval(776.29399463, 779.564679866, \"<laughter/>\"), Interval(779.564679866, 780.327790643, \"<laughterOffset/>\"), Interval(786.155085675, 787.222791354, \"<laughter/>\"), Interval(836.935422574, 837.150070557, \"na ja {F ähm} .. gut ich <v=\"gucke\">guck'</v> mal so grob auf die Uhr\"), Interval(837.150070557, 837.935517889, \"<laughter> gut </laughter>\"), Interval(837.935517889, 838.244086484, \"<laughterOffset/>\"), Interval(866.259009272, 867.993607943, \"<laughter> so viel Platz </laughter>\"), Interval(867.993607943, 869.452295845, \"<laughter/>\"), Interval(869.452295845, 869.913594435, \"<laughterOffset/>\"), Interval(885.939572883, 888.207271323, \"<laughter/><laughterOffset/>\"), Interval(888.207271323, 888.752842635, \"<laughterOffset/>\"), Interval(948.137456867, 949.008418087, \"<laughter> ja  </laughter>\"), Interval(951.374820304, 952.519686988, \"<laughter>ja ja genau</laughter>\"), Interval(952.519686988, 953.16470239, \"</laughterOffset>\"), Interval(983.800717852, 985.429032859, \"<laughter> boah die Küche vierzig Quadratmeter </laughter>\"), Interval(985.681498073, 987.16798534, \"<laughterOffset/>\"), Interval(1004.42002728, 1006.32051986, \"<laughter> hab' <v=\"einen\">'nen</v> Schrank </laughter> <laughterOffset/>\"), Interval(1020.21706951, 1020.63576346, \"<laughter/>\"), Interval(1117.98878714, 1118.8345035, \"<laughter>genau</laughter> <laughterOffset/>\"), Interval(1159.18540317, 1159.81244, \"<laughter> was ? </laughter>\"), Interval(1160.7789827, 1162.10421009, \"<laughter/> <laughter> wegen der <p=\"Photosynthese\">Photosyn-</p> </laughter>\"), Interval(1189.3235282, 1191.82012864, \"<laughter> dann immer total kahl und kalt aussieht </laughter>\"), Interval(1191.82012864, 1192.29341825, \"<laughterOffset/>\"), Interval(1257.26072939, 1257.78398897, \"<laughter/>\"), Interval(1279.11622698, 1279.72545612, \"<laughter> okay </laughter>\")]),\n",
       " IntervalTier(start_time=0.0, end_time=1321.59253469, name=\"Part\", objects=[Interval(547.168380434, 1321.59253469, \"dream_apartment\")]),\n",
       " IntervalTier(start_time=0.0, end_time=1321.59253469, name=\"B-laughter\", objects=[Interval(560.610118087, 562.71399487, \"<laughter> Partner die dann ja auch noch zu Besuch kommen </laughter> <breathing/>\"), Interval(578.024125, 579.393057939, \"<laughter> Partner </laughter>\"), Interval(579.393057939, 579.774670354, \"<laughterOffset/>\"), Interval(591.146716231, 591.595543278, \"<laughter/>\"), Interval(591.595543278, 591.960215253, \"<laughterOffset/>\"), Interval(609.688542239, 611.146701085, \"<laughter> das ist richtig </laughter>\"), Interval(611.146701085, 611.636190529, \"<laughterOffset/>\"), Interval(704.774811825, 705.08338042, \"<laughter/>\"), Interval(776.804711292, 777.967955435, \"<laughter/>\"), Interval(777.967955435, 778.362829924, \"<laughterOffset/>\"), Interval(786.002302207, 788.10617899, \"<laughter> mit dir zusammen wohnen ich bitte dich </laughter>\"), Interval(788.10617899, 790.630831128, \"<laughter/>\"), Interval(790.630831128, 791.030197099, \"<laughterOffset/>\"), Interval(865.956041761, 868.948476379, \"<laughter/>\"), Interval(868.948476379, 869.489439918, \"<laughterOffset/>\"), Interval(874.492731969, 875.97109384, \"<laughter>ist das so klar</laughter>\"), Interval(1117.32429251, 1119.42775266, \"<laughter> das ist ja cool </laughter>\"), Interval(1158.80452972, 1159.83140115, \"<laughter/>\"), Interval(1189.13389991, 1191.65285836, \"<laughter/>\"), Interval(1276.50989795, 1279.46247557, \"<laughter> hatten wir doch <v=\"gerade\"> grad </v> </laughter>\")]),\n",
       " IntervalTier(start_time=0.0, end_time=1321.59253469, name=\"A-utts\", objects=[Interval(555.791968077, 556.120904232, \"Mhm\"), Interval(557.064431626, 557.263524562, \"ja\"), Interval(562.649352649, 563.411099536, \"<laughter>sehr richtig</laughter>\"), Interval(564.545063651, 564.770125231, \"ja\"), Interval(565.845158436, 566.139469734, \"also\"), Interval(567.680275936, 568.329492033, \"mehr\"), Interval(578.008802571, 578.389676015, \"ja\"), Interval(578.874424033, 579.18604776, \"ja\"), Interval(579.246641262, 579.601546062, \"genau\"), Interval(585.160498441, 585.593309172, \"mittig\"), Interval(585.9655264, 586.121338264, \"ja\"), Interval(587.540957461, 587.835268759, \"ja\"), Interval(598.217395274, 599.282109672, \"direkt in der Küche steht\"), Interval(601.342288752, 601.783755698, \"achso\"), Interval(604.657618952, 605.428022053, \"ja ich <v='glaube'>glaub'</v> auch\"), Interval(605.446997075, 607.403301579, \"also ( <p='allein'>allei-</p> + allein ) schon {F äh} für die Schuhe\"), Interval(609.195138006, 609.402887157, \"ja\"), Interval(610.00882218, 612.337343913, \"<laughter/><laughterOffset/>\"), Interval(617.25573641, 618.043451941, \"ja ja genau\"), Interval(618.043451941, 618.883104759, \"ja ja genau\"), Interval(625.42020939, 625.64527097, \"ja\"), Interval(640.866221459, 643.835303074, \"ja ja genau ( wo + ( wo + wo ) ) man das Essen so durchreicht so\"), Interval(643.835303074, 644.216176517, \"ja ja\"), Interval(644.233488946, 644.380644595, \"ja\"), Interval(654.754114895, 655.022457549, \"nee\"), Interval(655.377362348, 656.641169683, \"<laughter/><laughterOffset/>\"), Interval(659.644876156, 662.754119798, \"(also <p>m-</p>+ also) den Flur ( <v='würde'>würd'</v> ich ja <p='schon'>sch-</p> + <v='würde'>würd'</v> ich ja schon ) mal sagen ist ja okay\"), Interval(663.524522899, 664.641174585, \"dann <v='würde'>würd'</v> ich aber\"), Interval(664.788330234, 665.160547462, \"ja\"), Interval(668.449909018, 669.0904689, \"ja ja genau\"), Interval(669.377786575, 681.827085792, \"und dann <v='würde'>würd'</v> ich {F äh} .. sozusagen am Ende des Flurs ( jeweils + { <nv/> } jeweils ) an {F äh} den beiden Seiten links und rechts . zwei Türen . so dass auf der einen Seite die Küche und auf der anderen Seite <nv type='breathing'/> {F äh} das Wohnzimmer ist\"), Interval(683.60160979, 683.809358941, \"ja\"), Interval(691.41017797, 693.80794942, \"doch man kann ja noch mal <v='ein'>'n</v> paar ( <p='Durchgänge'>D-</p> + Durchgänge ) bauen\"), Interval(694.597327542, 696.363195325, \"<laughter> <unsure> also </unsure> </laughter> <laughterOffset/>\"), Interval(702.060647138, 703.575484697, \"ach so ja ja gut okay ja\"), Interval(704.190075935, 706.69172196, \"<laughter/><laughterOffset/>\"), Interval(722.804262555, 723.47079108, \"(ach so <p>mei-</p> +) ja\"), Interval(723.721821305, 723.877633168, \"ja\"), Interval(726.908970877, 727.315812965, \"ja\"), Interval(727.402375111, 727.592811832, \"ja\"), Interval(730.873517174, 731.643920275, \"ja ich <v='glaube'>glaub'</v> ich -\"), Interval(733.106820546, 735.038818999, \"da <v='ein'>'n</v> Zimmer da da und dann da ja\"), Interval(735.376411369, 735.558191876, \"ja\"), Interval(737.06437322, 737.315403444, \"ja\"), Interval(737.445246663, 737.678964458, \"doch\"), Interval(737.817463892, 737.999244399, \"ja\"), Interval(739.496769529, 739.70451868, \"ja\"), Interval(745.246158629, 747.843023016, \"also ich würde schon: gerne <v='ein'>'n</v> großes Zimmer haben\"), Interval(748.985643346, 749.210704926, \"ja\"), Interval(749.453078935, 749.747390232, \"ja\"), Interval(750.017395478, 750.259769487, \"ja ja\"), Interval(750.476174853, 752.493072859, \"( dann haben wir <p='fünfzig'>fünf-</p> + . dann haben wir fünfzig ) schon mal weg\"), Interval(755.167843177, 756.319119722, \"<nv type='breathing'/>\"), Interval(757.063554179, 757.574270842, \"j:a\"), Interval(758.311711677, 759.263895285, \"auch fünfundzwanzig ?\"), Interval(765.626213032, 765.972461617, \"ja\"), Interval(766.095311214, 766.242466862, \"ja\"), Interval(766.311716579, 766.597371662, \"ja\"), Interval(767.160025612, 767.376430978, \"ja\"), Interval(768.285333513, 771.860350151, \"okay dann brauchen wir noch ... Badezimmer können wir . zwanzig\"), Interval(776.29399463, 780.327790643, \"<laughter/><laughterOffset/>\"), Interval(786.155085675, 787.715483403, \"<laughter/>\"), Interval(787.715483403, 790.129487414, \"<laughterOffset/><laughter> also meinst du das ist Strafe genug oder was </laughter>\"), Interval(794.111809504, 796.171988584, \"also wir waren jetzt ( <p>g-</p> + ) bei: wieviel Quadratm-\"), Interval(796.171988584, 796.916423042, \"achtzig genau\"), Interval(797.757738452, 799.333169513, \"( dann brauchen wir + { also } ) gut dann <p>ma-</p>\"), Interval(805.383863533, 805.851299123, \"ja\"), Interval(806.216522729, 809.878101514, \"ja ja aber das <v='wäre'>wär'</v> dann ja . wieder so <v='ein'>'n</v> Wohnzimmerküchemix\"), Interval(818.449416581, 818.657165732, \"<laughter/>\"), Interval(819.756504989, 820.604814022, \"ja ja ja ja\"), Interval(820.604814022, 820.968375036, \"okay\"), Interval(821.558660222, 824.294024043, \"sagen wir ... vierzig Quadratmeter das . <p='Wohnzimmer'>Wo-</p>\"), Interval(825.402019514, 826.74373278, \"nee wir hatten gerade achtzig\"), Interval(834.362864239, 835.453547281, \"oh der Timer läuft gar <v='nicht'>nich'</v>\"), Interval(836.935422574, 840.579688929, \"na ja <laughter> gut </laughter> <laughterOffset/> {F ähm} .. gut ich <v='gucke'>guck'</v> mal so grob auf die Uhr\"), Interval(845.749111651, 846.675326615, \"nee da läuft nix\"), Interval(846.822482264, 847.774665872, \"da steht fünfzehn Minuten\"), Interval(849.860813595, 850.804340989, \"{F äh} {F äh} ja\"), Interval(853.870303557, 854.251177001, \"gut <unsure>wo</unsure> -\"), Interval(854.6060818, 854.952330385, \"ja\"), Interval(855.921826423, 857.566507201, \"( zwei + zwei ) mal fünfundzwanzig\"), Interval(858.48406595, 859.090000974, \"und dann\"), Interval(862.632055346, 863.021585004, \"genau\"), Interval(863.376489804, 865.39338781, \"<nv type='breathing'/>\"), Interval(865.39338781, 866.007979048, \"Gott ja\"), Interval(866.259009272, 869.913594435, \"<laughter> so viel Platz </laughter> <laughter/> <laughterOffset/>\"), Interval(870.190593303, 870.831153185, \"{F äh} ja\"), Interval(875.237166427, 875.912351167, \"<v='ein'>'n</v> An-\"), Interval(877.808062169, 878.268504136, \"nee\"), Interval(878.779220799, 879.809310339, \"nee <v='das'>det</v> brauchen wir <v='nicht'>nich'</v>\"), Interval(885.939572883, 888.752842635, \"<laughter/><laughterOffset/>\"), Interval(894.528200379, 898.293653739, \"häh ( wir haben doch unsere Zimmer . <p='jeweils'>jewei-</p> + ) also Flur ist hier und unsere Zimmer hier\"), Interval(898.414840744, 899.470898928, \"wie willst du da noch <v='ein'>'n</v> -\"), Interval(904.276760635, 904.891351873, \"<unclear/>\"), Interval(907.93833942, 912.328702825, \"ja gut aber ich finde es {F äh} irgendwie nicht logisch wenn wir . ( hier den + ( hier + ( hier + .. hier ) ) )\"), Interval(912.778825985, 918.000185994, \"( nein <p='wir'>w-</p> + nein wir ) haben . hier das Zimmer . ( da die + .. da den ) Flur . und hier <v='ein'>'n</v> Zimmer\"), Interval(919.532335982, 919.904553211, \"ja\"), Interval(925.775129316, 926.095409257, \"ah ja\"), Interval(927.350560377, 927.688152747, \"<v='ja'>jo</v>\"), Interval(930.215767417, 930.613953289, \"zehn\"), Interval(931.635386614, 932.094165989, \"zehn\"), Interval(933.827071506, 934.043476871, \"ja\"), Interval(935.10819127, 936.320061317, \"( dann <v='haben'>ham</v> + dann <v='haben'>ham</v> ) <v='wir'>wa</v> hundert\"), Interval(937.350150857, 940.726074559, \"jetzt brauchen wir noch Küche ... Bad\"), Interval(942.658073012, 943.826661985, \"Küche Bad brauchen wir noch ne\"), Interval(948.137456867, 949.008418087, \"<laughter> ja  </laughter>\"), Interval(951.374820304, 953.16470239, \"<laughter>ja ja genau</laughter><laughterOffset/>\"), Interval(958.874488181, 960.519168959, \"ja wir wollen also vier <v='würde'>würd'</v> ich sagen\"), Interval(960.631699749, 961.263603417, \"vier ist schön\"), Interval(962.172505952, 963.972998593, \"und dann brauchen wir dazu auch noch die passende Dusche\"), Interval(967.87861398, 969.012578095, \"ja also s:echzig\"), Interval(969.791637411, 974.528249401, \"man kann das ja auch irgendwie noch so baulich voneinander so mit ( <p>k-</p> + ) irgendwelchen halboffenen Wänden oder so abtrennen\"), Interval(975.991149672, 976.164273964, \"ja\"), Interval(979.903758681, 981.470533527, \"dann . jetzt noch die . Küche\"), Interval(982.381098654, 982.632128879, \"ja\"), Interval(983.800717852, 987.16798534, \"<laughter> boah die Küche vierzig Quadratmeter </laughter> <laughterOffset/> na gut ja ja gut\"), Interval(992.726937719, 995.263208603, \"ja jeder kann ja sein Zimmer . einrichten . wie er will\"), Interval(995.44498911, 995.765269051, \"genau\"), Interval(1002.61399741, 1006.32051986, \"ja gut ( ich hab <v='ein'>'n</v> + ... ich hab <v='ein'>'n</v> ) Bett ich <laughter> hab' <v='einen'>'nen</v> Schrank </laughter> <laughterOffset/>\"), Interval(1014.64946092, 1014.91780357, \"ja\"), Interval(1014.96108464, 1015.75745639, \"genau wir müssen\"), Interval(1015.87864339, 1016.06908011, \"ja\"), Interval(1016.50189085, 1016.67501514, \"ja\"), Interval(1017.25498152, 1017.80032304, \"dunkel ?\"), Interval(1020.21706951, 1023.20346355, \"<laughter/> also ( du + {F äh} willst du ) schwarzes Parkett haben ?\"), Interval(1028.03363131, 1028.76940956, \"ja gut okay\"), Interval(1029.34071972, 1029.71293695, \"okay\"), Interval(1030.56207728, 1032.84731794, \"aber dann auch ( <p='noch'>no-</p> + ( noch <v='ein'>'n</v> + noch <v='ein'>'n</v> ) ) ( <p='paar'>p-</p> + paar ) <v='Teppiche'>Teppige</v>\"), Interval(1036.10371723, 1037.15977541, \"nei:n nein nein\"), Interval(1037.69646072, 1038.36368714, \"ja ja genau\"), Interval(1038.36368714, 1038.70058161, \"ja ja\"), Interval(1038.94295562, 1039.13339235, \"ja\"), Interval(1040.09423217, 1040.9425412, \"und dann: ja\"), Interval(1045.25499867, 1045.61855969, \"ja\"), Interval(1046.51014979, 1047.06414753, \"( wie + {F äh } wie ) ?\"), Interval(1050.7793262, 1052.12103946, \"ja das ist mir ja egal\"), Interval(1055.82589932, 1056.81270779, \"weiße Fliesen ?\"), Interval(1060.48460538, 1060.74429182, \"ja\"), Interval(1062.24181695, 1062.44090988, \"ja\"), Interval(1064.64824461, 1065.5311785, \"{F äh:m:}\"), Interval(1066.5456182, 1066.92649165, \"Küche\"), Interval(1067.93926876, 1069.17710745, \"ja auch irgendwie auch\"), Interval(1070.54478936, 1071.52294161, \"auch irgendwie Fliesen\"), Interval(1071.54025404, 1074.83127819, \"( aber ich <p='finde'>find-</p> + { also } ich finde ) so ( diese + <mp type='creaky'> ( <p='diese'>die-</p> + </mp> diese ) ) amerikanischen Küchen\"), Interval(1077.00398806, 1077.31561179, \"ja\"), Interval(1078.07735867, 1080.53572362, \"und {F äh} {F äh} ( halt <p='so'>s</p>- + in der Mitte halt so )\"), Interval(1081.55016333, 1082.06953621, \"ja ja genau\"), Interval(1082.25131671, 1083.89599749, \"ja ja ( <p='das'>d-</p> + { also } das ) <v='finde'>find</v> ich\"), Interval(1085.70514635, 1086.05139493, \"ja\"), Interval(1087.99904322, 1088.98585169, \"nee: also\"), Interval(1090.70144477, 1091.65362838, \"( keine + keine ) Ahnung\"), Interval(1094.10333712, 1096.23276592, \"vielleicht rot-orange in dem Bereich\"), Interval(1097.33210517, 1097.74760348, \"also\"), Interval(1099.79213272, 1100.59716068, \"gut was fehlt denn -\"), Interval(1101.02997141, 1102.39765332, \"oh ja oh das ist schwierig\"), Interval(1103.69608551, 1106.8312978, \"also wir brauchen ( auf <p='mega'>m-</p> + (auf  + auf ) ) jeden Fall erstmal <v='ein'> 'n </v> mega Fernseher\"), Interval(1108.53657208, 1108.7876023, \"ja\"), Interval(1117.27235522, 1118.8345035, \"stimmt ja ja <laughter>genau</laughter> <laughterOffset/>\"), Interval(1118.83913007, 1120.84737186, \"ja ja ( und + und ) die passende Soundanlage dazu\"), Interval(1121.16065818, 1123.13427511, \"( <unsure> und <v='ein'>'n</v> </unsure> + und ) dann brauchen wir aber auf der anderen Seite\"), Interval(1127.91250559, 1128.58170831, \"<v='gehe'>geh'</v> ich mal von aus\"), Interval(1128.58170831, 1129.47928043, \"( <v='hoffe'><p='hoff'>ho-</p></v> + <v='hoffe'>hoff'</v> ) ich doch mal\"), Interval(1129.9397224, 1130.44178285, \"{F ähm:}\"), Interval(1132.42405599, 1133.16849045, \"ja ja genau\"), Interval(1137.30782363, 1138.69281797, \"ja: ja ja genau so\"), Interval(1140.23362418, 1140.57987276, \"Mhm\"), Interval(1144.13677398, 1144.67426228, \"{F ähm}\"), Interval(1145.77526413, 1146.32989172, \"ja auf jeden\"), Interval(1146.32989172, 1149.15118783, \"dann brauchen wir auch noch auf der anderen Seite ( <p='jedenweils'>jedenwei-</p> + jeweils ) so <v='ein'>'n</v> fettes Sofa\"), Interval(1152.06833215, 1152.37129967, \"Mhm\"), Interval(1159.18540317, 1159.81244, \"<laughter> was ? </laughter>\"), Interval(1160.7789827, 1162.10421009, \"<laughter/> <laughter> wegen der <p='Photosynthese'>Photosyn-</p> </laughter>\"), Interval(1162.26002195, 1163.30742392, \"ja ( aber ich + also ich )\"), Interval(1164.91747984, 1170.35524521, \"so vom Wohnzimmerstil her <v='würde'>würd'</v> ich das ( eher so: + ... ( eher + ( eher + eher ) ) ) modern einrichten also eher so -\"), Interval(1178.77940463, 1179.37668344, \"ja das passt\"), Interval(1181.20314472, 1181.48879981, \"ja\"), Interval(1182.36307748, 1182.54485799, \"ja\"), Interval(1184.10297662, 1188.45871517, \"( <p='aber'>a-</p> + aber ) so diesen ganzen ( <p='modischen'>mo-</p> + modischen ) Einrichtungskram so das meiste musst du sowieso machen\"), Interval(1188.72705782, 1192.29341825, \"weil das bei mir <laughter> dann immer total kahl und kalt aussieht </laughter> <laughterOffset/>\"), Interval(1192.71757276, 1192.98591542, \"ja\"), Interval(1193.58485682, 1194.2254167, \"{F äh} ja\"), Interval(1200.86639591, 1201.87917302, \"oh ja verdammt\"), Interval(1202.77076312, 1203.6450408, \"wieviel Qua- <v='haben wir'> hamwa </v>\"), Interval(1209.92245899, 1211.7056392, \"hatten wir nicht <v='eine'>'ne</v> Vierzig-Quadratmeter-Küche ?\"), Interval(1213.02138383, 1216.70027504, \"moment wir hatten fünfundzwanzig . und fünfundzwanzig .. sind fünfzig\"), Interval(1217.54159045, 1218.26871248, \"dann hatten wir\"), Interval(1221.76582318, 1222.30250849, \"zehn\"), Interval(1223.80868984, 1226.14753038, \"zehn war Ankleide ( <p='dann'>da-</p> + ( <p='dann'>da-</p>  + ( <p='dann'>da-</p> + dann ) ) ) sind wir bei sechzig\"), Interval(1226.67555947, 1229.22914278, \"( zehn <p='brauchen'>brau-</p> + zehn brauchen ) wir ( <unsure><p>au-</p></unsure> + <v='ein'>'n</v> Flur brauchen wir ja auch ) noch\"), Interval(1230.57951226, 1232.1982244, \"zehn brauchen wir für den Flur\"), Interval(1233.36847596, 1236.13846464, \"dann ( sind wir + sind wir ) bei ... siebzig\"), Interval(1241.28191872, 1242.38991419, \"{F äh:m:}\"), Interval(1243.36806644, 1246.64011557, \"Bad wollten wir sechzig machen wären wir bei (hundertzeh:n + . {nee} hundertdreißig)\"), Interval(1251.57582049, 1252.85350321, \"wir brauchen ja noch die Küche / woll-\"), Interval(1253.90577748, 1254.47565239, \"Küche\"), Interval(1256.97896101, 1257.78398897, \"nee <laughter/>\"), Interval(1261.8870347, 1262.94309288, \"gut dann wären wir jetzt bei ?\"), Interval(1265.6801193, 1266.96123906, \"( fünfund- + fünfundfünzig )\"), Interval(1269.44557266, 1270.10344497, \"was fehlt denn jetzt noch\"), Interval(1272.17228026, 1272.87343365, \"und die Küche\"), Interval(1274.26009058, 1275.36808605, \"{F äh:} das Bad\"), Interval(1277.4715462, 1277.705264, \"hatten\"), Interval(1279.11622698, 1279.72545612, \"<laughter> okay </laughter>\"), Interval(1279.72545612, 1281.18506228, \"<laughterOffset/>\"), Interval(1283.13437316, 1283.8095579, \"ja okay\"), Interval(1289.8532583, 1290.13891338, \"ja\"), Interval(1290.2687566, 1292.6405594, \"aber ich will: dann: . eher . Abendsonne\"), Interval(1293.93033538, 1295.21145515, \"ich will dann eher Abendsonne\"), Interval(1296.81285485, 1297.76503846, \"als morgens Sonne\"), Interval(1300.92621939, 1302.97774225, \"ja ja genau (so + (so + so)) glasmäßig\"), Interval(1303.27205355, 1306.94395114, \"so dass man da so <v='ein'>'n</v> bisschen rausgucken kann und ( dann + dann ) halt so schön grillen kann <unclear/>\"), Interval(1308.00908119, 1308.18220548, \"ja\"), Interval(1310.40685264, 1310.67519529, \"{F mh}\")])]"
      ]
     },
     "execution_count": 6,
     "metadata": {},
     "output_type": "execute_result"
    }
   ],
   "source": [
    "tg.tiers"
   ]
  },
  {
   "cell_type": "code",
   "execution_count": 39,
   "id": "8067b129-b73a-4d2e-a8a8-959a687cd6cd",
   "metadata": {},
   "outputs": [],
   "source": [
    "tg_wordLevel_path = 'r1A_wordlevel.TextGrid' \n",
    "tg_wordLevel_A = tgt.read_textgrid(tg_wordLevel_path)\n",
    "tg_wordLevel = tg_wordLevel_A.get_tier_by_name('ORT-MAU')"
   ]
  },
  {
   "cell_type": "code",
   "execution_count": 56,
   "id": "4660ca46-68b6-44bb-8bb2-6802b19b7888",
   "metadata": {},
   "outputs": [
    {
     "data": {
      "text/plain": [
       "IntervalTier(start_time=0.0, end_time=1631.936, name=\"ORT-MAU\", objects=[Interval(555.791958, 556.120896, \"Mhm\"), Interval(557.064417, 557.211542, \"ja\"), Interval(562.649333, 562.946458, \"<laughter>sehr\"), Interval(562.946458, 563.116458, \"richtig<\"), Interval(563.116458, 563.411083, \"laughter>\"), Interval(564.572188, 564.752187, \"ja\"), Interval(565.862271, 566.112271, \"also\"), Interval(567.680271, 568.3295, \"mehr\"), Interval(578.008792, 578.355917, \"ja\"), Interval(578.874417, 579.121542, \"ja\"), Interval(579.246625, 579.53375, \"genau\"), Interval(585.197604, 585.567604, \"mittig\"), Interval(585.982646, 586.121333, \"ja\"), Interval(587.588062, 587.778063, \"ja\"), Interval(598.217375, 598.4645, \"direkt\"), Interval(598.4645, 598.5345, \"in\"), Interval(598.5345, 598.6745, \"der\"), Interval(598.6745, 598.9245, \"Küche\"), Interval(598.9245, 599.282104, \"steht\"), Interval(601.419396, 601.739396, \"achso\"), Interval(604.657604, 604.924729, \"ja\"), Interval(604.924729, 604.984729, \"ich\"), Interval(604.984729, 605.014729, \"<v='glaube'>glaub'</v>\"), Interval(605.014729, 605.428021, \"auch\"), Interval(605.446979, 605.734104, \"also\"), Interval(605.734104, 605.764104, \"<p='allein'>allei-</p>\"), Interval(605.764104, 606.304104, \"allein\"), Interval(606.304104, 606.649104, \"schon\"), Interval(606.649104, 606.714104, \"F\"), Interval(606.714104, 606.904104, \"äh\"), Interval(606.904104, 606.954104, \"für\"), Interval(606.954104, 607.104104, \"die\"), Interval(607.104104, 607.403292, \"Schuhe\"), Interval(609.195125, 609.38225, \"ja\"), Interval(610.645937, 610.875937, \"<laughter/><laughterOffset/>\"), Interval(617.255729, 617.342854, \"ja\"), Interval(617.342854, 617.692854, \"ja\"), Interval(617.692854, 618.043437, \"genau\"), Interval(618.043437, 618.380562, \"ja\"), Interval(618.380562, 618.570563, \"ja\"), Interval(618.570563, 618.840563, \"genau\"), Interval(625.447333, 625.645271, \"ja\"), Interval(640.866208, 640.983333, \"ja\"), Interval(640.983333, 641.133333, \"ja\"), Interval(641.133333, 641.423333, \"genau\"), Interval(641.423333, 641.753333, \"wo\"), Interval(641.753333, 641.943333, \"wo\"), Interval(641.943333, 642.023333, \"wo\"), Interval(642.023333, 642.483333, \"man\"), Interval(642.483333, 642.678333, \"das\"), Interval(642.678333, 642.923333, \"Essen\"), Interval(642.923333, 643.083333, \"so\"), Interval(643.083333, 643.723333, \"durchreicht\"), Interval(643.723333, 643.835292, \"so\"), Interval(643.835292, 644.042417, \"ja\"), Interval(644.042417, 644.216167, \"ja\"), Interval(644.233479, 644.380646, \"ja\"), Interval(654.771229, 655.022458, \"nee\"), Interval(655.724479, 656.574479, \"<laughter/><laughterOffset/>\"), Interval(659.644875, 659.852, \"also\"), Interval(659.852, 659.932, \"<p>m-<\"), Interval(659.932, 659.962, \"p>\"), Interval(659.962, 660.152, \"also\"), Interval(660.152, 660.292, \"den\"), Interval(660.342, 660.582, \"Flur\"), Interval(660.582, 660.612, \"<v='würde'>würd'</v>\"), Interval(660.612, 660.772, \"ich\"), Interval(660.772, 660.902, \"ja\"), Interval(660.902, 660.942, \"<p='schon'>sch-</p>\"), Interval(660.942, 660.972, \"<v='würde'>würd'</v>\"), Interval(660.972, 661.372, \"ich\"), Interval(661.372, 661.472, \"ja\"), Interval(661.472, 661.612, \"schon\"), Interval(661.612, 661.807, \"mal\"), Interval(661.807, 662.112, \"sagen\"), Interval(662.112, 662.272, \"ist\"), Interval(662.272, 662.332, \"ja\"), Interval(662.332, 662.754125, \"okay\"), Interval(663.524521, 663.961646, \"dann\"), Interval(663.961646, 663.991646, \"<v='würde'>würd'</v>\"), Interval(663.991646, 664.151646, \"ich\"), Interval(664.151646, 664.641188, \"aber\"), Interval(664.788312, 665.085438, \"ja\"), Interval(668.449896, 668.577021, \"ja\"), Interval(668.577021, 668.737021, \"ja\"), Interval(668.737021, 669.067021, \"genau\"), Interval(669.377771, 669.444896, \"und\"), Interval(669.444896, 669.654896, \"dann\"), Interval(669.654896, 669.684896, \"<v='würde'>würd'</v>\"), Interval(669.684896, 669.814896, \"ich\"), Interval(669.814896, 670.004896, \"F\"), Interval(670.004896, 670.404896, \"äh\"), Interval(670.764896, 671.244896, \"sozusagen\"), Interval(671.244896, 671.334896, \"am\"), Interval(671.334896, 671.674896, \"Ende\"), Interval(671.674896, 671.814896, \"des\"), Interval(671.814896, 672.454896, \"Flurs\"), Interval(672.454896, 673.404896, \"jeweils\"), Interval(673.404896, 673.634896, \"<nv/>\"), Interval(673.634896, 674.414896, \"jeweils\"), Interval(674.414896, 674.844896, \"an\"), Interval(674.844896, 674.904896, \"F\"), Interval(674.904896, 675.134896, \"äh\"), Interval(675.204896, 675.364896, \"den\"), Interval(675.364896, 675.584896, \"beiden\"), Interval(675.584896, 675.804896, \"Seiten\"), Interval(675.804896, 676.004896, \"links\"), Interval(676.004896, 676.114896, \"und\"), Interval(676.114896, 676.344896, \"rechts\"), Interval(676.344896, 676.874896, \"zwei\"), Interval(676.874896, 677.264896, \"Türen\"), Interval(677.404896, 677.474896, \"so\"), Interval(677.474896, 677.854896, \"dass\"), Interval(677.854896, 677.974896, \"auf\"), Interval(677.974896, 678.094896, \"der\"), Interval(678.094896, 678.254896, \"einen\"), Interval(678.254896, 678.584896, \"Seite\"), Interval(678.684896, 678.794896, \"die\"), Interval(678.794896, 679.054896, \"Küche\"), Interval(679.054896, 679.124896, \"und\"), Interval(679.124896, 679.244896, \"auf\"), Interval(679.244896, 679.364896, \"der\"), Interval(679.364896, 679.574896, \"anderen\"), Interval(679.574896, 679.914896, \"Seite\"), Interval(679.914896, 679.984896, \"<nv\"), Interval(679.984896, 680.174896, \"type\"), Interval(680.174896, 680.494896, \"'breathing'\"), Interval(680.494896, 680.604896, \"F\"), Interval(680.854896, 681.074896, \"äh\"), Interval(681.074896, 681.194896, \"das\"), Interval(681.194896, 681.644896, \"Wohnzimmer\"), Interval(681.644896, 681.827083, \"ist\"), Interval(683.601604, 683.809354, \"ja\"), Interval(691.410167, 691.567292, \"doch\"), Interval(691.567292, 691.707292, \"man\"), Interval(691.707292, 691.847292, \"kann\"), Interval(691.847292, 691.947292, \"ja\"), Interval(691.947292, 692.127292, \"noch\"), Interval(692.127292, 692.327292, \"mal\"), Interval(692.327292, 692.497292, \"<v='ein'>'n</v>\"), Interval(692.497292, 692.737292, \"paar\"), Interval(692.737292, 692.877292, \"<p='Durchgänge'>D-</p>\"), Interval(692.937292, 693.497292, \"Durchgänge\"), Interval(693.497292, 693.767292, \"bauen\"), Interval(694.597313, 694.634437, \"<laughter>\"), Interval(694.634437, 694.724438, \"<unsure>\"), Interval(694.724438, 696.264437, \"also\"), Interval(696.264437, 696.294437, \"</unsure>\"), Interval(696.294437, 696.324438, \"</laughter>\"), Interval(696.324438, 696.363187, \"<laughterOffset/>\"), Interval(702.107771, 702.177771, \"ach\"), Interval(702.177771, 702.367771, \"so\"), Interval(702.367771, 702.497771, \"ja\"), Interval(702.497771, 702.757771, \"ja\"), Interval(702.757771, 703.027771, \"gut\"), Interval(703.027771, 703.397771, \"okay\"), Interval(703.397771, 703.5755, \"ja\"), Interval(705.807188, 706.157187, \"<laughter/><laughterOffset/>\"), Interval(722.80425, 722.921375, \"ach\"), Interval(722.921375, 723.191375, \"so\"), Interval(723.191375, 723.221375, \"<p>mei-</p>\"), Interval(723.221375, 723.470792, \"ja\"), Interval(723.721813, 723.877625, \"ja\"), Interval(726.908958, 727.315812, \"ja\"), Interval(727.402375, 727.592813, \"ja\"), Interval(730.900625, 731.100625, \"ja\"), Interval(731.100625, 731.160625, \"ich\"), Interval(731.160625, 731.250625, \"<v='glaube'>glaub'</v>\"), Interval(731.250625, 731.570625, \"ich\"), Interval(733.106813, 733.243938, \"da\"), Interval(733.243938, 733.273937, \"<v='ein'>'n</v>\"), Interval(733.273937, 733.523937, \"Zimmer\"), Interval(733.523937, 733.743938, \"da\"), Interval(733.743938, 734.073938, \"da\"), Interval(734.073938, 734.103938, \"und\"), Interval(734.103938, 734.413937, \"dann\"), Interval(734.413937, 734.683937, \"da\"), Interval(734.683937, 734.933937, \"ja\"), Interval(735.376396, 735.503521, \"ja\"), Interval(737.064354, 737.281479, \"ja\"), Interval(737.445229, 737.678958, \"doch\"), Interval(737.817458, 737.99925, \"ja\"), Interval(739.49675, 739.683875, \"ja\"), Interval(745.246146, 745.363271, \"also\"), Interval(745.363271, 745.563271, \"ich\"), Interval(745.563271, 745.883271, \"würde\"), Interval(745.983271, 746.583271, \"schon\"), Interval(746.683271, 747.033271, \"gerne\"), Interval(747.033271, 747.063271, \"<v='ein'>'n</v>\"), Interval(747.063271, 747.303271, \"großes\"), Interval(747.403271, 747.573271, \"Zimmer\"), Interval(747.573271, 747.843021, \"haben\"), Interval(748.985625, 749.16275, \"ja\"), Interval(749.453062, 749.650188, \"ja\"), Interval(750.017375, 750.1645, \"ja\"), Interval(750.1645, 750.25975, \"ja\"), Interval(750.476167, 750.663292, \"dann\"), Interval(750.663292, 751.013292, \"haben\"), Interval(751.013292, 751.223292, \"wir\"), Interval(751.223292, 751.253292, \"<p='fünfzig'>fünf-</p>\"), Interval(751.253292, 751.313292, \"dann\"), Interval(751.313292, 751.493292, \"haben\"), Interval(751.493292, 751.583292, \"wir\"), Interval(751.583292, 752.013292, \"fünfzig\"), Interval(752.013292, 752.143292, \"schon\"), Interval(752.143292, 752.253292, \"mal\"), Interval(752.253292, 752.383292, \"weg\"), Interval(755.167833, 755.304958, \"<nv\"), Interval(755.304958, 755.924958, \"type\"), Interval(755.924958, 756.319125, \"'breathing'\"), Interval(757.063542, 757.210667, \"j\"), Interval(757.210667, 757.470667, \"a\"), Interval(758.311708, 758.478833, \"auch\"), Interval(758.478833, 759.263896, \"fünfundzwanzig\"), Interval(765.626208, 765.933333, \"ja\"), Interval(766.122417, 766.222417, \"ja\"), Interval(766.338833, 766.597375, \"ja\"), Interval(767.160021, 767.347146, \"ja\"), Interval(768.285333, 768.542458, \"okay\"), Interval(768.542458, 768.672458, \"dann\"), Interval(768.672458, 768.882458, \"brauchen\"), Interval(768.882458, 768.952458, \"wir\"), Interval(768.952458, 769.292458, \"noch\"), Interval(770.052458, 770.622458, \"Badezimmer\"), Interval(770.682458, 770.832458, \"können\"), Interval(770.832458, 770.932458, \"wir\"), Interval(771.202458, 771.860354, \"zwanzig\"), Interval(777.841104, 778.431104, \"<laughter/><laughterOffset/>\"), Interval(786.272208, 787.092208, \"<laughter/>\"), Interval(787.715479, 787.762604, \"<laughterOffset/><laughter>\"), Interval(787.762604, 788.222604, \"also\"), Interval(788.222604, 788.492604, \"meinst\"), Interval(788.492604, 788.582604, \"du\"), Interval(788.582604, 788.722604, \"das\"), Interval(788.722604, 788.832604, \"ist\"), Interval(788.832604, 789.242604, \"Strafe\"), Interval(789.242604, 789.562604, \"genug\"), Interval(789.642604, 789.802604, \"oder\"), Interval(789.802604, 789.892604, \"was\"), Interval(789.892604, 790.1295, \"</laughter>\"), Interval(794.111792, 794.248917, \"also\"), Interval(794.248917, 794.358917, \"wir\"), Interval(794.358917, 794.538917, \"waren\"), Interval(794.538917, 794.678917, \"jetzt\"), Interval(794.678917, 794.888917, \"<p>g-</p>\"), Interval(794.888917, 795.288917, \"bei\"), Interval(795.348917, 795.578917, \"wieviel\"), Interval(795.578917, 796.171979, \"Quadratm-\"), Interval(796.171979, 796.599104, \"achtzig\"), Interval(796.649104, 796.899104, \"genau\"), Interval(797.757729, 797.854854, \"dann\"), Interval(797.854854, 798.214854, \"brauchen\"), Interval(798.214854, 798.314854, \"wir\"), Interval(798.314854, 798.634854, \"also\"), Interval(798.874854, 799.209854, \"gut\"), Interval(799.209854, 799.294854, \"dann\"), Interval(799.294854, 799.333167, \"<p>ma-</p>\"), Interval(805.383854, 805.851292, \"ja\"), Interval(806.216521, 806.313646, \"ja\"), Interval(806.313646, 806.413646, \"ja\"), Interval(806.413646, 806.973646, \"aber\"), Interval(806.973646, 807.353646, \"das\"), Interval(807.353646, 807.403646, \"<v='wäre'>wär'</v>\"), Interval(807.403646, 807.443646, \"dann\"), Interval(807.553646, 807.613646, \"ja\"), Interval(807.613646, 807.943646, \"wieder\"), Interval(807.943646, 808.253646, \"so\"), Interval(808.253646, 808.343646, \"<v='ein'>'n</v>\"), Interval(808.343646, 809.878104, \"Wohnzimmerküchemix\"), Interval(818.576521, 818.657146, \"<laughter/>\"), Interval(819.7565, 820.103625, \"ja\"), Interval(820.103625, 820.173625, \"ja\"), Interval(820.173625, 820.273625, \"ja\"), Interval(820.273625, 820.543625, \"ja\"), Interval(820.604812, 820.968375, \"okay\"), Interval(821.595771, 822.085771, \"sagen\"), Interval(822.835771, 822.945771, \"wir\"), Interval(823.065771, 823.475771, \"vierzig\"), Interval(823.475771, 824.095771, \"Quadratmeter\"), Interval(824.095771, 824.255771, \"das\"), Interval(824.255771, 824.294021, \"<p='Wohnzimmer'>Wo-</p>\"), Interval(825.402, 825.589125, \"nee\"), Interval(825.589125, 825.689125, \"wir\"), Interval(825.689125, 825.829125, \"hatten\"), Interval(825.829125, 826.059125, \"gerade\"), Interval(826.059125, 826.743729, \"achtzig\"), Interval(834.379979, 834.529979, \"oh\"), Interval(834.529979, 834.649979, \"der\"), Interval(834.649979, 834.899979, \"Timer\"), Interval(834.899979, 835.049979, \"läuft\"), Interval(835.109979, 835.319979, \"gar\"), Interval(835.319979, 835.453542, \"<v='nicht'>nich'</v>\"), Interval(836.962542, 837.052542, \"na\"), Interval(837.052542, 837.202542, \"ja\"), Interval(837.202542, 837.302542, \"<laughter>\"), Interval(837.302542, 837.832542, \"gut\"), Interval(837.832542, 837.892542, \"</laughter>\"), Interval(837.892542, 837.922542, \"<laughterOffset/>\"), Interval(837.922542, 838.122542, \"F\"), Interval(838.322542, 838.642542, \"ähm\"), Interval(839.162542, 839.342542, \"gut\"), Interval(839.342542, 839.422542, \"ich\"), Interval(839.422542, 839.492542, \"<v='gucke'>guck'</v>\"), Interval(839.492542, 839.722542, \"mal\"), Interval(839.722542, 839.832542, \"so\"), Interval(839.832542, 840.062542, \"grob\"), Interval(840.062542, 840.202542, \"auf\"), Interval(840.262542, 840.322542, \"die\"), Interval(840.322542, 840.552542, \"Uhr\"), Interval(845.786229, 845.966229, \"nee\"), Interval(845.966229, 846.016229, \"da\"), Interval(846.016229, 846.286229, \"läuft\"), Interval(846.286229, 846.426229, \"nix\"), Interval(846.822479, 846.909604, \"da\"), Interval(846.909604, 847.119604, \"steht\"), Interval(847.119604, 847.449604, \"fünfzehn\"), Interval(847.449604, 847.729604, \"Minuten\"), Interval(849.860812, 850.067937, \"F\"), Interval(850.067937, 850.262938, \"äh\"), Interval(850.262938, 850.407938, \"F\"), Interval(850.407938, 850.617938, \"äh\"), Interval(850.617938, 850.787937, \"ja\"), Interval(853.887417, 854.217417, \"gut\"), Interval(854.217417, 854.251167, \"<unsure>wo</unsure>\"), Interval(854.643187, 854.952312, \"ja\"), Interval(855.921812, 856.178937, \"zwei\"), Interval(856.178937, 856.438937, \"zwei\"), Interval(856.438937, 856.548937, \"mal\"), Interval(856.548937, 857.5665, \"fünfundzwanzig\"), Interval(858.484063, 858.631188, \"und\"), Interval(858.631188, 859.09, \"dann\"), Interval(862.659167, 862.959167, \"genau\"), Interval(863.443604, 863.763604, \"<nv\"), Interval(863.763604, 864.253604, \"type\"), Interval(864.253604, 865.253604, \"'breathing'\"), Interval(865.393375, 865.7205, \"Gott\"), Interval(865.7205, 866.007979, \"ja\"), Interval(866.259, 866.476125, \"<laughter>\"), Interval(866.476125, 866.716125, \"so\"), Interval(866.716125, 866.936125, \"viel\"), Interval(866.936125, 868.286125, \"Platz\"), Interval(868.286125, 868.826125, \"</laughter>\"), Interval(868.826125, 869.406125, \"<laughter/>\"), Interval(869.806125, 869.913604, \"<laughterOffset/>\"), Interval(870.190583, 870.287708, \"F\"), Interval(870.287708, 870.557708, \"äh\"), Interval(870.557708, 870.831146, \"ja\"), Interval(875.237146, 875.274271, \"<v='ein'>'n</v>\"), Interval(875.274271, 875.912333, \"An-\"), Interval(877.808042, 878.115167, \"nee\"), Interval(878.779208, 879.106333, \"nee\"), Interval(879.106333, 879.186333, \"<v='das'>det</v>\"), Interval(879.186333, 879.516333, \"brauchen\"), Interval(879.516333, 879.771333, \"wir\"), Interval(879.771333, 879.809313, \"<v='nicht'>nich'</v>\"), Interval(886.956688, 887.376688, \"<laughter/><laughterOffset/>\"), Interval(894.545313, 894.755312, \"häh\"), Interval(894.755312, 894.885313, \"wir\"), Interval(894.885313, 894.995312, \"haben\"), Interval(894.995312, 895.105312, \"doch\"), Interval(895.105312, 895.715312, \"unsere\"), Interval(895.715312, 896.075312, \"Zimmer\"), Interval(896.075312, 896.105312, \"<p='jeweils'>jewei-</p>\"), Interval(896.105312, 896.370312, \"also\"), Interval(896.370312, 896.715312, \"Flur\"), Interval(896.715312, 896.835312, \"ist\"), Interval(896.835312, 897.105312, \"hier\"), Interval(897.245312, 897.385313, \"und\"), Interval(897.385313, 897.705312, \"unsere\"), Interval(897.705312, 897.945312, \"Zimmer\"), Interval(897.945312, 898.255312, \"hier\"), Interval(898.414833, 898.511958, \"wie\"), Interval(898.511958, 898.701958, \"willst\"), Interval(898.701958, 898.771958, \"du\"), Interval(898.771958, 899.021958, \"da\"), Interval(899.071958, 899.431958, \"noch\"), Interval(899.431958, 899.470896, \"<v='ein'>'n</v>\"), Interval(904.27675, 904.643875, \"<unclear/>\"), Interval(907.938333, 908.005458, \"ja\"), Interval(908.005458, 908.155458, \"gut\"), Interval(908.155458, 908.265458, \"aber\"), Interval(908.265458, 908.345458, \"ich\"), Interval(908.345458, 908.585458, \"finde\"), Interval(908.585458, 908.675458, \"es\"), Interval(908.675458, 908.735458, \"F\"), Interval(908.735458, 908.865458, \"äh\"), Interval(908.865458, 909.225458, \"irgendwie\"), Interval(909.225458, 909.545458, \"nicht\"), Interval(909.625458, 909.925458, \"logisch\"), Interval(909.925458, 910.065458, \"wenn\"), Interval(910.065458, 910.205458, \"wir\"), Interval(910.335458, 910.755458, \"hier\"), Interval(910.755458, 910.985458, \"den\"), Interval(910.985458, 911.360458, \"hier\"), Interval(911.360458, 911.725458, \"hier\"), Interval(911.785458, 912.328708, \"hier\"), Interval(912.778812, 913.165938, \"nein\"), Interval(913.165938, 913.195938, \"<p='wir'>w-</p>\"), Interval(913.195938, 913.875937, \"nein\"), Interval(913.875937, 914.005937, \"wir\"), Interval(914.005937, 914.205938, \"haben\"), Interval(914.335938, 914.700938, \"hier\"), Interval(914.700938, 914.805938, \"das\"), Interval(914.805938, 915.135937, \"Zimmer\"), Interval(915.225937, 915.655938, \"da\"), Interval(915.655938, 915.895937, \"die\"), Interval(916.195938, 916.445938, \"da\"), Interval(916.445938, 916.595937, \"den\"), Interval(916.645937, 917.065938, \"Flur\"), Interval(917.265937, 917.335938, \"und\"), Interval(917.335938, 917.595937, \"hier\"), Interval(917.595937, 917.635937, \"<v='ein'>'n</v>\"), Interval(917.635937, 917.915938, \"Zimmer\"), Interval(919.532333, 919.904562, \"ja\"), Interval(925.775125, 925.87225, \"ah\"), Interval(925.87225, 926.05225, \"ja\"), Interval(927.350542, 927.597667, \"<v='ja'>jo</v>\"), Interval(930.232875, 930.613938, \"zehn\"), Interval(931.635375, 932.0025, \"zehn\"), Interval(933.827063, 933.994187, \"ja\"), Interval(935.145313, 935.525313, \"dann\"), Interval(935.525313, 935.555313, \"<v='haben'>ham</v>\"), Interval(935.555313, 935.735312, \"dann\"), Interval(935.735312, 935.765313, \"<v='haben'>ham</v>\"), Interval(935.765313, 935.795313, \"<v='wir'>wa</v>\"), Interval(935.795313, 936.255312, \"hundert\"), Interval(937.350146, 937.487271, \"jetzt\"), Interval(937.487271, 938.227271, \"brauchen\"), Interval(938.377271, 938.827271, \"wir\"), Interval(939.017271, 939.277271, \"noch\"), Interval(939.277271, 939.987271, \"Küche\"), Interval(939.987271, 940.647271, \"Bad\"), Interval(942.658063, 942.945187, \"Küche\"), Interval(942.945187, 943.215187, \"Bad\"), Interval(943.215187, 943.405188, \"brauchen\"), Interval(943.405188, 943.495188, \"wir\"), Interval(943.495188, 943.635188, \"noch\"), Interval(943.635188, 943.795187, \"ne\"), Interval(948.184562, 948.274563, \"<laughter>\"), Interval(948.274563, 948.964563, \"ja\"), Interval(948.964563, 949.008417, \"</laughter>\"), Interval(951.374812, 951.871937, \"<laughter>ja\"), Interval(951.871937, 951.961937, \"ja\"), Interval(951.961937, 952.221937, \"genau<\"), Interval(952.271938, 953.164708, \"laughter><laughterOffset\"), Interval(958.874479, 958.991604, \"ja\"), Interval(958.991604, 959.061604, \"wir\"), Interval(959.061604, 959.421604, \"wollen\"), Interval(959.421604, 959.561604, \"also\"), Interval(959.561604, 959.911604, \"vier\"), Interval(959.911604, 959.951604, \"<v='würde'>würd'</v>\"), Interval(959.951604, 960.176604, \"ich\"), Interval(960.176604, 960.481604, \"sagen\"), Interval(960.631687, 960.828813, \"vier\"), Interval(960.828813, 960.908812, \"ist\"), Interval(960.908812, 961.198813, \"schön\"), Interval(962.1725, 962.239625, \"und\"), Interval(962.239625, 962.329625, \"dann\"), Interval(962.329625, 962.519625, \"brauchen\"), Interval(962.519625, 962.589625, \"wir\"), Interval(962.589625, 962.909625, \"dazu\"), Interval(962.909625, 962.959625, \"auch\"), Interval(962.959625, 963.109625, \"noch\"), Interval(963.109625, 963.219625, \"die\"), Interval(963.219625, 963.569625, \"passende\"), Interval(963.569625, 963.919625, \"Dusche\"), Interval(967.895729, 968.005729, \"ja\"), Interval(968.005729, 968.365729, \"also\"), Interval(968.365729, 968.395729, \"s\"), Interval(968.395729, 968.895729, \"echzig\"), Interval(969.81875, 969.89875, \"man\"), Interval(969.89875, 969.98875, \"kann\"), Interval(969.98875, 970.09875, \"das\"), Interval(970.09875, 970.16875, \"ja\"), Interval(970.16875, 970.24875, \"auch\"), Interval(970.24875, 970.55875, \"irgendwie\"), Interval(970.55875, 970.74875, \"noch\"), Interval(970.74875, 970.84875, \"so\"), Interval(970.84875, 971.23875, \"baulich\"), Interval(971.23875, 971.74875, \"voneinander\"), Interval(971.74875, 971.95875, \"so\"), Interval(972.05875, 972.16875, \"mit\"), Interval(972.16875, 972.51875, \"<p>k-</p>\"), Interval(972.51875, 972.89875, \"irgendwelchen\"), Interval(972.89875, 973.44875, \"halboffenen\"), Interval(973.44875, 973.74875, \"Wänden\"), Interval(973.74875, 973.97875, \"oder\"), Interval(973.97875, 974.05875, \"so\"), Interval(974.05875, 974.49875, \"abtrennen\"), Interval(976.028271, 976.164271, \"ja\"), Interval(979.90375, 980.120875, \"dann\"), Interval(980.180875, 980.380875, \"jetzt\"), Interval(980.380875, 980.490875, \"noch\"), Interval(980.580875, 980.800875, \"die\"), Interval(980.800875, 981.470542, \"Küche\"), Interval(982.408208, 982.588208, \"ja\"), Interval(983.837833, 983.867833, \"<laughter>\"), Interval(983.867833, 984.017833, \"boah\"), Interval(984.017833, 984.087833, \"die\"), Interval(984.087833, 984.227833, \"Küche\"), Interval(984.227833, 984.567833, \"vierzig\"), Interval(984.697833, 986.527833, \"Quadratmeter\"), Interval(986.527833, 986.557833, \"</laughter>\"), Interval(986.557833, 986.587833, \"<laughterOffset/>\"), Interval(986.587833, 986.737833, \"na\"), Interval(986.737833, 986.887833, \"gut\"), Interval(986.887833, 986.947833, \"ja\"), Interval(986.947833, 987.027833, \"ja\"), Interval(987.027833, 987.167979, \"gut\"), Interval(992.726937, 992.814062, \"ja\"), Interval(992.814062, 993.094062, \"jeder\"), Interval(993.094062, 993.234063, \"kann\"), Interval(993.234063, 993.324062, \"ja\"), Interval(993.324062, 993.484063, \"sein\"), Interval(993.484063, 993.864063, \"Zimmer\"), Interval(993.934062, 994.724062, \"einrichten\"), Interval(994.724062, 994.854063, \"wie\"), Interval(994.854063, 994.994063, \"er\"), Interval(994.994063, 995.164062, \"will\"), Interval(995.444979, 995.765271, \"genau\"), Interval(1002.651104, 1002.721104, \"ja\"), Interval(1002.721104, 1002.821104, \"gut\"), Interval(1002.821104, 1002.931104, \"ich\"), Interval(1002.931104, 1003.031104, \"hab\"), Interval(1003.031104, 1003.061104, \"<v='ein'>'n</v>\"), Interval(1003.061104, 1003.141104, \"ich\"), Interval(1003.141104, 1003.271104, \"hab\"), Interval(1003.401104, 1003.961104, \"<v='ein'>'n</v>\"), Interval(1003.961104, 1004.301104, \"Bett\"), Interval(1004.301104, 1004.451104, \"ich\"), Interval(1004.451104, 1004.531104, \"<laughter>\"), Interval(1004.531104, 1004.691104, \"hab\"), Interval(1004.691104, 1004.741104, \"<v='einen'>'nen</v>\"), Interval(1004.741104, 1005.201104, \"Schrank\"), Interval(1005.201104, 1005.761104, \"</laughter>\"), Interval(1005.831104, 1006.201104, \"<laughterOffset/>\"), Interval(1014.666583, 1014.917812, \"ja\"), Interval(1014.978208, 1015.178208, \"genau\"), Interval(1015.178208, 1015.248208, \"wir\"), Interval(1015.248208, 1015.757458, \"müssen\"), Interval(1015.878625, 1016.069062, \"ja\"), Interval(1016.501875, 1016.649, \"ja\"), Interval(1017.254979, 1017.800333, \"dunkel\"), Interval(1020.284188, 1020.764188, \"<laughter/>\"), Interval(1020.764188, 1021.174188, \"also\"), Interval(1021.174188, 1021.314188, \"du\"), Interval(1021.314188, 1021.664188, \"F\"), Interval(1021.664188, 1021.874187, \"äh\"), Interval(1021.874187, 1022.034188, \"willst\"), Interval(1022.034188, 1022.124187, \"du\"), Interval(1022.124187, 1022.564188, \"schwarzes\"), Interval(1022.564188, 1022.984187, \"Parkett\"), Interval(1022.984187, 1023.203458, \"haben\"), Interval(1028.06075, 1028.15075, \"ja\"), Interval(1028.15075, 1028.34075, \"gut\"), Interval(1028.34075, 1028.769417, \"okay\"), Interval(1029.340708, 1029.657833, \"okay\"), Interval(1030.579187, 1031.169187, \"aber\"), Interval(1031.169187, 1031.249188, \"dann\"), Interval(1031.249188, 1031.519188, \"auch\"), Interval(1031.519188, 1031.549188, \"<p='noch'>no-</p>\"), Interval(1031.549188, 1031.859187, \"noch\"), Interval(1031.859187, 1031.889187, \"<v='ein'>'n</v>\"), Interval(1031.889187, 1032.119187, \"noch\"), Interval(1032.119187, 1032.169187, \"<v='ein'>'n</v>\"), Interval(1032.169187, 1032.199188, \"<p='paar'>p-</p>\"), Interval(1032.199188, 1032.719188, \"paar\"), Interval(1032.719188, 1032.759188, \"<v='Teppiche'>Teppige</v>\"), Interval(1036.103708, 1036.610833, \"nei\"), Interval(1036.610833, 1036.640833, \"n\"), Interval(1036.640833, 1036.780833, \"nein\"), Interval(1036.780833, 1037.090833, \"nein\"), Interval(1037.696458, 1037.973583, \"ja\"), Interval(1037.973583, 1038.163583, \"ja\"), Interval(1038.163583, 1038.303583, \"genau\"), Interval(1038.363667, 1038.570792, \"ja\"), Interval(1038.570792, 1038.650792, \"ja\"), Interval(1038.942937, 1039.090062, \"ja\"), Interval(1040.111354, 1040.261354, \"und\"), Interval(1040.261354, 1040.601354, \"dann\"), Interval(1040.601354, 1040.871354, \"ja\"), Interval(1045.272104, 1045.582104, \"ja\"), Interval(1046.510146, 1046.697271, \"wie\"), Interval(1046.697271, 1046.767271, \"F\"), Interval(1046.767271, 1046.847271, \"äh\"), Interval(1046.847271, 1047.064146, \"wie\"), Interval(1050.806437, 1050.956437, \"ja\"), Interval(1050.956437, 1051.326438, \"das\"), Interval(1051.326438, 1051.416438, \"ist\"), Interval(1051.416438, 1051.586438, \"mir\"), Interval(1051.586438, 1051.726437, \"ja\"), Interval(1051.726437, 1052.076438, \"egal\"), Interval(1055.873021, 1056.213021, \"weiße\"), Interval(1056.213021, 1056.812708, \"Fliesen\"), Interval(1060.501729, 1060.701729, \"ja\"), Interval(1062.241812, 1062.418938, \"ja\"), Interval(1064.648229, 1064.745354, \"F\"), Interval(1064.745354, 1065.455354, \"äh\"), Interval(1065.455354, 1065.485354, \"m\"), Interval(1066.572729, 1066.926479, \"Küche\"), Interval(1067.93925, 1068.086375, \"ja\"), Interval(1068.086375, 1068.156375, \"auch\"), Interval(1068.156375, 1068.916375, \"irgendwie\"), Interval(1068.916375, 1069.177104, \"auch\"), Interval(1070.544771, 1070.711896, \"auch\"), Interval(1070.711896, 1070.996896, \"irgendwie\"), Interval(1070.996896, 1071.522937, \"Fliesen\"), Interval(1071.54025, 1071.687375, \"aber\"), Interval(1071.687375, 1071.787375, \"ich\"), Interval(1071.787375, 1071.837375, \"<p='finde'>find-</p>\"), Interval(1071.837375, 1072.067375, \"also\"), Interval(1072.067375, 1072.157375, \"ich\"), Interval(1072.157375, 1072.447375, \"finde\"), Interval(1072.447375, 1072.667375, \"so\"), Interval(1072.667375, 1073.077375, \"diese\"), Interval(1073.077375, 1073.177375, \"<mp\"), Interval(1073.177375, 1073.327375, \"type\"), Interval(1073.327375, 1073.577375, \"'creaky'>\"), Interval(1073.577375, 1073.607375, \"<p='diese'>die-</p>\"), Interval(1073.607375, 1073.637375, \"</mp>\"), Interval(1073.637375, 1073.777375, \"diese\"), Interval(1073.777375, 1074.467375, \"amerikanischen\"), Interval(1074.467375, 1074.797375, \"Küchen\"), Interval(1077.021104, 1077.271104, \"ja\"), Interval(1078.077354, 1078.334479, \"und\"), Interval(1078.334479, 1078.394479, \"F\"), Interval(1078.394479, 1078.434479, \"äh\"), Interval(1078.434479, 1078.524479, \"F\"), Interval(1078.524479, 1079.054479, \"äh\"), Interval(1079.054479, 1079.274479, \"halt\"), Interval(1079.274479, 1079.304479, \"<p\"), Interval(1079.304479, 1079.414479, \"'so'>s<\"), Interval(1079.414479, 1079.444479, \"p>-\"), Interval(1079.444479, 1079.494479, \"in\"), Interval(1079.494479, 1079.614479, \"der\"), Interval(1079.614479, 1079.894479, \"Mitte\"), Interval(1079.894479, 1080.124479, \"halt\"), Interval(1080.124479, 1080.464479, \"so\"), Interval(1081.550146, 1081.627271, \"ja\"), Interval(1081.627271, 1081.777271, \"ja\"), Interval(1081.777271, 1082.069521, \"genau\"), Interval(1082.251313, 1082.638438, \"ja\"), Interval(1082.638438, 1082.908437, \"ja\"), Interval(1082.908437, 1082.968437, \"<p='das'>d-</p>\"), Interval(1082.968437, 1083.338438, \"also\"), Interval(1083.338438, 1083.488437, \"das\"), Interval(1083.488437, 1083.518437, \"<v='finde'>find</v>\"), Interval(1083.518437, 1083.896, \"ich\"), Interval(1085.705146, 1086.051396, \"ja\"), Interval(1087.999042, 1088.376167, \"nee\"), Interval(1088.376167, 1088.956167, \"also\"), Interval(1090.701438, 1091.038562, \"keine\"), Interval(1091.038562, 1091.268562, \"keine\"), Interval(1091.318563, 1091.608563, \"Ahnung\"), Interval(1094.103333, 1094.350458, \"vielleicht\"), Interval(1094.460458, 1095.500458, \"rot-orange\"), Interval(1095.500458, 1095.570458, \"in\"), Interval(1095.570458, 1095.790458, \"dem\"), Interval(1095.790458, 1096.232771, \"Bereich\"), Interval(1097.332104, 1097.747604, \"also\"), Interval(1099.792125, 1099.87925, \"gut\"), Interval(1099.87925, 1099.99925, \"was\"), Interval(1099.99925, 1100.27925, \"fehlt\"), Interval(1100.27925, 1100.55925, \"denn\"), Interval(1101.029958, 1101.157083, \"oh\"), Interval(1101.157083, 1101.417083, \"ja\"), Interval(1101.417083, 1101.607083, \"oh\"), Interval(1101.607083, 1101.727083, \"das\"), Interval(1101.797083, 1101.897083, \"ist\"), Interval(1101.897083, 1102.317083, \"schwierig\"), Interval(1103.696083, 1104.103208, \"also\"), Interval(1104.103208, 1104.243208, \"wir\"), Interval(1104.243208, 1104.483208, \"brauchen\"), Interval(1104.483208, 1104.683208, \"auf\"), Interval(1104.683208, 1104.743208, \"<p='mega'>m-</p>\"), Interval(1104.743208, 1104.803208, \"auf\"), Interval(1104.803208, 1104.993208, \"auf\"), Interval(1104.993208, 1105.243208, \"jeden\"), Interval(1105.243208, 1105.553208, \"Fall\"), Interval(1105.553208, 1105.803208, \"erstmal\"), Interval(1105.803208, 1105.833208, \"<v='ein'>\"), Interval(1105.833208, 1105.973208, \"n\"), Interval(1105.973208, 1106.003208, \"</v>\"), Interval(1106.003208, 1106.263208, \"mega\"), Interval(1106.263208, 1106.831312, \"Fernseher\"), Interval(1108.553688, 1108.753688, \"ja\"), Interval(1117.272354, 1117.679479, \"stimmt\"), Interval(1117.679479, 1118.149479, \"ja\"), Interval(1118.299479, 1118.579479, \"ja\"), Interval(1118.579479, 1118.609479, \"<laughter>genau</laughter>\"), Interval(1118.609479, 1118.779479, \"<laughterOffset/>\"), Interval(1118.839125, 1118.97625, \"ja\"), Interval(1118.97625, 1119.04625, \"ja\"), Interval(1119.04625, 1119.22625, \"und\"), Interval(1119.22625, 1119.48625, \"und\"), Interval(1119.48625, 1119.57625, \"die\"), Interval(1119.57625, 1119.88625, \"passende\"), Interval(1119.88625, 1120.61625, \"Soundanlage\"), Interval(1120.61625, 1120.847375, \"dazu\"), Interval(1121.160646, 1121.197771, \"<unsure>\"), Interval(1121.197771, 1121.297771, \"und\"), Interval(1121.297771, 1121.327771, \"<v='ein'>'n</v>\"), Interval(1121.327771, 1121.357771, \"</unsure>\"), Interval(1121.357771, 1121.407771, \"und\"), Interval(1121.407771, 1121.547771, \"dann\"), Interval(1121.547771, 1121.747771, \"brauchen\"), Interval(1121.747771, 1121.907771, \"wir\"), Interval(1121.907771, 1122.267771, \"aber\"), Interval(1122.267771, 1122.377771, \"auf\"), Interval(1122.377771, 1122.527771, \"der\"), Interval(1122.527771, 1122.937771, \"anderen\"), Interval(1122.937771, 1123.134271, \"Seite\"), Interval(1127.9125, 1127.949625, \"<v='gehe'>geh'</v>\"), Interval(1127.949625, 1128.044625, \"ich\"), Interval(1128.044625, 1128.179625, \"mal\"), Interval(1128.179625, 1128.369625, \"von\"), Interval(1128.369625, 1128.581688, \"aus\"), Interval(1128.581688, 1128.648813, \"<v='hoffe'><p='hoff'>ho-</p></v>\"), Interval(1128.648813, 1128.678813, \"<v='hoffe'>hoff'</v>\"), Interval(1128.678813, 1128.828812, \"ich\"), Interval(1128.828812, 1129.288812, \"doch\"), Interval(1129.288812, 1129.418813, \"mal\"), Interval(1129.939708, 1130.036833, \"F\"), Interval(1130.036833, 1130.416833, \"ähm\"), Interval(1132.424042, 1132.611167, \"ja\"), Interval(1132.611167, 1132.751167, \"ja\"), Interval(1132.751167, 1133.168479, \"genau\"), Interval(1137.324938, 1137.394937, \"ja\"), Interval(1137.394937, 1137.614937, \"ja\"), Interval(1137.614937, 1137.724937, \"ja\"), Interval(1137.724937, 1138.194937, \"genau\"), Interval(1138.194937, 1138.692812, \"so\"), Interval(1140.233604, 1140.579854, \"Mhm\"), Interval(1144.136771, 1144.233896, \"F\"), Interval(1144.233896, 1144.653896, \"ähm\"), Interval(1145.812375, 1145.952375, \"ja\"), Interval(1145.952375, 1146.072375, \"auf\"), Interval(1146.072375, 1146.329875, \"jeden\"), Interval(1146.329875, 1146.427, \"dann\"), Interval(1146.427, 1146.587, \"brauchen\"), Interval(1146.587, 1146.747, \"wir\"), Interval(1146.747, 1146.907, \"auch\"), Interval(1146.907, 1146.967, \"noch\"), Interval(1147.047, 1147.187, \"auf\"), Interval(1147.187, 1147.357, \"der\"), Interval(1147.357, 1147.857, \"anderen\"), Interval(1147.857, 1148.027, \"Seite\"), Interval(1148.027, 1148.057, \"<p='jedenweils'>jedenwei-</p>\"), Interval(1148.057, 1148.317, \"jeweils\"), Interval(1148.317, 1148.467, \"so\"), Interval(1148.467, 1148.527, \"<v='ein'>'n</v>\"), Interval(1148.527, 1148.762, \"fettes\"), Interval(1148.762, 1149.127, \"Sofa\"), Interval(1152.068313, 1152.371292, \"Mhm\"), Interval(1159.185396, 1159.342521, \"<laughter>\"), Interval(1159.342521, 1159.672521, \"was\"), Interval(1159.772521, 1159.812437, \"</laughter>\"), Interval(1160.778979, 1160.816104, \"<laughter/>\"), Interval(1160.816104, 1160.846104, \"<laughter>\"), Interval(1160.846104, 1161.436104, \"wegen\"), Interval(1161.516104, 1161.776104, \"der\"), Interval(1161.776104, 1162.066104, \"<p='Photosynthese'>Photosyn-</p>\"), Interval(1162.066104, 1162.104208, \"</laughter>\"), Interval(1162.297146, 1162.437146, \"ja\"), Interval(1162.437146, 1162.647146, \"aber\"), Interval(1162.647146, 1162.777146, \"ich\"), Interval(1162.777146, 1163.037146, \"also\"), Interval(1163.037146, 1163.277146, \"ich\"), Interval(1164.934604, 1165.084604, \"so\"), Interval(1165.084604, 1165.254604, \"vom\"), Interval(1165.254604, 1165.924604, \"Wohnzimmerstil\"), Interval(1165.924604, 1166.064604, \"her\"), Interval(1166.064604, 1166.094604, \"<v='würde'>würd'</v>\"), Interval(1166.094604, 1166.244604, \"ich\"), Interval(1166.244604, 1166.384604, \"das\"), Interval(1166.384604, 1166.624604, \"eher\"), Interval(1166.624604, 1166.984604, \"so\"), Interval(1167.914604, 1168.169604, \"eher\"), Interval(1168.169604, 1168.484604, \"eher\"), Interval(1168.484604, 1168.604604, \"eher\"), Interval(1168.604604, 1168.954604, \"modern\"), Interval(1168.954604, 1169.724604, \"einrichten\"), Interval(1169.724604, 1170.069604, \"also\"), Interval(1170.069604, 1170.264604, \"eher\"), Interval(1170.264604, 1170.35525, \"so\"), Interval(1178.806521, 1178.916521, \"ja\"), Interval(1178.916521, 1179.026521, \"das\"), Interval(1179.026521, 1179.376687, \"passt\"), Interval(1181.203125, 1181.488792, \"ja\"), Interval(1182.390187, 1182.520188, \"ja\"), Interval(1184.102958, 1184.140083, \"<p='aber'>a-</p>\"), Interval(1184.140083, 1184.500083, \"aber\"), Interval(1184.500083, 1184.600083, \"so\"), Interval(1184.600083, 1184.930083, \"diesen\"), Interval(1184.930083, 1185.380083, \"ganzen\"), Interval(1185.380083, 1185.410083, \"<p='modischen'>mo-</p>\"), Interval(1185.410083, 1186.290083, \"modischen\"), Interval(1186.290083, 1187.030083, \"Einrichtungskram\"), Interval(1187.030083, 1187.100083, \"so\"), Interval(1187.100083, 1187.260083, \"das\"), Interval(1187.260083, 1187.450083, \"meiste\"), Interval(1187.450083, 1187.520083, \"musst\"), Interval(1187.520083, 1187.640083, \"du\"), Interval(1187.640083, 1188.200083, \"sowieso\"), Interval(1188.200083, 1188.430083, \"machen\"), Interval(1188.727042, 1188.924167, \"weil\"), Interval(1188.924167, 1189.094167, \"das\"), Interval(1189.094167, 1189.214167, \"bei\"), Interval(1189.214167, 1189.614167, \"mir\"), Interval(1189.614167, 1189.644167, \"<laughter>\"), Interval(1189.644167, 1189.754167, \"dann\"), Interval(1190.214167, 1190.404167, \"immer\"), Interval(1190.404167, 1190.944167, \"total\"), Interval(1191.004167, 1191.404167, \"kahl\"), Interval(1191.404167, 1191.564167, \"und\"), Interval(1191.614167, 1191.804167, \"kalt\"), Interval(1191.804167, 1192.174167, \"aussieht\"), Interval(1192.224167, 1192.254167, \"</laughter>\"), Interval(1192.254167, 1192.293417, \"<laughterOffset/>\"), Interval(1192.717562, 1192.985917, \"ja\"), Interval(1193.584854, 1193.681979, \"F\"), Interval(1193.681979, 1193.921979, \"äh\"), Interval(1193.921979, 1194.201979, \"ja\"), Interval(1200.866396, 1201.073521, \"oh\"), Interval(1201.073521, 1201.293521, \"ja\"), Interval(1201.293521, 1201.879187, \"verdammt\"), Interval(1202.77075, 1202.947875, \"wieviel\"), Interval(1202.947875, 1203.037875, \"Qua-\"), Interval(1203.037875, 1203.067875, \"<v\"), Interval(1203.067875, 1203.187875, \"'haben\"), Interval(1203.187875, 1203.317875, \"wir'>\"), Interval(1203.317875, 1203.597875, \"hamwa\"), Interval(1203.597875, 1203.645042, \"</v>\"), Interval(1209.922458, 1210.229583, \"hatten\"), Interval(1210.229583, 1210.349583, \"wir\"), Interval(1210.349583, 1210.419583, \"nicht\"), Interval(1210.419583, 1210.449583, \"<v='eine'>'ne</v>\"), Interval(1210.449583, 1211.669583, \"Vierzig-Quadratmeter-Küche\"), Interval(1213.021375, 1213.3085, \"moment\"), Interval(1213.3085, 1213.4285, \"wir\"), Interval(1213.4285, 1213.5585, \"hatten\"), Interval(1213.5585, 1214.3485, \"fünfundzwanzig\"), Interval(1214.3485, 1214.3785, \"und\"), Interval(1214.3785, 1215.5785, \"fünfundzwanzig\"), Interval(1215.9785, 1216.0985, \"sind\"), Interval(1216.0985, 1216.700271, \"fünfzig\"), Interval(1217.541583, 1217.648708, \"dann\"), Interval(1217.648708, 1217.898708, \"hatten\"), Interval(1217.898708, 1218.268708, \"wir\"), Interval(1221.782937, 1222.3025, \"zehn\"), Interval(1223.825812, 1224.065812, \"zehn\"), Interval(1224.065812, 1224.245813, \"war\"), Interval(1224.245813, 1224.615812, \"Ankleide\"), Interval(1224.615812, 1224.645812, \"<p='dann'>da-</p>\"), Interval(1224.645812, 1224.675812, \"<p='dann'>da-</p>\"), Interval(1224.675812, 1224.715813, \"<p='dann'>da-</p>\"), Interval(1224.715813, 1225.225813, \"dann\"), Interval(1225.225813, 1225.355812, \"sind\"), Interval(1225.355812, 1225.545813, \"wir\"), Interval(1225.545813, 1225.645812, \"bei\"), Interval(1225.645812, 1226.147542, \"sechzig\"), Interval(1226.675542, 1227.482667, \"zehn\"), Interval(1227.482667, 1227.532667, \"<p='brauchen'>brau-</p>\"), Interval(1227.532667, 1227.782667, \"zehn\"), Interval(1227.782667, 1228.042667, \"brauchen\"), Interval(1228.042667, 1228.332667, \"wir\"), Interval(1228.332667, 1228.382667, \"<unsure><p>au-</p></unsure>\"), Interval(1228.382667, 1228.412667, \"<v='ein'>'n</v>\"), Interval(1228.412667, 1228.602667, \"Flur\"), Interval(1228.602667, 1228.802667, \"brauchen\"), Interval(1228.802667, 1228.892667, \"wir\"), Interval(1228.892667, 1228.952667, \"ja\"), Interval(1228.952667, 1229.082667, \"auch\"), Interval(1229.082667, 1229.229125, \"noch\"), Interval(1230.606625, 1230.836625, \"zehn\"), Interval(1230.836625, 1231.156625, \"brauchen\"), Interval(1231.156625, 1231.316625, \"wir\"), Interval(1231.316625, 1231.586625, \"für\"), Interval(1231.586625, 1231.746625, \"den\"), Interval(1231.746625, 1232.176625, \"Flur\"), Interval(1233.368458, 1233.485583, \"dann\"), Interval(1233.485583, 1233.765583, \"sind\"), Interval(1233.765583, 1233.905583, \"wir\"), Interval(1233.905583, 1234.055583, \"sind\"), Interval(1234.055583, 1234.185583, \"wir\"), Interval(1234.185583, 1234.535583, \"bei\"), Interval(1235.625583, 1236.125583, \"siebzig\"), Interval(1241.281917, 1241.379042, \"F\"), Interval(1241.379042, 1241.989042, \"äh\"), Interval(1241.989042, 1242.389917, \"m\"), Interval(1243.368062, 1243.645188, \"Bad\"), Interval(1243.645188, 1243.805188, \"wollten\"), Interval(1243.805188, 1243.905188, \"wir\"), Interval(1243.905188, 1244.310187, \"sechzig\"), Interval(1244.310187, 1244.575188, \"machen\"), Interval(1244.575188, 1244.815188, \"wären\"), Interval(1244.815188, 1244.875188, \"wir\"), Interval(1244.875188, 1244.945187, \"bei\"), Interval(1244.945187, 1245.545188, \"hundertzeh\"), Interval(1245.545188, 1245.675187, \"n\"), Interval(1245.805188, 1245.965187, \"nee\"), Interval(1245.965187, 1246.640125, \"hundertdreißig\"), Interval(1251.575812, 1251.652938, \"wir\"), Interval(1251.652938, 1252.002937, \"brauchen\"), Interval(1252.002937, 1252.062938, \"ja\"), Interval(1252.062938, 1252.152938, \"noch\"), Interval(1252.152938, 1252.262937, \"die\"), Interval(1252.262937, 1252.572938, \"Küche\"), Interval(1252.572938, 1252.712937, \"woll-\"), Interval(1253.962896, 1254.442896, \"Küche\"), Interval(1256.978958, 1257.296083, \"nee\"), Interval(1257.376083, 1257.546083, \"<laughter/>\"), Interval(1261.887021, 1261.964146, \"gut\"), Interval(1261.964146, 1261.994146, \"dann\"), Interval(1261.994146, 1262.124146, \"wären\"), Interval(1262.124146, 1262.254146, \"wir\"), Interval(1262.254146, 1262.504146, \"jetzt\"), Interval(1262.504146, 1262.894146, \"bei\"), Interval(1265.717229, 1266.117229, \"fünfund-\"), Interval(1266.117229, 1266.857229, \"fünfundfünzig\"), Interval(1269.445563, 1269.552688, \"was\"), Interval(1269.552688, 1269.712687, \"fehlt\"), Interval(1269.712687, 1269.822688, \"denn\"), Interval(1269.822688, 1269.992688, \"jetzt\"), Interval(1269.992688, 1270.103437, \"noch\"), Interval(1272.172271, 1272.539396, \"und\"), Interval(1272.539396, 1272.629396, \"die\"), Interval(1272.629396, 1272.873437, \"Küche\"), Interval(1274.260083, 1274.357208, \"F\"), Interval(1274.357208, 1274.777208, \"äh\"), Interval(1274.777208, 1274.927208, \"das\"), Interval(1274.997208, 1275.368083, \"Bad\"), Interval(1277.471542, 1277.705271, \"hatten\"), Interval(1279.116208, 1279.243333, \"<laughter>\"), Interval(1279.243333, 1279.683333, \"okay\"), Interval(1279.683333, 1279.725437, \"</laughter>\"), Interval(1280.372562, 1281.112562, \"<laughterOffset/>\"), Interval(1283.134354, 1283.401479, \"ja\"), Interval(1283.401479, 1283.751479, \"okay\"), Interval(1289.890375, 1290.138917, \"ja\"), Interval(1290.26875, 1290.425875, \"aber\"), Interval(1290.425875, 1290.535875, \"ich\"), Interval(1290.535875, 1290.905875, \"will\"), Interval(1290.905875, 1291.365875, \"dann\"), Interval(1291.525875, 1291.895875, \"eher\"), Interval(1292.075875, 1292.595875, \"Abendsonne\"), Interval(1293.930333, 1294.037458, \"ich\"), Interval(1294.037458, 1294.167458, \"will\"), Interval(1294.167458, 1294.327458, \"dann\"), Interval(1294.327458, 1294.467458, \"eher\"), Interval(1294.467458, 1295.211458, \"Abendsonne\"), Interval(1296.812854, 1296.959979, \"als\"), Interval(1296.959979, 1297.339979, \"morgens\"), Interval(1297.339979, 1297.765042, \"Sonne\"), Interval(1300.926208, 1300.993333, \"ja\"), Interval(1300.993333, 1301.193333, \"ja\"), Interval(1301.193333, 1301.353333, \"genau\"), Interval(1301.353333, 1301.413333, \"so\"), Interval(1301.413333, 1301.473333, \"so\"), Interval(1301.473333, 1301.533333, \"so\"), Interval(1301.533333, 1302.923333, \"glasmäßig\"), Interval(1303.272042, 1303.339167, \"so\"), Interval(1303.339167, 1303.459167, \"dass\"), Interval(1303.459167, 1303.589167, \"man\"), Interval(1303.589167, 1303.719167, \"da\"), Interval(1303.719167, 1303.809167, \"so\"), Interval(1303.809167, 1303.839167, \"<v='ein'>'n</v>\"), Interval(1303.839167, 1303.929167, \"bisschen\"), Interval(1303.929167, 1304.329167, \"rausgucken\"), Interval(1304.329167, 1304.419167, \"kann\"), Interval(1304.419167, 1304.449167, \"und\"), Interval(1304.449167, 1304.649167, \"dann\"), Interval(1304.649167, 1304.959167, \"dann\"), Interval(1304.959167, 1305.139167, \"halt\"), Interval(1305.239167, 1305.479167, \"so\"), Interval(1305.629167, 1305.799167, \"schön\"), Interval(1305.799167, 1306.109167, \"grillen\"), Interval(1306.109167, 1306.909167, \"kann\"), Interval(1306.909167, 1306.943958, \"<unclear/>\"), Interval(1308.009063, 1308.182188, \"ja\"), Interval(1310.406833, 1310.523958, \"F\"), Interval(1310.523958, 1310.613958, \"mh\")])"
      ]
     },
     "execution_count": 56,
     "metadata": {},
     "output_type": "execute_result"
    }
   ],
   "source": [
    "tg_wordLevel"
   ]
  },
  {
   "cell_type": "code",
   "execution_count": 7,
   "id": "3416a317-2fcb-405d-9871-01e446fca6f5",
   "metadata": {
    "tags": []
   },
   "outputs": [
    {
     "ename": "AttributeError",
     "evalue": "'TextGrid' object has no attribute 'align_labels'",
     "output_type": "error",
     "traceback": [
      "\u001b[0;31m---------------------------------------------------------------------------\u001b[0m",
      "\u001b[0;31mAttributeError\u001b[0m                            Traceback (most recent call last)",
      "\u001b[0;32m/var/folders/ql/1cqy9tv11b56fm4x4gpkm4z00000gn/T/ipykernel_22864/3607486107.py\u001b[0m in \u001b[0;36m<module>\u001b[0;34m\u001b[0m\n\u001b[0;32m----> 1\u001b[0;31m \u001b[0mtg\u001b[0m\u001b[0;34m.\u001b[0m\u001b[0malign_labels\u001b[0m\u001b[0;34m(\u001b[0m\u001b[0;34m'IntervalTier'\u001b[0m\u001b[0;34m,\u001b[0m \u001b[0mprecision\u001b[0m\u001b[0;34m=\u001b[0m\u001b[0;32mNone\u001b[0m\u001b[0;34m,\u001b[0m \u001b[0mregex\u001b[0m\u001b[0;34m=\u001b[0m\u001b[0;34m'<p='\u001b[0m\u001b[0;34m)\u001b[0m\u001b[0;34m\u001b[0m\u001b[0;34m\u001b[0m\u001b[0m\n\u001b[0m",
      "\u001b[0;31mAttributeError\u001b[0m: 'TextGrid' object has no attribute 'align_labels'"
     ]
    }
   ],
   "source": [
    "tg.('IntervalTier', precision=None, regex='<p=')"
   ]
  },
  {
   "cell_type": "code",
   "execution_count": 7,
   "id": "00bed783-8a6b-4b30-a3ec-9abdb1e670b2",
   "metadata": {
    "collapsed": true,
    "jupyter": {
     "outputs_hidden": true
    },
    "tags": []
   },
   "outputs": [
    {
     "data": {
      "text/plain": [
       "IntervalTier(start_time=0.0, end_time=1321.59253469, name=\"A-utts\", objects=[Interval(555.791968077, 556.120904232, \"Mhm\"), Interval(557.064431626, 557.263524562, \"ja\"), Interval(562.649352649, 563.411099536, \"<laughter>sehr richtig</laughter>\"), Interval(564.545063651, 564.770125231, \"ja\"), Interval(565.845158436, 566.139469734, \"also\"), Interval(567.680275936, 568.329492033, \"mehr\"), Interval(578.008802571, 578.389676015, \"ja\"), Interval(578.874424033, 579.18604776, \"ja\"), Interval(579.246641262, 579.601546062, \"genau\"), Interval(585.160498441, 585.593309172, \"mittig\"), Interval(585.9655264, 586.121338264, \"ja\"), Interval(587.540957461, 587.835268759, \"ja\"), Interval(598.217395274, 599.282109672, \"direkt in der Küche steht\"), Interval(601.342288752, 601.783755698, \"achso\"), Interval(604.657618952, 605.428022053, \"ja ich <v='glaube'>glaub'</v> auch\"), Interval(605.446997075, 607.403301579, \"also ( <p='allein'>allei-</p> + allein ) schon {F äh} für die Schuhe\"), Interval(609.195138006, 609.402887157, \"ja\"), Interval(610.00882218, 612.337343913, \"<laughter/><laughterOffset/>\"), Interval(617.25573641, 618.043451941, \"ja ja genau\"), Interval(618.043451941, 618.883104759, \"ja ja genau\"), Interval(625.42020939, 625.64527097, \"ja\"), Interval(640.866221459, 643.835303074, \"ja ja genau ( wo + ( wo + wo ) ) man das Essen so durchreicht so\"), Interval(643.835303074, 644.216176517, \"ja ja\"), Interval(644.233488946, 644.380644595, \"ja\"), Interval(654.754114895, 655.022457549, \"nee\"), Interval(655.377362348, 656.641169683, \"<laughter/><laughterOffset/>\"), Interval(659.644876156, 662.754119798, \"(also <p>m-</p>+ also) den Flur ( <v='würde'>würd'</v> ich ja <p='schon'>sch-</p> + <v='würde'>würd'</v> ich ja schon ) mal sagen ist ja okay\"), Interval(663.524522899, 664.641174585, \"dann <v='würde'>würd'</v> ich aber\"), Interval(664.788330234, 665.160547462, \"ja\"), Interval(668.449909018, 669.0904689, \"ja ja genau\"), Interval(669.377786575, 681.827085792, \"und dann <v='würde'>würd'</v> ich {F äh} .. sozusagen am Ende des Flurs ( jeweils + { <nv/> } jeweils ) an {F äh} den beiden Seiten links und rechts . zwei Türen . so dass auf der einen Seite die Küche und auf der anderen Seite <nv type='breathing'/> {F äh} das Wohnzimmer ist\"), Interval(683.60160979, 683.809358941, \"ja\"), Interval(691.41017797, 693.80794942, \"doch man kann ja noch mal <v='ein'>'n</v> paar ( <p='Durchgänge'>D-</p> + Durchgänge ) bauen\"), Interval(694.597327542, 696.363195325, \"<laughter> <unsure> also </unsure> </laughter> <laughterOffset/>\"), Interval(702.060647138, 703.575484697, \"ach so ja ja gut okay ja\"), Interval(704.190075935, 706.69172196, \"<laughter/><laughterOffset/>\"), Interval(722.804262555, 723.47079108, \"(ach so <p>mei-</p> +) ja\"), Interval(723.721821305, 723.877633168, \"ja\"), Interval(726.908970877, 727.315812965, \"ja\"), Interval(727.402375111, 727.592811832, \"ja\"), Interval(730.873517174, 731.643920275, \"ja ich <v='glaube'>glaub'</v> ich -\"), Interval(733.106820546, 735.038818999, \"da <v='ein'>'n</v> Zimmer da da und dann da ja\"), Interval(735.376411369, 735.558191876, \"ja\"), Interval(737.06437322, 737.315403444, \"ja\"), Interval(737.445246663, 737.678964458, \"doch\"), Interval(737.817463892, 737.999244399, \"ja\"), Interval(739.496769529, 739.70451868, \"ja\"), Interval(745.246158629, 747.843023016, \"also ich würde schon: gerne <v='ein'>'n</v> großes Zimmer haben\"), Interval(748.985643346, 749.210704926, \"ja\"), Interval(749.453078935, 749.747390232, \"ja\"), Interval(750.017395478, 750.259769487, \"ja ja\"), Interval(750.476174853, 752.493072859, \"( dann haben wir <p='fünfzig'>fünf-</p> + . dann haben wir fünfzig ) schon mal weg\"), Interval(755.167843177, 756.319119722, \"<nv type='breathing'/>\"), Interval(757.063554179, 757.574270842, \"j:a\"), Interval(758.311711677, 759.263895285, \"auch fünfundzwanzig ?\"), Interval(765.626213032, 765.972461617, \"ja\"), Interval(766.095311214, 766.242466862, \"ja\"), Interval(766.311716579, 766.597371662, \"ja\"), Interval(767.160025612, 767.376430978, \"ja\"), Interval(768.285333513, 771.860350151, \"okay dann brauchen wir noch ... Badezimmer können wir . zwanzig\"), Interval(776.29399463, 780.327790643, \"<laughter/><laughterOffset/>\"), Interval(786.155085675, 787.715483403, \"<laughter/>\"), Interval(787.715483403, 790.129487414, \"<laughterOffset/><laughter> also meinst du das ist Strafe genug oder was </laughter>\"), Interval(794.111809504, 796.171988584, \"also wir waren jetzt ( <p>g-</p> + ) bei: wieviel Quadratm-\"), Interval(796.171988584, 796.916423042, \"achtzig genau\"), Interval(797.757738452, 799.333169513, \"( dann brauchen wir + { also } ) gut dann <p>ma-</p>\"), Interval(805.383863533, 805.851299123, \"ja\"), Interval(806.216522729, 809.878101514, \"ja ja aber das <v='wäre'>wär'</v> dann ja . wieder so <v='ein'>'n</v> Wohnzimmerküchemix\"), Interval(818.449416581, 818.657165732, \"<laughter/>\"), Interval(819.756504989, 820.604814022, \"ja ja ja ja\"), Interval(820.604814022, 820.968375036, \"okay\"), Interval(821.558660222, 824.294024043, \"sagen wir ... vierzig Quadratmeter das . <p='Wohnzimmer'>Wo-</p>\"), Interval(825.402019514, 826.74373278, \"nee wir hatten gerade achtzig\"), Interval(834.362864239, 835.453547281, \"oh der Timer läuft gar <v='nicht'>nich'</v>\"), Interval(836.935422574, 840.579688929, \"na ja <laughter> gut </laughter> <laughterOffset/> {F ähm} .. gut ich <v='gucke'>guck'</v> mal so grob auf die Uhr\"), Interval(845.749111651, 846.675326615, \"nee da läuft nix\"), Interval(846.822482264, 847.774665872, \"da steht fünfzehn Minuten\"), Interval(849.860813595, 850.804340989, \"{F äh} {F äh} ja\"), Interval(853.870303557, 854.251177001, \"gut <unsure>wo</unsure> -\"), Interval(854.6060818, 854.952330385, \"ja\"), Interval(855.921826423, 857.566507201, \"( zwei + zwei ) mal fünfundzwanzig\"), Interval(858.48406595, 859.090000974, \"und dann\"), Interval(862.632055346, 863.021585004, \"genau\"), Interval(863.376489804, 865.39338781, \"<nv type='breathing'/>\"), Interval(865.39338781, 866.007979048, \"Gott ja\"), Interval(866.259009272, 869.913594435, \"<laughter> so viel Platz </laughter> <laughter/> <laughterOffset/>\"), Interval(870.190593303, 870.831153185, \"{F äh} ja\"), Interval(875.237166427, 875.912351167, \"<v='ein'>'n</v> An-\"), Interval(877.808062169, 878.268504136, \"nee\"), Interval(878.779220799, 879.809310339, \"nee <v='das'>det</v> brauchen wir <v='nicht'>nich'</v>\"), Interval(885.939572883, 888.752842635, \"<laughter/><laughterOffset/>\"), Interval(894.528200379, 898.293653739, \"häh ( wir haben doch unsere Zimmer . <p='jeweils'>jewei-</p> + ) also Flur ist hier und unsere Zimmer hier\"), Interval(898.414840744, 899.470898928, \"wie willst du da noch <v='ein'>'n</v> -\"), Interval(904.276760635, 904.891351873, \"<unclear/>\"), Interval(907.93833942, 912.328702825, \"ja gut aber ich finde es {F äh} irgendwie nicht logisch wenn wir . ( hier den + ( hier + ( hier + .. hier ) ) )\"), Interval(912.778825985, 918.000185994, \"( nein <p='wir'>w-</p> + nein wir ) haben . hier das Zimmer . ( da die + .. da den ) Flur . und hier <v='ein'>'n</v> Zimmer\"), Interval(919.532335982, 919.904553211, \"ja\"), Interval(925.775129316, 926.095409257, \"ah ja\"), Interval(927.350560377, 927.688152747, \"<v='ja'>jo</v>\"), Interval(930.215767417, 930.613953289, \"zehn\"), Interval(931.635386614, 932.094165989, \"zehn\"), Interval(933.827071506, 934.043476871, \"ja\"), Interval(935.10819127, 936.320061317, \"( dann <v='haben'>ham</v> + dann <v='haben'>ham</v> ) <v='wir'>wa</v> hundert\"), Interval(937.350150857, 940.726074559, \"jetzt brauchen wir noch Küche ... Bad\"), Interval(942.658073012, 943.826661985, \"Küche Bad brauchen wir noch ne\"), Interval(948.137456867, 949.008418087, \"<laughter> ja  </laughter>\"), Interval(951.374820304, 953.16470239, \"<laughter>ja ja genau</laughter><laughterOffset/>\"), Interval(958.874488181, 960.519168959, \"ja wir wollen also vier <v='würde'>würd'</v> ich sagen\"), Interval(960.631699749, 961.263603417, \"vier ist schön\"), Interval(962.172505952, 963.972998593, \"und dann brauchen wir dazu auch noch die passende Dusche\"), Interval(967.87861398, 969.012578095, \"ja also s:echzig\"), Interval(969.791637411, 974.528249401, \"man kann das ja auch irgendwie noch so baulich voneinander so mit ( <p>k-</p> + ) irgendwelchen halboffenen Wänden oder so abtrennen\"), Interval(975.991149672, 976.164273964, \"ja\"), Interval(979.903758681, 981.470533527, \"dann . jetzt noch die . Küche\"), Interval(982.381098654, 982.632128879, \"ja\"), Interval(983.800717852, 987.16798534, \"<laughter> boah die Küche vierzig Quadratmeter </laughter> <laughterOffset/> na gut ja ja gut\"), Interval(992.726937719, 995.263208603, \"ja jeder kann ja sein Zimmer . einrichten . wie er will\"), Interval(995.44498911, 995.765269051, \"genau\"), Interval(1002.61399741, 1006.32051986, \"ja gut ( ich hab <v='ein'>'n</v> + ... ich hab <v='ein'>'n</v> ) Bett ich <laughter> hab' <v='einen'>'nen</v> Schrank </laughter> <laughterOffset/>\"), Interval(1014.64946092, 1014.91780357, \"ja\"), Interval(1014.96108464, 1015.75745639, \"genau wir müssen\"), Interval(1015.87864339, 1016.06908011, \"ja\"), Interval(1016.50189085, 1016.67501514, \"ja\"), Interval(1017.25498152, 1017.80032304, \"dunkel ?\"), Interval(1020.21706951, 1023.20346355, \"<laughter/> also ( du + {F äh} willst du ) schwarzes Parkett haben ?\"), Interval(1028.03363131, 1028.76940956, \"ja gut okay\"), Interval(1029.34071972, 1029.71293695, \"okay\"), Interval(1030.56207728, 1032.84731794, \"aber dann auch ( <p='noch'>no-</p> + ( noch <v='ein'>'n</v> + noch <v='ein'>'n</v> ) ) ( <p='paar'>p-</p> + paar ) <v='Teppiche'>Teppige</v>\"), Interval(1036.10371723, 1037.15977541, \"nei:n nein nein\"), Interval(1037.69646072, 1038.36368714, \"ja ja genau\"), Interval(1038.36368714, 1038.70058161, \"ja ja\"), Interval(1038.94295562, 1039.13339235, \"ja\"), Interval(1040.09423217, 1040.9425412, \"und dann: ja\"), Interval(1045.25499867, 1045.61855969, \"ja\"), Interval(1046.51014979, 1047.06414753, \"( wie + {F äh } wie ) ?\"), Interval(1050.7793262, 1052.12103946, \"ja das ist mir ja egal\"), Interval(1055.82589932, 1056.81270779, \"weiße Fliesen ?\"), Interval(1060.48460538, 1060.74429182, \"ja\"), Interval(1062.24181695, 1062.44090988, \"ja\"), Interval(1064.64824461, 1065.5311785, \"{F äh:m:}\"), Interval(1066.5456182, 1066.92649165, \"Küche\"), Interval(1067.93926876, 1069.17710745, \"ja auch irgendwie auch\"), Interval(1070.54478936, 1071.52294161, \"auch irgendwie Fliesen\"), Interval(1071.54025404, 1074.83127819, \"( aber ich <p='finde'>find-</p> + { also } ich finde ) so ( diese + <mp type='creaky'> ( <p='diese'>die-</p> + </mp> diese ) ) amerikanischen Küchen\"), Interval(1077.00398806, 1077.31561179, \"ja\"), Interval(1078.07735867, 1080.53572362, \"und {F äh} {F äh} ( halt <p='so'>s</p>- + in der Mitte halt so )\"), Interval(1081.55016333, 1082.06953621, \"ja ja genau\"), Interval(1082.25131671, 1083.89599749, \"ja ja ( <p='das'>d-</p> + { also } das ) <v='finde'>find</v> ich\"), Interval(1085.70514635, 1086.05139493, \"ja\"), Interval(1087.99904322, 1088.98585169, \"nee: also\"), Interval(1090.70144477, 1091.65362838, \"( keine + keine ) Ahnung\"), Interval(1094.10333712, 1096.23276592, \"vielleicht rot-orange in dem Bereich\"), Interval(1097.33210517, 1097.74760348, \"also\"), Interval(1099.79213272, 1100.59716068, \"gut was fehlt denn -\"), Interval(1101.02997141, 1102.39765332, \"oh ja oh das ist schwierig\"), Interval(1103.69608551, 1106.8312978, \"also wir brauchen ( auf <p='mega'>m-</p> + (auf  + auf ) ) jeden Fall erstmal <v='ein'> 'n </v> mega Fernseher\"), Interval(1108.53657208, 1108.7876023, \"ja\"), Interval(1117.27235522, 1118.8345035, \"stimmt ja ja <laughter>genau</laughter> <laughterOffset/>\"), Interval(1118.83913007, 1120.84737186, \"ja ja ( und + und ) die passende Soundanlage dazu\"), Interval(1121.16065818, 1123.13427511, \"( <unsure> und <v='ein'>'n</v> </unsure> + und ) dann brauchen wir aber auf der anderen Seite\"), Interval(1127.91250559, 1128.58170831, \"<v='gehe'>geh'</v> ich mal von aus\"), Interval(1128.58170831, 1129.47928043, \"( <v='hoffe'><p='hoff'>ho-</p></v> + <v='hoffe'>hoff'</v> ) ich doch mal\"), Interval(1129.9397224, 1130.44178285, \"{F ähm:}\"), Interval(1132.42405599, 1133.16849045, \"ja ja genau\"), Interval(1137.30782363, 1138.69281797, \"ja: ja ja genau so\"), Interval(1140.23362418, 1140.57987276, \"Mhm\"), Interval(1144.13677398, 1144.67426228, \"{F ähm}\"), Interval(1145.77526413, 1146.32989172, \"ja auf jeden\"), Interval(1146.32989172, 1149.15118783, \"dann brauchen wir auch noch auf der anderen Seite ( <p='jedenweils'>jedenwei-</p> + jeweils ) so <v='ein'>'n</v> fettes Sofa\"), Interval(1152.06833215, 1152.37129967, \"Mhm\"), Interval(1159.18540317, 1159.81244, \"<laughter> was ? </laughter>\"), Interval(1160.7789827, 1162.10421009, \"<laughter/> <laughter> wegen der <p='Photosynthese'>Photosyn-</p> </laughter>\"), Interval(1162.26002195, 1163.30742392, \"ja ( aber ich + also ich )\"), Interval(1164.91747984, 1170.35524521, \"so vom Wohnzimmerstil her <v='würde'>würd'</v> ich das ( eher so: + ... ( eher + ( eher + eher ) ) ) modern einrichten also eher so -\"), Interval(1178.77940463, 1179.37668344, \"ja das passt\"), Interval(1181.20314472, 1181.48879981, \"ja\"), Interval(1182.36307748, 1182.54485799, \"ja\"), Interval(1184.10297662, 1188.45871517, \"( <p='aber'>a-</p> + aber ) so diesen ganzen ( <p='modischen'>mo-</p> + modischen ) Einrichtungskram so das meiste musst du sowieso machen\"), Interval(1188.72705782, 1192.29341825, \"weil das bei mir <laughter> dann immer total kahl und kalt aussieht </laughter> <laughterOffset/>\"), Interval(1192.71757276, 1192.98591542, \"ja\"), Interval(1193.58485682, 1194.2254167, \"{F äh} ja\"), Interval(1200.86639591, 1201.87917302, \"oh ja verdammt\"), Interval(1202.77076312, 1203.6450408, \"wieviel Qua- <v='haben wir'> hamwa </v>\"), Interval(1209.92245899, 1211.7056392, \"hatten wir nicht <v='eine'>'ne</v> Vierzig-Quadratmeter-Küche ?\"), Interval(1213.02138383, 1216.70027504, \"moment wir hatten fünfundzwanzig . und fünfundzwanzig .. sind fünfzig\"), Interval(1217.54159045, 1218.26871248, \"dann hatten wir\"), Interval(1221.76582318, 1222.30250849, \"zehn\"), Interval(1223.80868984, 1226.14753038, \"zehn war Ankleide ( <p='dann'>da-</p> + ( <p='dann'>da-</p>  + ( <p='dann'>da-</p> + dann ) ) ) sind wir bei sechzig\"), Interval(1226.67555947, 1229.22914278, \"( zehn <p='brauchen'>brau-</p> + zehn brauchen ) wir ( <unsure><p>au-</p></unsure> + <v='ein'>'n</v> Flur brauchen wir ja auch ) noch\"), Interval(1230.57951226, 1232.1982244, \"zehn brauchen wir für den Flur\"), Interval(1233.36847596, 1236.13846464, \"dann ( sind wir + sind wir ) bei ... siebzig\"), Interval(1241.28191872, 1242.38991419, \"{F äh:m:}\"), Interval(1243.36806644, 1246.64011557, \"Bad wollten wir sechzig machen wären wir bei (hundertzeh:n + . {nee} hundertdreißig)\"), Interval(1251.57582049, 1252.85350321, \"wir brauchen ja noch die Küche / woll-\"), Interval(1253.90577748, 1254.47565239, \"Küche\"), Interval(1256.97896101, 1257.78398897, \"nee <laughter/>\"), Interval(1261.8870347, 1262.94309288, \"gut dann wären wir jetzt bei ?\"), Interval(1265.6801193, 1266.96123906, \"( fünfund- + fünfundfünzig )\"), Interval(1269.44557266, 1270.10344497, \"was fehlt denn jetzt noch\"), Interval(1272.17228026, 1272.87343365, \"und die Küche\"), Interval(1274.26009058, 1275.36808605, \"{F äh:} das Bad\"), Interval(1277.4715462, 1277.705264, \"hatten\"), Interval(1279.11622698, 1279.72545612, \"<laughter> okay </laughter>\"), Interval(1279.72545612, 1281.18506228, \"<laughterOffset/>\"), Interval(1283.13437316, 1283.8095579, \"ja okay\"), Interval(1289.8532583, 1290.13891338, \"ja\"), Interval(1290.2687566, 1292.6405594, \"aber ich will: dann: . eher . Abendsonne\"), Interval(1293.93033538, 1295.21145515, \"ich will dann eher Abendsonne\"), Interval(1296.81285485, 1297.76503846, \"als morgens Sonne\"), Interval(1300.92621939, 1302.97774225, \"ja ja genau (so + (so + so)) glasmäßig\"), Interval(1303.27205355, 1306.94395114, \"so dass man da so <v='ein'>'n</v> bisschen rausgucken kann und ( dann + dann ) halt so schön grillen kann <unclear/>\"), Interval(1308.00908119, 1308.18220548, \"ja\"), Interval(1310.40685264, 1310.67519529, \"{F mh}\")])"
      ]
     },
     "execution_count": 7,
     "metadata": {},
     "output_type": "execute_result"
    }
   ],
   "source": [
    "aa = tg.get_tier_by_name('A-utts') # not get_tiers\n",
    "aa"
   ]
  },
  {
   "cell_type": "code",
   "execution_count": 10,
   "id": "29889cae-e11d-40cc-a0bf-186d6bb6c2ed",
   "metadata": {
    "tags": []
   },
   "outputs": [
    {
     "data": {
      "text/plain": [
       "[Interval(605.446997075, 607.403301579, \"also ( <p='allein'>allei-</p> + allein ) schon {F äh} für die Schuhe\"),\n",
       " Interval(640.866221459, 643.835303074, \"ja ja genau ( wo + ( wo + wo ) ) man das Essen so durchreicht so\"),\n",
       " Interval(659.644876156, 662.754119798, \"(also <p>m-</p>+ also) den Flur ( <v='würde'>würd'</v> ich ja <p='schon'>sch-</p> + <v='würde'>würd'</v> ich ja schon ) mal sagen ist ja okay\"),\n",
       " Interval(669.377786575, 681.827085792, \"und dann <v='würde'>würd'</v> ich {F äh} .. sozusagen am Ende des Flurs ( jeweils + { <nv/> } jeweils ) an {F äh} den beiden Seiten links und rechts . zwei Türen . so dass auf der einen Seite die Küche und auf der anderen Seite <nv type='breathing'/> {F äh} das Wohnzimmer ist\"),\n",
       " Interval(691.41017797, 693.80794942, \"doch man kann ja noch mal <v='ein'>'n</v> paar ( <p='Durchgänge'>D-</p> + Durchgänge ) bauen\"),\n",
       " Interval(722.804262555, 723.47079108, \"(ach so <p>mei-</p> +) ja\"),\n",
       " Interval(750.476174853, 752.493072859, \"( dann haben wir <p='fünfzig'>fünf-</p> + . dann haben wir fünfzig ) schon mal weg\"),\n",
       " Interval(794.111809504, 796.171988584, \"also wir waren jetzt ( <p>g-</p> + ) bei: wieviel Quadratm-\"),\n",
       " Interval(797.757738452, 799.333169513, \"( dann brauchen wir + { also } ) gut dann <p>ma-</p>\"),\n",
       " Interval(855.921826423, 857.566507201, \"( zwei + zwei ) mal fünfundzwanzig\"),\n",
       " Interval(894.528200379, 898.293653739, \"häh ( wir haben doch unsere Zimmer . <p='jeweils'>jewei-</p> + ) also Flur ist hier und unsere Zimmer hier\"),\n",
       " Interval(907.93833942, 912.328702825, \"ja gut aber ich finde es {F äh} irgendwie nicht logisch wenn wir . ( hier den + ( hier + ( hier + .. hier ) ) )\"),\n",
       " Interval(912.778825985, 918.000185994, \"( nein <p='wir'>w-</p> + nein wir ) haben . hier das Zimmer . ( da die + .. da den ) Flur . und hier <v='ein'>'n</v> Zimmer\"),\n",
       " Interval(935.10819127, 936.320061317, \"( dann <v='haben'>ham</v> + dann <v='haben'>ham</v> ) <v='wir'>wa</v> hundert\"),\n",
       " Interval(969.791637411, 974.528249401, \"man kann das ja auch irgendwie noch so baulich voneinander so mit ( <p>k-</p> + ) irgendwelchen halboffenen Wänden oder so abtrennen\"),\n",
       " Interval(1030.56207728, 1032.84731794, \"aber dann auch ( <p='noch'>no-</p> + ( noch <v='ein'>'n</v> + noch <v='ein'>'n</v> ) ) ( <p='paar'>p-</p> + paar ) <v='Teppiche'>Teppige</v>\"),\n",
       " Interval(1046.51014979, 1047.06414753, \"( wie + {F äh } wie ) ?\"),\n",
       " Interval(1071.54025404, 1074.83127819, \"( aber ich <p='finde'>find-</p> + { also } ich finde ) so ( diese + <mp type='creaky'> ( <p='diese'>die-</p> + </mp> diese ) ) amerikanischen Küchen\"),\n",
       " Interval(1078.07735867, 1080.53572362, \"und {F äh} {F äh} ( halt <p='so'>s</p>- + in der Mitte halt so )\"),\n",
       " Interval(1082.25131671, 1083.89599749, \"ja ja ( <p='das'>d-</p> + { also } das ) <v='finde'>find</v> ich\"),\n",
       " Interval(1090.70144477, 1091.65362838, \"( keine + keine ) Ahnung\"),\n",
       " Interval(1103.69608551, 1106.8312978, \"also wir brauchen ( auf <p='mega'>m-</p> + (auf  + auf ) ) jeden Fall erstmal <v='ein'> 'n </v> mega Fernseher\"),\n",
       " Interval(1118.83913007, 1120.84737186, \"ja ja ( und + und ) die passende Soundanlage dazu\"),\n",
       " Interval(1121.16065818, 1123.13427511, \"( <unsure> und <v='ein'>'n</v> </unsure> + und ) dann brauchen wir aber auf der anderen Seite\"),\n",
       " Interval(1128.58170831, 1129.47928043, \"( <v='hoffe'><p='hoff'>ho-</p></v> + <v='hoffe'>hoff'</v> ) ich doch mal\"),\n",
       " Interval(1146.32989172, 1149.15118783, \"dann brauchen wir auch noch auf der anderen Seite ( <p='jedenweils'>jedenwei-</p> + jeweils ) so <v='ein'>'n</v> fettes Sofa\"),\n",
       " Interval(1162.26002195, 1163.30742392, \"ja ( aber ich + also ich )\"),\n",
       " Interval(1164.91747984, 1170.35524521, \"so vom Wohnzimmerstil her <v='würde'>würd'</v> ich das ( eher so: + ... ( eher + ( eher + eher ) ) ) modern einrichten also eher so -\"),\n",
       " Interval(1184.10297662, 1188.45871517, \"( <p='aber'>a-</p> + aber ) so diesen ganzen ( <p='modischen'>mo-</p> + modischen ) Einrichtungskram so das meiste musst du sowieso machen\"),\n",
       " Interval(1223.80868984, 1226.14753038, \"zehn war Ankleide ( <p='dann'>da-</p> + ( <p='dann'>da-</p>  + ( <p='dann'>da-</p> + dann ) ) ) sind wir bei sechzig\"),\n",
       " Interval(1226.67555947, 1229.22914278, \"( zehn <p='brauchen'>brau-</p> + zehn brauchen ) wir ( <unsure><p>au-</p></unsure> + <v='ein'>'n</v> Flur brauchen wir ja auch ) noch\"),\n",
       " Interval(1233.36847596, 1236.13846464, \"dann ( sind wir + sind wir ) bei ... siebzig\"),\n",
       " Interval(1243.36806644, 1246.64011557, \"Bad wollten wir sechzig machen wären wir bei (hundertzeh:n + . {nee} hundertdreißig)\"),\n",
       " Interval(1265.6801193, 1266.96123906, \"( fünfund- + fünfundfünzig )\"),\n",
       " Interval(1300.92621939, 1302.97774225, \"ja ja genau (so + (so + so)) glasmäßig\"),\n",
       " Interval(1303.27205355, 1306.94395114, \"so dass man da so <v='ein'>'n</v> bisschen rausgucken kann und ( dann + dann ) halt so schön grillen kann <unclear/>\")]"
      ]
     },
     "execution_count": 10,
     "metadata": {},
     "output_type": "execute_result"
    }
   ],
   "source": [
    "aa.delete_annotations_with_text(pattern='laughter', n=0, regex=True) # filter laughter\n",
    "\n",
    "\n",
    "aa_partials = aa.get_annotations_with_text(pattern='(?<=\\+).*', n=0, regex=True)\n",
    "aa_partials"
   ]
  },
  {
   "cell_type": "code",
   "execution_count": 60,
   "id": "83d398aa-0f08-4623-8ff0-f0911d67b4a8",
   "metadata": {},
   "outputs": [
    {
     "name": "stdout",
     "output_type": "stream",
     "text": [
      "2\n",
      "allein\n",
      "605.764104\n",
      "3\n",
      "wo\n",
      "641.423333\n",
      "4\n",
      "wo\n",
      "641.753333\n",
      "5\n",
      "wo\n",
      "641.943333\n",
      "6\n",
      "<v='würde'>würd'</v>\n",
      "660.582\n",
      "10\n",
      "<v='würde'>würd'</v>\n",
      "660.942\n",
      "9\n",
      "Durchgänge\n",
      "692.937292\n",
      "0\n",
      "zwei\n",
      "855.921812\n",
      "1\n",
      "zwei\n",
      "856.178937\n",
      "0\n",
      "nein\n",
      "912.778812\n",
      "2\n",
      "nein\n",
      "913.195938\n",
      "0\n",
      "dann\n",
      "935.145313\n",
      "2\n",
      "dann\n",
      "935.555313\n",
      "4\n",
      "noch\n",
      "1031.549188\n",
      "6\n",
      "noch\n",
      "1031.889187\n",
      "9\n",
      "paar\n",
      "1032.199188\n",
      "8\n",
      "<mp\n",
      "1073.077375\n",
      "12\n",
      "</mp>\n",
      "1073.607375\n",
      "9\n",
      "in\n",
      "1079.444479\n",
      "0\n",
      "keine\n",
      "1090.701438\n",
      "1\n",
      "keine\n",
      "1091.038562\n",
      "3\n",
      "auf\n",
      "1104.483208\n",
      "5\n",
      "auf\n",
      "1104.743208\n",
      "6\n",
      "auf\n",
      "1104.803208\n",
      "2\n",
      "und\n",
      "1119.04625\n",
      "3\n",
      "und\n",
      "1119.22625\n",
      "1\n",
      "und\n",
      "1121.197771\n",
      "4\n",
      "und\n",
      "1121.357771\n",
      "1\n",
      "<v='hoffe'>hoff'</v>\n",
      "1128.648813\n",
      "10\n",
      "jeweils\n",
      "1148.057\n",
      "3\n",
      "also\n",
      "1162.777146\n",
      "7\n",
      "eher\n",
      "1166.384604\n",
      "9\n",
      "eher\n",
      "1167.914604\n",
      "10\n",
      "eher\n",
      "1168.169604\n",
      "11\n",
      "eher\n",
      "1168.484604\n",
      "15\n",
      "eher\n",
      "1170.069604\n",
      "1\n",
      "aber\n",
      "1184.140083\n",
      "6\n",
      "modischen\n",
      "1185.410083\n",
      "6\n",
      "dann\n",
      "1224.715813\n",
      "0\n",
      "zehn\n",
      "1226.675542\n",
      "2\n",
      "zehn\n",
      "1227.532667\n",
      "6\n",
      "<v='ein'>'n</v>\n",
      "1228.382667\n",
      "1\n",
      "sind\n",
      "1233.485583\n",
      "3\n",
      "sind\n",
      "1233.905583\n",
      "1\n",
      "fünfundfünzig\n",
      "1266.117229\n",
      "10\n",
      "dann\n",
      "1304.449167\n",
      "11\n",
      "dann\n",
      "1304.649167\n"
     ]
    }
   ],
   "source": [
    "for i, interval in enumerate(aa_partials):\n",
    "    # if interval.start_time in np.arange(session_start, session_end):\n",
    "    start_time = interval.start_time\n",
    "    # if interval.end_time in np.arange(session_start, session_end): # does not work perhaps for i, in ranger\n",
    "    end_time = interval.end_time \n",
    "    utterance = interval.text\n",
    "    # print(dir(interval)) !!!!!\n",
    "    words = utterance.split(' ')\n",
    "    \n",
    "    wordLevelAnnotations = tg_wordLevel.get_annotations_between_timepoints(start_time, end_time)\n",
    "    \n",
    "    by_word_level = []\n",
    "    for j, by_word in enumerate(wordLevelAnnotations):\n",
    "        by_word_start_time = by_word.start_time\n",
    "        by_word_text = by_word.text\n",
    "        by_word_level.append([by_word_text, by_word_start_time])\n",
    "        \n",
    "    \n",
    "    partial_word = []\n",
    "    for k, word in enumerate(words):\n",
    "        if word == '+':\n",
    "            partial_word.append(words[k+1])\n",
    "            \n",
    "    \n",
    "    for l, by_word_ in enumerate(by_word_level):\n",
    "        text = by_word_[0]\n",
    "        time = by_word_[1]\n",
    "        if text in partial_word:\n",
    "            print(l)\n",
    "            print(text)\n",
    "            print(time)\n",
    "            \n",
    "    \n",
    "    #for matches in zip(partial_word, by_word_level):\n",
    "        #for byword in zip(by_word_level):\n",
    "    #    print(matches)\n",
    "    #        if partial == wordLevelAnnotation.text\n",
    "    #            print(yes)\n",
    "        \n",
    "    # utterance = aa.get_annotations_between_timepoints(start_time, end_time) # does the job\n",
    "    # print(utterance)\n",
    "    # print(partial_word[1])"
   ]
  },
  {
   "cell_type": "code",
   "execution_count": 44,
   "id": "72c685de-d2cc-44e0-b238-12c27c215d67",
   "metadata": {},
   "outputs": [
    {
     "data": {
      "text/plain": [
       "[Interval(555.791958, 556.120896, \"Mhm\")]"
      ]
     },
     "execution_count": 44,
     "metadata": {},
     "output_type": "execute_result"
    }
   ],
   "source": [
    "tg_wordLevel.get_annotations_between_timepoints(555.791958, 556.120896)"
   ]
  },
  {
   "cell_type": "code",
   "execution_count": 23,
   "id": "acb145d0-0e41-41ad-a2d1-83463113725a",
   "metadata": {
    "tags": []
   },
   "outputs": [
    {
     "data": {
      "text/plain": [
       "[Interval(562.649352649, 563.411099536, \"<laughter>sehr richtig</laughter>\"),\n",
       " Interval(604.657618952, 605.428022053, \"ja ich <v='glaube'>glaub'</v> auch\"),\n",
       " Interval(605.446997075, 607.403301579, \"also ( <p='allein'>allei-</p> + allein ) schon {F äh} für die Schuhe\"),\n",
       " Interval(610.00882218, 612.337343913, \"<laughter/><laughterOffset/>\"),\n",
       " Interval(655.377362348, 656.641169683, \"<laughter/><laughterOffset/>\"),\n",
       " Interval(659.644876156, 662.754119798, \"(also <p>m-</p>+ also) den Flur ( <v='würde'>würd'</v> ich ja <p='schon'>sch-</p> + <v='würde'>würd'</v> ich ja schon ) mal sagen ist ja okay\"),\n",
       " Interval(663.524522899, 664.641174585, \"dann <v='würde'>würd'</v> ich aber\"),\n",
       " Interval(669.377786575, 681.827085792, \"und dann <v='würde'>würd'</v> ich {F äh} .. sozusagen am Ende des Flurs ( jeweils + { <nv/> } jeweils ) an {F äh} den beiden Seiten links und rechts . zwei Türen . so dass auf der einen Seite die Küche und auf der anderen Seite <nv type='breathing'/> {F äh} das Wohnzimmer ist\"),\n",
       " Interval(691.41017797, 693.80794942, \"doch man kann ja noch mal <v='ein'>'n</v> paar ( <p='Durchgänge'>D-</p> + Durchgänge ) bauen\"),\n",
       " Interval(694.597327542, 696.363195325, \"<laughter> <unsure> also </unsure> </laughter> <laughterOffset/>\"),\n",
       " Interval(704.190075935, 706.69172196, \"<laughter/><laughterOffset/>\"),\n",
       " Interval(722.804262555, 723.47079108, \"(ach so <p>mei-</p> +) ja\"),\n",
       " Interval(730.873517174, 731.643920275, \"ja ich <v='glaube'>glaub'</v> ich -\"),\n",
       " Interval(733.106820546, 735.038818999, \"da <v='ein'>'n</v> Zimmer da da und dann da ja\"),\n",
       " Interval(745.246158629, 747.843023016, \"also ich würde schon: gerne <v='ein'>'n</v> großes Zimmer haben\"),\n",
       " Interval(750.476174853, 752.493072859, \"( dann haben wir <p='fünfzig'>fünf-</p> + . dann haben wir fünfzig ) schon mal weg\"),\n",
       " Interval(755.167843177, 756.319119722, \"<nv type='breathing'/>\"),\n",
       " Interval(776.29399463, 780.327790643, \"<laughter/><laughterOffset/>\"),\n",
       " Interval(786.155085675, 787.715483403, \"<laughter/>\"),\n",
       " Interval(787.715483403, 790.129487414, \"<laughterOffset/><laughter> also meinst du das ist Strafe genug oder was </laughter>\"),\n",
       " Interval(794.111809504, 796.171988584, \"also wir waren jetzt ( <p>g-</p> + ) bei: wieviel Quadratm-\"),\n",
       " Interval(797.757738452, 799.333169513, \"( dann brauchen wir + { also } ) gut dann <p>ma-</p>\"),\n",
       " Interval(806.216522729, 809.878101514, \"ja ja aber das <v='wäre'>wär'</v> dann ja . wieder so <v='ein'>'n</v> Wohnzimmerküchemix\"),\n",
       " Interval(818.449416581, 818.657165732, \"<laughter/>\"),\n",
       " Interval(821.558660222, 824.294024043, \"sagen wir ... vierzig Quadratmeter das . <p='Wohnzimmer'>Wo-</p>\"),\n",
       " Interval(834.362864239, 835.453547281, \"oh der Timer läuft gar <v='nicht'>nich'</v>\"),\n",
       " Interval(836.935422574, 840.579688929, \"na ja <laughter> gut </laughter> <laughterOffset/> {F ähm} .. gut ich <v='gucke'>guck'</v> mal so grob auf die Uhr\"),\n",
       " Interval(853.870303557, 854.251177001, \"gut <unsure>wo</unsure> -\"),\n",
       " Interval(863.376489804, 865.39338781, \"<nv type='breathing'/>\"),\n",
       " Interval(866.259009272, 869.913594435, \"<laughter> so viel Platz </laughter> <laughter/> <laughterOffset/>\"),\n",
       " Interval(875.237166427, 875.912351167, \"<v='ein'>'n</v> An-\"),\n",
       " Interval(878.779220799, 879.809310339, \"nee <v='das'>det</v> brauchen wir <v='nicht'>nich'</v>\"),\n",
       " Interval(885.939572883, 888.752842635, \"<laughter/><laughterOffset/>\"),\n",
       " Interval(894.528200379, 898.293653739, \"häh ( wir haben doch unsere Zimmer . <p='jeweils'>jewei-</p> + ) also Flur ist hier und unsere Zimmer hier\"),\n",
       " Interval(898.414840744, 899.470898928, \"wie willst du da noch <v='ein'>'n</v> -\"),\n",
       " Interval(904.276760635, 904.891351873, \"<unclear/>\"),\n",
       " Interval(912.778825985, 918.000185994, \"( nein <p='wir'>w-</p> + nein wir ) haben . hier das Zimmer . ( da die + .. da den ) Flur . und hier <v='ein'>'n</v> Zimmer\"),\n",
       " Interval(927.350560377, 927.688152747, \"<v='ja'>jo</v>\"),\n",
       " Interval(935.10819127, 936.320061317, \"( dann <v='haben'>ham</v> + dann <v='haben'>ham</v> ) <v='wir'>wa</v> hundert\"),\n",
       " Interval(948.137456867, 949.008418087, \"<laughter> ja  </laughter>\"),\n",
       " Interval(951.374820304, 953.16470239, \"<laughter>ja ja genau</laughter><laughterOffset/>\"),\n",
       " Interval(958.874488181, 960.519168959, \"ja wir wollen also vier <v='würde'>würd'</v> ich sagen\"),\n",
       " Interval(969.791637411, 974.528249401, \"man kann das ja auch irgendwie noch so baulich voneinander so mit ( <p>k-</p> + ) irgendwelchen halboffenen Wänden oder so abtrennen\"),\n",
       " Interval(983.800717852, 987.16798534, \"<laughter> boah die Küche vierzig Quadratmeter </laughter> <laughterOffset/> na gut ja ja gut\"),\n",
       " Interval(1002.61399741, 1006.32051986, \"ja gut ( ich hab <v='ein'>'n</v> + ... ich hab <v='ein'>'n</v> ) Bett ich <laughter> hab' <v='einen'>'nen</v> Schrank </laughter> <laughterOffset/>\"),\n",
       " Interval(1020.21706951, 1023.20346355, \"<laughter/> also ( du + {F äh} willst du ) schwarzes Parkett haben ?\"),\n",
       " Interval(1030.56207728, 1032.84731794, \"aber dann auch ( <p='noch'>no-</p> + ( noch <v='ein'>'n</v> + noch <v='ein'>'n</v> ) ) ( <p='paar'>p-</p> + paar ) <v='Teppiche'>Teppige</v>\"),\n",
       " Interval(1071.54025404, 1074.83127819, \"( aber ich <p='finde'>find-</p> + { also } ich finde ) so ( diese + <mp type='creaky'> ( <p='diese'>die-</p> + </mp> diese ) ) amerikanischen Küchen\"),\n",
       " Interval(1078.07735867, 1080.53572362, \"und {F äh} {F äh} ( halt <p='so'>s</p>- + in der Mitte halt so )\"),\n",
       " Interval(1082.25131671, 1083.89599749, \"ja ja ( <p='das'>d-</p> + { also } das ) <v='finde'>find</v> ich\"),\n",
       " Interval(1103.69608551, 1106.8312978, \"also wir brauchen ( auf <p='mega'>m-</p> + (auf  + auf ) ) jeden Fall erstmal <v='ein'> 'n </v> mega Fernseher\"),\n",
       " Interval(1117.27235522, 1118.8345035, \"stimmt ja ja <laughter>genau</laughter> <laughterOffset/>\"),\n",
       " Interval(1121.16065818, 1123.13427511, \"( <unsure> und <v='ein'>'n</v> </unsure> + und ) dann brauchen wir aber auf der anderen Seite\"),\n",
       " Interval(1127.91250559, 1128.58170831, \"<v='gehe'>geh'</v> ich mal von aus\"),\n",
       " Interval(1128.58170831, 1129.47928043, \"( <v='hoffe'><p='hoff'>ho-</p></v> + <v='hoffe'>hoff'</v> ) ich doch mal\"),\n",
       " Interval(1146.32989172, 1149.15118783, \"dann brauchen wir auch noch auf der anderen Seite ( <p='jedenweils'>jedenwei-</p> + jeweils ) so <v='ein'>'n</v> fettes Sofa\"),\n",
       " Interval(1159.18540317, 1159.81244, \"<laughter> was ? </laughter>\"),\n",
       " Interval(1160.7789827, 1162.10421009, \"<laughter/> <laughter> wegen der <p='Photosynthese'>Photosyn-</p> </laughter>\"),\n",
       " Interval(1164.91747984, 1170.35524521, \"so vom Wohnzimmerstil her <v='würde'>würd'</v> ich das ( eher so: + ... ( eher + ( eher + eher ) ) ) modern einrichten also eher so -\"),\n",
       " Interval(1184.10297662, 1188.45871517, \"( <p='aber'>a-</p> + aber ) so diesen ganzen ( <p='modischen'>mo-</p> + modischen ) Einrichtungskram so das meiste musst du sowieso machen\"),\n",
       " Interval(1188.72705782, 1192.29341825, \"weil das bei mir <laughter> dann immer total kahl und kalt aussieht </laughter> <laughterOffset/>\"),\n",
       " Interval(1202.77076312, 1203.6450408, \"wieviel Qua- <v='haben wir'> hamwa </v>\"),\n",
       " Interval(1209.92245899, 1211.7056392, \"hatten wir nicht <v='eine'>'ne</v> Vierzig-Quadratmeter-Küche ?\"),\n",
       " Interval(1223.80868984, 1226.14753038, \"zehn war Ankleide ( <p='dann'>da-</p> + ( <p='dann'>da-</p>  + ( <p='dann'>da-</p> + dann ) ) ) sind wir bei sechzig\"),\n",
       " Interval(1226.67555947, 1229.22914278, \"( zehn <p='brauchen'>brau-</p> + zehn brauchen ) wir ( <unsure><p>au-</p></unsure> + <v='ein'>'n</v> Flur brauchen wir ja auch ) noch\"),\n",
       " Interval(1251.57582049, 1252.85350321, \"wir brauchen ja noch die Küche / woll-\"),\n",
       " Interval(1256.97896101, 1257.78398897, \"nee <laughter/>\"),\n",
       " Interval(1279.11622698, 1279.72545612, \"<laughter> okay </laughter>\"),\n",
       " Interval(1279.72545612, 1281.18506228, \"<laughterOffset/>\"),\n",
       " Interval(1303.27205355, 1306.94395114, \"so dass man da so <v='ein'>'n</v> bisschen rausgucken kann und ( dann + dann ) halt so schön grillen kann <unclear/>\")]"
      ]
     },
     "execution_count": 23,
     "metadata": {},
     "output_type": "execute_result"
    }
   ],
   "source": [
    "\n",
    "aa_pluses = aa.get_annotations_with_text(pattern='/+', n=0, regex=True)\n",
    "aa_pluses"
   ]
  },
  {
   "cell_type": "code",
   "execution_count": 22,
   "id": "6417929a-cbd3-44d2-9688-8dd3bb5b7fd2",
   "metadata": {
    "tags": []
   },
   "outputs": [
    {
     "ename": "AttributeError",
     "evalue": "'list' object has no attribute 'intervals'",
     "output_type": "error",
     "traceback": [
      "\u001b[0;31m---------------------------------------------------------------------------\u001b[0m",
      "\u001b[0;31mAttributeError\u001b[0m                            Traceback (most recent call last)",
      "\u001b[0;32m/var/folders/ql/1cqy9tv11b56fm4x4gpkm4z00000gn/T/ipykernel_22864/1065571881.py\u001b[0m in \u001b[0;36m<module>\u001b[0;34m\u001b[0m\n\u001b[0;32m----> 1\u001b[0;31m \u001b[0maa_partial_intervals\u001b[0m \u001b[0;34m=\u001b[0m \u001b[0maa_partial\u001b[0m\u001b[0;34m.\u001b[0m\u001b[0mintervals\u001b[0m\u001b[0;34m\u001b[0m\u001b[0;34m\u001b[0m\u001b[0m\n\u001b[0m",
      "\u001b[0;31mAttributeError\u001b[0m: 'list' object has no attribute 'intervals'"
     ]
    }
   ],
   "source": [
    "aa_partial_intervals = aa_partial.intervals"
   ]
  },
  {
   "cell_type": "code",
   "execution_count": 32,
   "id": "047264c1-9eea-4f4c-8da1-c3c732f3bf53",
   "metadata": {
    "tags": []
   },
   "outputs": [
    {
     "data": {
      "text/plain": [
       "[Interval(555.791968077, 556.120904232, \"Mhm\"),\n",
       " Interval(557.064431626, 557.263524562, \"ja\"),\n",
       " Interval(562.649352649, 563.411099536, \"<laughter>sehr richtig</laughter>\"),\n",
       " Interval(564.545063651, 564.770125231, \"ja\"),\n",
       " Interval(565.845158436, 566.139469734, \"also\"),\n",
       " Interval(567.680275936, 568.329492033, \"mehr\"),\n",
       " Interval(578.008802571, 578.389676015, \"ja\"),\n",
       " Interval(578.874424033, 579.18604776, \"ja\"),\n",
       " Interval(579.246641262, 579.601546062, \"genau\"),\n",
       " Interval(585.160498441, 585.593309172, \"mittig\"),\n",
       " Interval(585.9655264, 586.121338264, \"ja\"),\n",
       " Interval(587.540957461, 587.835268759, \"ja\"),\n",
       " Interval(598.217395274, 599.282109672, \"direkt in der Küche steht\"),\n",
       " Interval(601.342288752, 601.783755698, \"achso\"),\n",
       " Interval(604.657618952, 605.428022053, \"ja ich <v='glaube'>glaub'</v> auch\"),\n",
       " Interval(605.446997075, 607.403301579, \"also ( <p='allein'>allei-</p> + allein ) schon {F äh} für die Schuhe\"),\n",
       " Interval(609.195138006, 609.402887157, \"ja\"),\n",
       " Interval(610.00882218, 612.337343913, \"<laughter/><laughterOffset/>\"),\n",
       " Interval(617.25573641, 618.043451941, \"ja ja genau\"),\n",
       " Interval(618.043451941, 618.883104759, \"ja ja genau\"),\n",
       " Interval(625.42020939, 625.64527097, \"ja\"),\n",
       " Interval(640.866221459, 643.835303074, \"ja ja genau ( wo + ( wo + wo ) ) man das Essen so durchreicht so\"),\n",
       " Interval(643.835303074, 644.216176517, \"ja ja\"),\n",
       " Interval(644.233488946, 644.380644595, \"ja\"),\n",
       " Interval(654.754114895, 655.022457549, \"nee\"),\n",
       " Interval(655.377362348, 656.641169683, \"<laughter/><laughterOffset/>\"),\n",
       " Interval(659.644876156, 662.754119798, \"(also <p>m-</p>+ also) den Flur ( <v='würde'>würd'</v> ich ja <p='schon'>sch-</p> + <v='würde'>würd'</v> ich ja schon ) mal sagen ist ja okay\"),\n",
       " Interval(663.524522899, 664.641174585, \"dann <v='würde'>würd'</v> ich aber\"),\n",
       " Interval(664.788330234, 665.160547462, \"ja\"),\n",
       " Interval(668.449909018, 669.0904689, \"ja ja genau\"),\n",
       " Interval(669.377786575, 681.827085792, \"und dann <v='würde'>würd'</v> ich {F äh} .. sozusagen am Ende des Flurs ( jeweils + { <nv/> } jeweils ) an {F äh} den beiden Seiten links und rechts . zwei Türen . so dass auf der einen Seite die Küche und auf der anderen Seite <nv type='breathing'/> {F äh} das Wohnzimmer ist\"),\n",
       " Interval(683.60160979, 683.809358941, \"ja\"),\n",
       " Interval(691.41017797, 693.80794942, \"doch man kann ja noch mal <v='ein'>'n</v> paar ( <p='Durchgänge'>D-</p> + Durchgänge ) bauen\"),\n",
       " Interval(694.597327542, 696.363195325, \"<laughter> <unsure> also </unsure> </laughter> <laughterOffset/>\"),\n",
       " Interval(702.060647138, 703.575484697, \"ach so ja ja gut okay ja\"),\n",
       " Interval(704.190075935, 706.69172196, \"<laughter/><laughterOffset/>\"),\n",
       " Interval(722.804262555, 723.47079108, \"(ach so <p>mei-</p> +) ja\"),\n",
       " Interval(723.721821305, 723.877633168, \"ja\"),\n",
       " Interval(726.908970877, 727.315812965, \"ja\"),\n",
       " Interval(727.402375111, 727.592811832, \"ja\"),\n",
       " Interval(730.873517174, 731.643920275, \"ja ich <v='glaube'>glaub'</v> ich -\"),\n",
       " Interval(733.106820546, 735.038818999, \"da <v='ein'>'n</v> Zimmer da da und dann da ja\"),\n",
       " Interval(735.376411369, 735.558191876, \"ja\"),\n",
       " Interval(737.06437322, 737.315403444, \"ja\"),\n",
       " Interval(737.445246663, 737.678964458, \"doch\"),\n",
       " Interval(737.817463892, 737.999244399, \"ja\"),\n",
       " Interval(739.496769529, 739.70451868, \"ja\"),\n",
       " Interval(745.246158629, 747.843023016, \"also ich würde schon: gerne <v='ein'>'n</v> großes Zimmer haben\"),\n",
       " Interval(748.985643346, 749.210704926, \"ja\"),\n",
       " Interval(749.453078935, 749.747390232, \"ja\"),\n",
       " Interval(750.017395478, 750.259769487, \"ja ja\"),\n",
       " Interval(750.476174853, 752.493072859, \"( dann haben wir <p='fünfzig'>fünf-</p> + . dann haben wir fünfzig ) schon mal weg\"),\n",
       " Interval(755.167843177, 756.319119722, \"<nv type='breathing'/>\"),\n",
       " Interval(757.063554179, 757.574270842, \"j:a\"),\n",
       " Interval(758.311711677, 759.263895285, \"auch fünfundzwanzig ?\"),\n",
       " Interval(765.626213032, 765.972461617, \"ja\"),\n",
       " Interval(766.095311214, 766.242466862, \"ja\"),\n",
       " Interval(766.311716579, 766.597371662, \"ja\"),\n",
       " Interval(767.160025612, 767.376430978, \"ja\"),\n",
       " Interval(768.285333513, 771.860350151, \"okay dann brauchen wir noch ... Badezimmer können wir . zwanzig\"),\n",
       " Interval(776.29399463, 780.327790643, \"<laughter/><laughterOffset/>\"),\n",
       " Interval(786.155085675, 787.715483403, \"<laughter/>\"),\n",
       " Interval(787.715483403, 790.129487414, \"<laughterOffset/><laughter> also meinst du das ist Strafe genug oder was </laughter>\"),\n",
       " Interval(794.111809504, 796.171988584, \"also wir waren jetzt ( <p>g-</p> + ) bei: wieviel Quadratm-\"),\n",
       " Interval(796.171988584, 796.916423042, \"achtzig genau\"),\n",
       " Interval(797.757738452, 799.333169513, \"( dann brauchen wir + { also } ) gut dann <p>ma-</p>\"),\n",
       " Interval(805.383863533, 805.851299123, \"ja\"),\n",
       " Interval(806.216522729, 809.878101514, \"ja ja aber das <v='wäre'>wär'</v> dann ja . wieder so <v='ein'>'n</v> Wohnzimmerküchemix\"),\n",
       " Interval(818.449416581, 818.657165732, \"<laughter/>\"),\n",
       " Interval(819.756504989, 820.604814022, \"ja ja ja ja\"),\n",
       " Interval(820.604814022, 820.968375036, \"okay\"),\n",
       " Interval(821.558660222, 824.294024043, \"sagen wir ... vierzig Quadratmeter das . <p='Wohnzimmer'>Wo-</p>\"),\n",
       " Interval(825.402019514, 826.74373278, \"nee wir hatten gerade achtzig\"),\n",
       " Interval(834.362864239, 835.453547281, \"oh der Timer läuft gar <v='nicht'>nich'</v>\"),\n",
       " Interval(836.935422574, 840.579688929, \"na ja <laughter> gut </laughter> <laughterOffset/> {F ähm} .. gut ich <v='gucke'>guck'</v> mal so grob auf die Uhr\"),\n",
       " Interval(845.749111651, 846.675326615, \"nee da läuft nix\"),\n",
       " Interval(846.822482264, 847.774665872, \"da steht fünfzehn Minuten\"),\n",
       " Interval(849.860813595, 850.804340989, \"{F äh} {F äh} ja\"),\n",
       " Interval(853.870303557, 854.251177001, \"gut <unsure>wo</unsure> -\"),\n",
       " Interval(854.6060818, 854.952330385, \"ja\"),\n",
       " Interval(855.921826423, 857.566507201, \"( zwei + zwei ) mal fünfundzwanzig\"),\n",
       " Interval(858.48406595, 859.090000974, \"und dann\"),\n",
       " Interval(862.632055346, 863.021585004, \"genau\"),\n",
       " Interval(863.376489804, 865.39338781, \"<nv type='breathing'/>\"),\n",
       " Interval(865.39338781, 866.007979048, \"Gott ja\"),\n",
       " Interval(866.259009272, 869.913594435, \"<laughter> so viel Platz </laughter> <laughter/> <laughterOffset/>\"),\n",
       " Interval(870.190593303, 870.831153185, \"{F äh} ja\"),\n",
       " Interval(875.237166427, 875.912351167, \"<v='ein'>'n</v> An-\"),\n",
       " Interval(877.808062169, 878.268504136, \"nee\"),\n",
       " Interval(878.779220799, 879.809310339, \"nee <v='das'>det</v> brauchen wir <v='nicht'>nich'</v>\"),\n",
       " Interval(885.939572883, 888.752842635, \"<laughter/><laughterOffset/>\"),\n",
       " Interval(894.528200379, 898.293653739, \"häh ( wir haben doch unsere Zimmer . <p='jeweils'>jewei-</p> + ) also Flur ist hier und unsere Zimmer hier\"),\n",
       " Interval(898.414840744, 899.470898928, \"wie willst du da noch <v='ein'>'n</v> -\"),\n",
       " Interval(904.276760635, 904.891351873, \"<unclear/>\"),\n",
       " Interval(907.93833942, 912.328702825, \"ja gut aber ich finde es {F äh} irgendwie nicht logisch wenn wir . ( hier den + ( hier + ( hier + .. hier ) ) )\"),\n",
       " Interval(912.778825985, 918.000185994, \"( nein <p='wir'>w-</p> + nein wir ) haben . hier das Zimmer . ( da die + .. da den ) Flur . und hier <v='ein'>'n</v> Zimmer\"),\n",
       " Interval(919.532335982, 919.904553211, \"ja\"),\n",
       " Interval(925.775129316, 926.095409257, \"ah ja\"),\n",
       " Interval(927.350560377, 927.688152747, \"<v='ja'>jo</v>\"),\n",
       " Interval(930.215767417, 930.613953289, \"zehn\"),\n",
       " Interval(931.635386614, 932.094165989, \"zehn\"),\n",
       " Interval(933.827071506, 934.043476871, \"ja\"),\n",
       " Interval(935.10819127, 936.320061317, \"( dann <v='haben'>ham</v> + dann <v='haben'>ham</v> ) <v='wir'>wa</v> hundert\"),\n",
       " Interval(937.350150857, 940.726074559, \"jetzt brauchen wir noch Küche ... Bad\"),\n",
       " Interval(942.658073012, 943.826661985, \"Küche Bad brauchen wir noch ne\"),\n",
       " Interval(948.137456867, 949.008418087, \"<laughter> ja  </laughter>\"),\n",
       " Interval(951.374820304, 953.16470239, \"<laughter>ja ja genau</laughter><laughterOffset/>\"),\n",
       " Interval(958.874488181, 960.519168959, \"ja wir wollen also vier <v='würde'>würd'</v> ich sagen\"),\n",
       " Interval(960.631699749, 961.263603417, \"vier ist schön\"),\n",
       " Interval(962.172505952, 963.972998593, \"und dann brauchen wir dazu auch noch die passende Dusche\"),\n",
       " Interval(967.87861398, 969.012578095, \"ja also s:echzig\"),\n",
       " Interval(969.791637411, 974.528249401, \"man kann das ja auch irgendwie noch so baulich voneinander so mit ( <p>k-</p> + ) irgendwelchen halboffenen Wänden oder so abtrennen\"),\n",
       " Interval(975.991149672, 976.164273964, \"ja\"),\n",
       " Interval(979.903758681, 981.470533527, \"dann . jetzt noch die . Küche\"),\n",
       " Interval(982.381098654, 982.632128879, \"ja\"),\n",
       " Interval(983.800717852, 987.16798534, \"<laughter> boah die Küche vierzig Quadratmeter </laughter> <laughterOffset/> na gut ja ja gut\"),\n",
       " Interval(992.726937719, 995.263208603, \"ja jeder kann ja sein Zimmer . einrichten . wie er will\"),\n",
       " Interval(995.44498911, 995.765269051, \"genau\"),\n",
       " Interval(1002.61399741, 1006.32051986, \"ja gut ( ich hab <v='ein'>'n</v> + ... ich hab <v='ein'>'n</v> ) Bett ich <laughter> hab' <v='einen'>'nen</v> Schrank </laughter> <laughterOffset/>\"),\n",
       " Interval(1014.64946092, 1014.91780357, \"ja\"),\n",
       " Interval(1014.96108464, 1015.75745639, \"genau wir müssen\"),\n",
       " Interval(1015.87864339, 1016.06908011, \"ja\"),\n",
       " Interval(1016.50189085, 1016.67501514, \"ja\"),\n",
       " Interval(1017.25498152, 1017.80032304, \"dunkel ?\"),\n",
       " Interval(1020.21706951, 1023.20346355, \"<laughter/> also ( du + {F äh} willst du ) schwarzes Parkett haben ?\"),\n",
       " Interval(1028.03363131, 1028.76940956, \"ja gut okay\"),\n",
       " Interval(1029.34071972, 1029.71293695, \"okay\"),\n",
       " Interval(1030.56207728, 1032.84731794, \"aber dann auch ( <p='noch'>no-</p> + ( noch <v='ein'>'n</v> + noch <v='ein'>'n</v> ) ) ( <p='paar'>p-</p> + paar ) <v='Teppiche'>Teppige</v>\"),\n",
       " Interval(1036.10371723, 1037.15977541, \"nei:n nein nein\"),\n",
       " Interval(1037.69646072, 1038.36368714, \"ja ja genau\"),\n",
       " Interval(1038.36368714, 1038.70058161, \"ja ja\"),\n",
       " Interval(1038.94295562, 1039.13339235, \"ja\"),\n",
       " Interval(1040.09423217, 1040.9425412, \"und dann: ja\"),\n",
       " Interval(1045.25499867, 1045.61855969, \"ja\"),\n",
       " Interval(1046.51014979, 1047.06414753, \"( wie + {F äh } wie ) ?\"),\n",
       " Interval(1050.7793262, 1052.12103946, \"ja das ist mir ja egal\"),\n",
       " Interval(1055.82589932, 1056.81270779, \"weiße Fliesen ?\"),\n",
       " Interval(1060.48460538, 1060.74429182, \"ja\"),\n",
       " Interval(1062.24181695, 1062.44090988, \"ja\"),\n",
       " Interval(1064.64824461, 1065.5311785, \"{F äh:m:}\"),\n",
       " Interval(1066.5456182, 1066.92649165, \"Küche\"),\n",
       " Interval(1067.93926876, 1069.17710745, \"ja auch irgendwie auch\"),\n",
       " Interval(1070.54478936, 1071.52294161, \"auch irgendwie Fliesen\"),\n",
       " Interval(1071.54025404, 1074.83127819, \"( aber ich <p='finde'>find-</p> + { also } ich finde ) so ( diese + <mp type='creaky'> ( <p='diese'>die-</p> + </mp> diese ) ) amerikanischen Küchen\"),\n",
       " Interval(1077.00398806, 1077.31561179, \"ja\"),\n",
       " Interval(1078.07735867, 1080.53572362, \"und {F äh} {F äh} ( halt <p='so'>s</p>- + in der Mitte halt so )\"),\n",
       " Interval(1081.55016333, 1082.06953621, \"ja ja genau\"),\n",
       " Interval(1082.25131671, 1083.89599749, \"ja ja ( <p='das'>d-</p> + { also } das ) <v='finde'>find</v> ich\"),\n",
       " Interval(1085.70514635, 1086.05139493, \"ja\"),\n",
       " Interval(1087.99904322, 1088.98585169, \"nee: also\"),\n",
       " Interval(1090.70144477, 1091.65362838, \"( keine + keine ) Ahnung\"),\n",
       " Interval(1094.10333712, 1096.23276592, \"vielleicht rot-orange in dem Bereich\"),\n",
       " Interval(1097.33210517, 1097.74760348, \"also\"),\n",
       " Interval(1099.79213272, 1100.59716068, \"gut was fehlt denn -\"),\n",
       " Interval(1101.02997141, 1102.39765332, \"oh ja oh das ist schwierig\"),\n",
       " Interval(1103.69608551, 1106.8312978, \"also wir brauchen ( auf <p='mega'>m-</p> + (auf  + auf ) ) jeden Fall erstmal <v='ein'> 'n </v> mega Fernseher\"),\n",
       " Interval(1108.53657208, 1108.7876023, \"ja\"),\n",
       " Interval(1117.27235522, 1118.8345035, \"stimmt ja ja <laughter>genau</laughter> <laughterOffset/>\"),\n",
       " Interval(1118.83913007, 1120.84737186, \"ja ja ( und + und ) die passende Soundanlage dazu\"),\n",
       " Interval(1121.16065818, 1123.13427511, \"( <unsure> und <v='ein'>'n</v> </unsure> + und ) dann brauchen wir aber auf der anderen Seite\"),\n",
       " Interval(1127.91250559, 1128.58170831, \"<v='gehe'>geh'</v> ich mal von aus\"),\n",
       " Interval(1128.58170831, 1129.47928043, \"( <v='hoffe'><p='hoff'>ho-</p></v> + <v='hoffe'>hoff'</v> ) ich doch mal\"),\n",
       " Interval(1129.9397224, 1130.44178285, \"{F ähm:}\"),\n",
       " Interval(1132.42405599, 1133.16849045, \"ja ja genau\"),\n",
       " Interval(1137.30782363, 1138.69281797, \"ja: ja ja genau so\"),\n",
       " Interval(1140.23362418, 1140.57987276, \"Mhm\"),\n",
       " Interval(1144.13677398, 1144.67426228, \"{F ähm}\"),\n",
       " Interval(1145.77526413, 1146.32989172, \"ja auf jeden\"),\n",
       " Interval(1146.32989172, 1149.15118783, \"dann brauchen wir auch noch auf der anderen Seite ( <p='jedenweils'>jedenwei-</p> + jeweils ) so <v='ein'>'n</v> fettes Sofa\"),\n",
       " Interval(1152.06833215, 1152.37129967, \"Mhm\"),\n",
       " Interval(1159.18540317, 1159.81244, \"<laughter> was ? </laughter>\"),\n",
       " Interval(1160.7789827, 1162.10421009, \"<laughter/> <laughter> wegen der <p='Photosynthese'>Photosyn-</p> </laughter>\"),\n",
       " Interval(1162.26002195, 1163.30742392, \"ja ( aber ich + also ich )\"),\n",
       " Interval(1164.91747984, 1170.35524521, \"so vom Wohnzimmerstil her <v='würde'>würd'</v> ich das ( eher so: + ... ( eher + ( eher + eher ) ) ) modern einrichten also eher so -\"),\n",
       " Interval(1178.77940463, 1179.37668344, \"ja das passt\"),\n",
       " Interval(1181.20314472, 1181.48879981, \"ja\"),\n",
       " Interval(1182.36307748, 1182.54485799, \"ja\"),\n",
       " Interval(1184.10297662, 1188.45871517, \"( <p='aber'>a-</p> + aber ) so diesen ganzen ( <p='modischen'>mo-</p> + modischen ) Einrichtungskram so das meiste musst du sowieso machen\"),\n",
       " Interval(1188.72705782, 1192.29341825, \"weil das bei mir <laughter> dann immer total kahl und kalt aussieht </laughter> <laughterOffset/>\"),\n",
       " Interval(1192.71757276, 1192.98591542, \"ja\"),\n",
       " Interval(1193.58485682, 1194.2254167, \"{F äh} ja\"),\n",
       " Interval(1200.86639591, 1201.87917302, \"oh ja verdammt\"),\n",
       " Interval(1202.77076312, 1203.6450408, \"wieviel Qua- <v='haben wir'> hamwa </v>\"),\n",
       " Interval(1209.92245899, 1211.7056392, \"hatten wir nicht <v='eine'>'ne</v> Vierzig-Quadratmeter-Küche ?\"),\n",
       " Interval(1213.02138383, 1216.70027504, \"moment wir hatten fünfundzwanzig . und fünfundzwanzig .. sind fünfzig\"),\n",
       " Interval(1217.54159045, 1218.26871248, \"dann hatten wir\"),\n",
       " Interval(1221.76582318, 1222.30250849, \"zehn\"),\n",
       " Interval(1223.80868984, 1226.14753038, \"zehn war Ankleide ( <p='dann'>da-</p> + ( <p='dann'>da-</p>  + ( <p='dann'>da-</p> + dann ) ) ) sind wir bei sechzig\"),\n",
       " Interval(1226.67555947, 1229.22914278, \"( zehn <p='brauchen'>brau-</p> + zehn brauchen ) wir ( <unsure><p>au-</p></unsure> + <v='ein'>'n</v> Flur brauchen wir ja auch ) noch\"),\n",
       " Interval(1230.57951226, 1232.1982244, \"zehn brauchen wir für den Flur\"),\n",
       " Interval(1233.36847596, 1236.13846464, \"dann ( sind wir + sind wir ) bei ... siebzig\"),\n",
       " Interval(1241.28191872, 1242.38991419, \"{F äh:m:}\"),\n",
       " Interval(1243.36806644, 1246.64011557, \"Bad wollten wir sechzig machen wären wir bei (hundertzeh:n + . {nee} hundertdreißig)\"),\n",
       " Interval(1251.57582049, 1252.85350321, \"wir brauchen ja noch die Küche / woll-\"),\n",
       " Interval(1253.90577748, 1254.47565239, \"Küche\"),\n",
       " Interval(1256.97896101, 1257.78398897, \"nee <laughter/>\"),\n",
       " Interval(1261.8870347, 1262.94309288, \"gut dann wären wir jetzt bei ?\"),\n",
       " Interval(1265.6801193, 1266.96123906, \"( fünfund- + fünfundfünzig )\"),\n",
       " Interval(1269.44557266, 1270.10344497, \"was fehlt denn jetzt noch\"),\n",
       " Interval(1272.17228026, 1272.87343365, \"und die Küche\"),\n",
       " Interval(1274.26009058, 1275.36808605, \"{F äh:} das Bad\"),\n",
       " Interval(1277.4715462, 1277.705264, \"hatten\"),\n",
       " Interval(1279.11622698, 1279.72545612, \"<laughter> okay </laughter>\"),\n",
       " Interval(1279.72545612, 1281.18506228, \"<laughterOffset/>\"),\n",
       " Interval(1283.13437316, 1283.8095579, \"ja okay\"),\n",
       " Interval(1289.8532583, 1290.13891338, \"ja\"),\n",
       " Interval(1290.2687566, 1292.6405594, \"aber ich will: dann: . eher . Abendsonne\"),\n",
       " Interval(1293.93033538, 1295.21145515, \"ich will dann eher Abendsonne\"),\n",
       " Interval(1296.81285485, 1297.76503846, \"als morgens Sonne\"),\n",
       " Interval(1300.92621939, 1302.97774225, \"ja ja genau (so + (so + so)) glasmäßig\"),\n",
       " Interval(1303.27205355, 1306.94395114, \"so dass man da so <v='ein'>'n</v> bisschen rausgucken kann und ( dann + dann ) halt so schön grillen kann <unclear/>\"),\n",
       " Interval(1308.00908119, 1308.18220548, \"ja\"),\n",
       " Interval(1310.40685264, 1310.67519529, \"{F mh}\")]"
      ]
     },
     "execution_count": 32,
     "metadata": {},
     "output_type": "execute_result"
    }
   ],
   "source": [
    "aa_intervals = aa.intervals\n",
    "aa_intervals"
   ]
  },
  {
   "cell_type": "code",
   "execution_count": 68,
   "id": "6a2f8495-e4cb-43d1-bdb2-d73950e37d66",
   "metadata": {
    "tags": []
   },
   "outputs": [],
   "source": [
    "df_intervals = pd.DataFrame(aa_intervals, columns = ['Interval'])\n",
    "df_intervals.to_csv('r1_a_all_intervals.csv')"
   ]
  },
  {
   "cell_type": "code",
   "execution_count": 73,
   "id": "56e76945-cc46-4b4a-99c3-9468c3b0f60e",
   "metadata": {
    "tags": []
   },
   "outputs": [],
   "source": [
    "df_partials = pd.DataFrame(aa_partial, columns = ['Partial'])\n",
    "df_partials.to_csv('r1_a_partials.csv')"
   ]
  },
  {
   "cell_type": "code",
   "execution_count": null,
   "id": "ce9e17b2-8eaf-4328-bdaa-0e7b1ef058e7",
   "metadata": {},
   "outputs": [],
   "source": [
    "# parse + {pluses}\n",
    "# get start time of utterances containing + (this will not give me the exact disfluency time)"
   ]
  }
 ],
 "metadata": {
  "kernelspec": {
   "display_name": "Python 3 (ipykernel)",
   "language": "python",
   "name": "python3"
  },
  "language_info": {
   "codemirror_mode": {
    "name": "ipython",
    "version": 3
   },
   "file_extension": ".py",
   "mimetype": "text/x-python",
   "name": "python",
   "nbconvert_exporter": "python",
   "pygments_lexer": "ipython3",
   "version": "3.7.3"
  }
 },
 "nbformat": 4,
 "nbformat_minor": 5
}
