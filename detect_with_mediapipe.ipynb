{
 "cells": [
  {
   "cell_type": "code",
   "execution_count": 1,
   "id": "38627e22-4152-4d6f-8734-dee0c25dd1e2",
   "metadata": {
    "tags": []
   },
   "outputs": [
    {
     "name": "stderr",
     "output_type": "stream",
     "text": [
      "objc[3544]: Class CaptureDelegate is implemented in both /Users/ecemozkan/venv_mp/lib/python3.10/site-packages/mediapipe/.dylibs/libopencv_videoio.3.4.16.dylib (0x105d74860) and /Users/ecemozkan/venv_mp/lib/python3.10/site-packages/cv2/cv2.abi3.so (0x2865e2840). One of the two will be used. Which one is undefined.\n",
      "objc[3544]: Class CVWindow is implemented in both /Users/ecemozkan/venv_mp/lib/python3.10/site-packages/mediapipe/.dylibs/libopencv_highgui.3.4.16.dylib (0x103160a68) and /Users/ecemozkan/venv_mp/lib/python3.10/site-packages/cv2/cv2.abi3.so (0x2865e2890). One of the two will be used. Which one is undefined.\n",
      "objc[3544]: Class CVView is implemented in both /Users/ecemozkan/venv_mp/lib/python3.10/site-packages/mediapipe/.dylibs/libopencv_highgui.3.4.16.dylib (0x103160a90) and /Users/ecemozkan/venv_mp/lib/python3.10/site-packages/cv2/cv2.abi3.so (0x2865e28b8). One of the two will be used. Which one is undefined.\n",
      "objc[3544]: Class CVSlider is implemented in both /Users/ecemozkan/venv_mp/lib/python3.10/site-packages/mediapipe/.dylibs/libopencv_highgui.3.4.16.dylib (0x103160ab8) and /Users/ecemozkan/venv_mp/lib/python3.10/site-packages/cv2/cv2.abi3.so (0x2865e28e0). One of the two will be used. Which one is undefined.\n"
     ]
    }
   ],
   "source": [
    "import mediapipe_detection"
   ]
  },
  {
   "cell_type": "code",
   "execution_count": null,
   "id": "0643a332-9224-4c9f-b352-206b98181f2f",
   "metadata": {
    "tags": []
   },
   "outputs": [
    {
     "name": "stderr",
     "output_type": "stream",
     "text": [
      "OpenCV: FFMPEG: tag 0x44495658/'XVID' is not supported with codec id 12 and format 'mp4 / MP4 (MPEG-4 Part 14)'\n",
      "OpenCV: FFMPEG: fallback to use tag 0x7634706d/'mp4v'\n",
      "INFO: Created TensorFlow Lite XNNPACK delegate for CPU.\n"
     ]
    }
   ],
   "source": [
    "mediapipe_detection.detect_pose_write_to_video_and_csv('5', 'b')"
   ]
  },
  {
   "cell_type": "code",
   "execution_count": null,
   "id": "3d59f4e5-4abc-4ac9-a67e-475bb79d3de4",
   "metadata": {},
   "outputs": [],
   "source": []
  }
 ],
 "metadata": {
  "kernelspec": {
   "display_name": "Python 3 (ipykernel)",
   "language": "python",
   "name": "python3"
  },
  "language_info": {
   "codemirror_mode": {
    "name": "ipython",
    "version": 3
   },
   "file_extension": ".py",
   "mimetype": "text/x-python",
   "name": "python",
   "nbconvert_exporter": "python",
   "pygments_lexer": "ipython3",
   "version": "3.10.11"
  }
 },
 "nbformat": 4,
 "nbformat_minor": 5
}
